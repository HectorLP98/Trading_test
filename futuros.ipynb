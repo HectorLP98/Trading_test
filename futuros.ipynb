{
 "cells": [
  {
   "cell_type": "code",
   "execution_count": 2,
   "metadata": {},
   "outputs": [],
   "source": [
    "#from binance.cm_futures import CMFutures\n",
    "\n",
    "import pandas as pd\n",
    "import sqlite3\n",
    "from datetime import datetime, timedelta\n",
    "from fechas import *\n"
   ]
  },
  {
   "cell_type": "code",
   "execution_count": 3,
   "metadata": {},
   "outputs": [],
   "source": [
    "apy_key, secret_key = get_credentials()"
   ]
  },
  {
   "cell_type": "code",
   "execution_count": null,
   "metadata": {},
   "outputs": [],
   "source": [
    "from binance.cm_futures import CMFutures\n",
    "\n",
    "cm_futures_client = CMFutures()\n",
    "\n",
    "# get server time\n",
    "print(cm_futures_client.time())\n",
    "\n",
    "cm_futures_client = CMFutures(key=apy_key, secret=secret_key)\n",
    "\n",
    "# Get account information\n",
    "print(cm_futures_client.account())"
   ]
  },
  {
   "cell_type": "code",
   "execution_count": null,
   "metadata": {},
   "outputs": [],
   "source": [
    "def extract_symbols(cm_futures_client):\n",
    "    info = cm_futures_client.exchange_info()\n",
    "    simbolos = []\n",
    "    for element in info['symbols']:\n",
    "        simbolos.append(element['symbol'])\n",
    "    return simbolos"
   ]
  },
  {
   "cell_type": "code",
   "execution_count": null,
   "metadata": {},
   "outputs": [],
   "source": [
    "len(simbolos)"
   ]
  },
  {
   "cell_type": "code",
   "execution_count": null,
   "metadata": {},
   "outputs": [],
   "source": [
    "symbol = simbolos[1]\n",
    "interval = '1d'\n",
    "start = fecha_a_milisegundos('2023-01-01 00:00:00')\n",
    "start"
   ]
  },
  {
   "cell_type": "code",
   "execution_count": null,
   "metadata": {},
   "outputs": [],
   "source": [
    "cm_futures_client.klines(symbol=symbol , interval=interval, limit=1000,startTime=start )"
   ]
  }
 ],
 "metadata": {
  "kernelspec": {
   "display_name": "hlp",
   "language": "python",
   "name": "python3"
  },
  "language_info": {
   "codemirror_mode": {
    "name": "ipython",
    "version": 3
   },
   "file_extension": ".py",
   "mimetype": "text/x-python",
   "name": "python",
   "nbconvert_exporter": "python",
   "pygments_lexer": "ipython3",
   "version": "3.9.12"
  },
  "orig_nbformat": 4
 },
 "nbformat": 4,
 "nbformat_minor": 2
}
