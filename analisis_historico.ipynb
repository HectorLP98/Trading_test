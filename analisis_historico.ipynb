{
 "cells": [
  {
   "cell_type": "code",
   "execution_count": 7,
   "metadata": {},
   "outputs": [],
   "source": [
    "import pandas as pd \n",
    "from conexion import open_conexion_get,desencriptar_archivo, obtener_ip_publica\n",
    "from fechas import *\n",
    "from datetime import timedelta\n",
    "from fn_prep import *\n",
    "import ta\n",
    "import matplotlib.pyplot as plt\n",
    "from Datasets import *\n",
    "from binance.spot import Spot\n",
    "# Prueba de hipotesis\n",
    "\n",
    "import numpy as np\n",
    "from plotting import *"
   ]
  },
  {
   "cell_type": "code",
   "execution_count": null,
   "metadata": {},
   "outputs": [],
   "source": [
    "obtener_ip_publica()"
   ]
  },
  {
   "cell_type": "code",
   "execution_count": null,
   "metadata": {},
   "outputs": [],
   "source": [
    "sucesion_fib(4)"
   ]
  },
  {
   "cell_type": "code",
   "execution_count": 5,
   "metadata": {},
   "outputs": [],
   "source": [
    "# Lee la clave hash para desencriptar\n",
    "with open('/home/hector/Documentos/Escuelas/Autodidacta/Trading/Data/clave.key', 'r') as clave_file:\n",
    "    clave = clave_file.read()\n",
    "# Lee las contraseñas del archivo encriptado y muestra el resultado deseado\n",
    "contraseñas = desencriptar_archivo('Data/credenciales.txt', clave)\n",
    "cliente = Spot(key=contraseñas[\"APY_KEY_B\"],secret=contraseñas[\"SECRET_KEY_B\"])"
   ]
  },
  {
   "cell_type": "code",
   "execution_count": 3,
   "metadata": {},
   "outputs": [],
   "source": [
    "con = open_conexion_get('HectorLP5',contraseñas['MYSQL_PASSW'],database='BNB')"
   ]
  },
  {
   "cell_type": "code",
   "execution_count": null,
   "metadata": {},
   "outputs": [],
   "source": [
    "intervalos = [\"1d\",\"12h\",\"8h\",\"6h\",\"4h\",\"2h\",\"1h\"]\n",
    "simbolos = ['BTCUSDT','TRXUSDT',\"BNBUSDT\",\"XRPUSDT\",\"ETHUSDT\"]\n",
    "# BNB: ['BNBBTC', 'BNBETH', 'BNBUSDT', 'BNBTUSD', 'BNBUSDC', 'BNBBUSD',\n",
    "#       'BNBRUB', 'BNBTRY', 'BNBEUR', 'BNBGBP', 'BNBBIDR', 'BNBDAI',\n",
    "#       'BNBBRL', 'BNBUAH', 'BNBFDUSD']"
   ]
  },
  {
   "cell_type": "code",
   "execution_count": 16,
   "metadata": {},
   "outputs": [
    {
     "data": {
      "text/plain": [
       "(8192, 10)"
      ]
     },
     "execution_count": 16,
     "metadata": {},
     "output_type": "execute_result"
    }
   ],
   "source": [
    "# Generar un dataframe de Binance\n",
    "symbol = \"BTCUSDT\"\n",
    "interval = \"4h\"\n",
    "type_upload = 'manual' # ['auto','manual']\n",
    "date_start = '2020-01-01 00:00:00' # En caso de que type_update==manual especificar \n",
    "format_date_start = '%Y-%m-%d %H:%M:%S' # Poner conforme al date_start, en caso de ser auto, no mover\n",
    "table_name = symbol +'_'+ interval\n",
    "\n",
    "\n",
    "\n",
    "df = generate_dataset(cliente, symbol, interval,\n",
    "                     date_start,fecha_format=format_date_start,\n",
    "                    type_upload=type_upload,\n",
    "                    con=None,table_name=None)\n",
    "df.Name = table_name\n",
    "df.Close_Time = df.Close_Time #+ timedelta(seconds=1)\n",
    "# Hacer index la fecha\n",
    "df = df.set_index(\"Close_Time\")\n",
    "# Borramos col ignore\n",
    "df.drop(columns='Ignore',inplace=True)\n",
    "# Hacer respaldo \n",
    "df_respaldo = df.copy()\n",
    "df.shape"
   ]
  },
  {
   "cell_type": "code",
   "execution_count": 13,
   "metadata": {},
   "outputs": [],
   "source": []
  },
  {
   "cell_type": "code",
   "execution_count": null,
   "metadata": {},
   "outputs": [],
   "source": [
    "# Cargar base de MySQL\n",
    "interval = \"4h\"\n",
    "symbol = \"BNBETH\"\n",
    "table_name = symbol +'_'+ interval\n",
    "#con = sqlite3.connect('Data/'+symbol)\n",
    "\n",
    "df = pd.read_sql_query(f\"\"\"\n",
    "                      SELECT *\n",
    "                      FROM {table_name}\n",
    "                      \"\"\", con)\n",
    "\n",
    "df.Name = table_name\n",
    "df.Close_Time = df.Close_Time #+ timedelta(seconds=1)\n",
    "# Hacer index la fecha\n",
    "df = df.set_index(\"Close_Time\")\n",
    "# Hacer respaldo \n",
    "df_respaldo = df.copy()\n",
    "df.shape"
   ]
  },
  {
   "cell_type": "code",
   "execution_count": 17,
   "metadata": {},
   "outputs": [
    {
     "data": {
      "text/html": [
       "<div>\n",
       "<style scoped>\n",
       "    .dataframe tbody tr th:only-of-type {\n",
       "        vertical-align: middle;\n",
       "    }\n",
       "\n",
       "    .dataframe tbody tr th {\n",
       "        vertical-align: top;\n",
       "    }\n",
       "\n",
       "    .dataframe thead th {\n",
       "        text-align: right;\n",
       "    }\n",
       "</style>\n",
       "<table border=\"1\" class=\"dataframe\">\n",
       "  <thead>\n",
       "    <tr style=\"text-align: right;\">\n",
       "      <th></th>\n",
       "      <th>Open_Time</th>\n",
       "      <th>Open</th>\n",
       "      <th>High</th>\n",
       "      <th>Low</th>\n",
       "      <th>Close</th>\n",
       "      <th>Volumne</th>\n",
       "      <th>Quote_asset_vol</th>\n",
       "      <th>Number_trades</th>\n",
       "      <th>Taker_buy_base</th>\n",
       "      <th>Taker_buy_quote</th>\n",
       "    </tr>\n",
       "    <tr>\n",
       "      <th>Close_Time</th>\n",
       "      <th></th>\n",
       "      <th></th>\n",
       "      <th></th>\n",
       "      <th></th>\n",
       "      <th></th>\n",
       "      <th></th>\n",
       "      <th></th>\n",
       "      <th></th>\n",
       "      <th></th>\n",
       "      <th></th>\n",
       "    </tr>\n",
       "  </thead>\n",
       "  <tbody>\n",
       "    <tr>\n",
       "      <th>2023-09-26 21:59:59.999</th>\n",
       "      <td>2023-09-26 18:00:00</td>\n",
       "      <td>26221.68</td>\n",
       "      <td>26289.50</td>\n",
       "      <td>26202.96</td>\n",
       "      <td>26278.04</td>\n",
       "      <td>1904.53237</td>\n",
       "      <td>4.998194e+07</td>\n",
       "      <td>84392</td>\n",
       "      <td>887.50255</td>\n",
       "      <td>2.329062e+07</td>\n",
       "    </tr>\n",
       "    <tr>\n",
       "      <th>2023-09-27 01:59:59.999</th>\n",
       "      <td>2023-09-26 22:00:00</td>\n",
       "      <td>26278.03</td>\n",
       "      <td>26289.00</td>\n",
       "      <td>26231.74</td>\n",
       "      <td>26246.34</td>\n",
       "      <td>1738.93762</td>\n",
       "      <td>4.565430e+07</td>\n",
       "      <td>79969</td>\n",
       "      <td>734.60798</td>\n",
       "      <td>1.928626e+07</td>\n",
       "    </tr>\n",
       "    <tr>\n",
       "      <th>2023-09-27 05:59:59.999</th>\n",
       "      <td>2023-09-27 02:00:00</td>\n",
       "      <td>26246.35</td>\n",
       "      <td>26848.07</td>\n",
       "      <td>26223.72</td>\n",
       "      <td>26766.70</td>\n",
       "      <td>10440.36160</td>\n",
       "      <td>2.768317e+08</td>\n",
       "      <td>237529</td>\n",
       "      <td>5434.63479</td>\n",
       "      <td>1.440582e+08</td>\n",
       "    </tr>\n",
       "    <tr>\n",
       "      <th>2023-09-27 09:59:59.999</th>\n",
       "      <td>2023-09-27 06:00:00</td>\n",
       "      <td>26766.69</td>\n",
       "      <td>26850.00</td>\n",
       "      <td>26169.38</td>\n",
       "      <td>26304.42</td>\n",
       "      <td>13541.28007</td>\n",
       "      <td>3.586627e+08</td>\n",
       "      <td>291035</td>\n",
       "      <td>6286.40168</td>\n",
       "      <td>1.664442e+08</td>\n",
       "    </tr>\n",
       "    <tr>\n",
       "      <th>2023-09-27 13:59:59.999</th>\n",
       "      <td>2023-09-27 10:00:00</td>\n",
       "      <td>26304.42</td>\n",
       "      <td>26313.79</td>\n",
       "      <td>26112.06</td>\n",
       "      <td>26161.45</td>\n",
       "      <td>2922.46237</td>\n",
       "      <td>7.665501e+07</td>\n",
       "      <td>87275</td>\n",
       "      <td>1374.20747</td>\n",
       "      <td>3.604792e+07</td>\n",
       "    </tr>\n",
       "  </tbody>\n",
       "</table>\n",
       "</div>"
      ],
      "text/plain": [
       "                                  Open_Time      Open      High       Low  \\\n",
       "Close_Time                                                                  \n",
       "2023-09-26 21:59:59.999 2023-09-26 18:00:00  26221.68  26289.50  26202.96   \n",
       "2023-09-27 01:59:59.999 2023-09-26 22:00:00  26278.03  26289.00  26231.74   \n",
       "2023-09-27 05:59:59.999 2023-09-27 02:00:00  26246.35  26848.07  26223.72   \n",
       "2023-09-27 09:59:59.999 2023-09-27 06:00:00  26766.69  26850.00  26169.38   \n",
       "2023-09-27 13:59:59.999 2023-09-27 10:00:00  26304.42  26313.79  26112.06   \n",
       "\n",
       "                            Close      Volumne  Quote_asset_vol  \\\n",
       "Close_Time                                                        \n",
       "2023-09-26 21:59:59.999  26278.04   1904.53237     4.998194e+07   \n",
       "2023-09-27 01:59:59.999  26246.34   1738.93762     4.565430e+07   \n",
       "2023-09-27 05:59:59.999  26766.70  10440.36160     2.768317e+08   \n",
       "2023-09-27 09:59:59.999  26304.42  13541.28007     3.586627e+08   \n",
       "2023-09-27 13:59:59.999  26161.45   2922.46237     7.665501e+07   \n",
       "\n",
       "                         Number_trades  Taker_buy_base  Taker_buy_quote  \n",
       "Close_Time                                                               \n",
       "2023-09-26 21:59:59.999          84392       887.50255     2.329062e+07  \n",
       "2023-09-27 01:59:59.999          79969       734.60798     1.928626e+07  \n",
       "2023-09-27 05:59:59.999         237529      5434.63479     1.440582e+08  \n",
       "2023-09-27 09:59:59.999         291035      6286.40168     1.664442e+08  \n",
       "2023-09-27 13:59:59.999          87275      1374.20747     3.604792e+07  "
      ]
     },
     "execution_count": 17,
     "metadata": {},
     "output_type": "execute_result"
    }
   ],
   "source": [
    "df = df_respaldo.copy()\n",
    "\n",
    "# Analizar del 2022 al ultimo\n",
    "df = df[df.index > '2020-01-01']\n",
    "df.tail()\n"
   ]
  },
  {
   "cell_type": "code",
   "execution_count": 18,
   "metadata": {},
   "outputs": [
    {
     "name": "stdout",
     "output_type": "stream",
     "text": [
      "<class 'pandas.core.frame.DataFrame'>\n",
      "DatetimeIndex: 8192 entries, 2020-01-01 05:59:59.999000 to 2023-09-27 13:59:59.999000\n",
      "Data columns (total 10 columns):\n",
      " #   Column           Non-Null Count  Dtype         \n",
      "---  ------           --------------  -----         \n",
      " 0   Open_Time        8192 non-null   datetime64[ns]\n",
      " 1   Open             8192 non-null   float64       \n",
      " 2   High             8192 non-null   float64       \n",
      " 3   Low              8192 non-null   float64       \n",
      " 4   Close            8192 non-null   float64       \n",
      " 5   Volumne          8192 non-null   float64       \n",
      " 6   Quote_asset_vol  8192 non-null   float64       \n",
      " 7   Number_trades    8192 non-null   int64         \n",
      " 8   Taker_buy_base   8192 non-null   float64       \n",
      " 9   Taker_buy_quote  8192 non-null   float64       \n",
      "dtypes: datetime64[ns](1), float64(8), int64(1)\n",
      "memory usage: 704.0 KB\n"
     ]
    }
   ],
   "source": [
    "df.info()"
   ]
  },
  {
   "cell_type": "code",
   "execution_count": 11,
   "metadata": {},
   "outputs": [],
   "source": [
    "\n",
    "con.close()"
   ]
  },
  {
   "attachments": {},
   "cell_type": "markdown",
   "metadata": {},
   "source": [
    "# Indicadores tecnicos"
   ]
  },
  {
   "attachments": {},
   "cell_type": "markdown",
   "metadata": {},
   "source": [
    "## Media  movil \n",
    "\n",
    "Trend Indicators \n",
    "\n",
    "These indicators help traders identify the direction and strength of a market trend. They typically measure the asset's price movement over time and help traders determine if a trend is bullish (upward) or bearish (downward).\n",
    "\n",
    "Example: Moving Averages (MA)\n",
    "Moving averages smooth out price data by calculating the average price of an asset over a specified time period. Popular types of moving averages include the Simple Moving Average (SMA) and the Exponential Moving Average (EMA). Traders often use moving averages to identify trends and potential entry/exit points."
   ]
  },
  {
   "cell_type": "code",
   "execution_count": null,
   "metadata": {},
   "outputs": [],
   "source": [
    "# Version manual\n",
    "col = 'Close'\n",
    "moving_average = df[col].rolling(\n",
    "    window=365,       # 365-day window\n",
    "    center=True,      # puts the average at the center of the window\n",
    "    min_periods=183,  # choose about half the window size\n",
    ").mean()              # compute the mean (could also do median, std, min, max, ...)\n",
    "\n",
    "\n",
    "ax = df[col].plot(style=\".\", color=\"0.5\")\n",
    "moving_average.plot(\n",
    "    ax=ax, linewidth=3, title=\"Tunnel Traffic - 365-Day Moving Average\", legend=False,\n",
    ");"
   ]
  },
  {
   "cell_type": "code",
   "execution_count": 19,
   "metadata": {},
   "outputs": [
    {
     "data": {
      "text/plain": [
       "Index(['Open_Time', 'Open', 'High', 'Low', 'Close', 'Volumne',\n",
       "       'Quote_asset_vol', 'Number_trades', 'Taker_buy_base', 'Taker_buy_quote',\n",
       "       'EMA8', 'EMA13', 'EMA55', 'EMA144'],\n",
       "      dtype='object')"
      ]
     },
     "execution_count": 19,
     "metadata": {},
     "output_type": "execute_result"
    }
   ],
   "source": [
    "# Version libreria ta.\n",
    "col_use = \"Close\"\n",
    "df = put_EMA(df,col_use,periodos=[8,13,55,144])\n",
    "df.columns"
   ]
  },
  {
   "cell_type": "code",
   "execution_count": 21,
   "metadata": {},
   "outputs": [
    {
     "data": {
      "image/png": "[encoded data removed]",
      "text/plain": [
       "<Figure size 1080x576 with 1 Axes>"
      ]
     },
     "metadata": {
      "needs_background": "light"
     },
     "output_type": "display_data"
    }
   ],
   "source": [
    "# Graficar EMA's\n",
    "start_date = '2023-09-10 10:00:00'\n",
    "df_plot = df[df.index>start_date].copy()\n",
    "\n",
    "columns = [\"Close\",'EMA8', 'EMA13', 'EMA55', 'EMA144']\n",
    "\n",
    "plot_line(df_plot,columns,\n",
    "            figsize=(15, 8),title=\"EMAS\")"
   ]
  },
  {
   "attachments": {},
   "cell_type": "markdown",
   "metadata": {},
   "source": [
    "## Bandas bollinguer\n",
    "Volatility Indicators\n",
    "> These indicators measure the degree of price fluctuations and help traders gauge market sentiment and potential price breakouts.\n",
    "\n",
    "> Bollinger Bands consist of a centerline (typically an SMA) and two outer bands, which are standard deviations above and below the centerline. The bands expand and contract based on market volatility. When the bands are narrow, volatility is low, and when they widen, volatility is high. Traders use Bollinger Bands to identify potential entry/exit points and overbought/oversold conditions.\n",
    "\n",
    "\n",
    "| <img src=\"https://a.c-dn.net/b/3u3xku/trading-forex-with-bollinger-bands_body_Mainimage.png\" width=\"50%\" alt=\"BB image credit:https://www.dailyfx.com/\">|\n",
    "|:--:| \n",
    "| An example of MACD indicator *image credit: https://www.dailyfx.com/* |"
   ]
  },
  {
   "cell_type": "code",
   "execution_count": null,
   "metadata": {},
   "outputs": [],
   "source": [
    "# Version manual\n",
    "import matplotlib.pyplot as plt\n",
    "\n",
    "def calcular_bandas_bollinger(datos, ventana, desviacion):\n",
    "    datos['Media'] = datos['Close'].rolling(window=ventana).mean()\n",
    "    datos['Desviacion'] = datos['Close'].rolling(window=ventana).std()\n",
    "    datos['BandaSuperior'] = datos['Media'] + (datos['Desviacion'] * desviacion)\n",
    "    datos['BandaInferior'] = datos['Media'] - (datos['Desviacion'] * desviacion)\n",
    "    return datos\n",
    "\n",
    "def analizar_bandas(datos,col_use='Close'):\n",
    "    señales = []\n",
    "    for i in range(len(datos)):\n",
    "        if datos[col_use][i] > datos['BandaSuperior'][i]:\n",
    "            señales.append('Venta')\n",
    "        elif datos[col_use][i] < datos['BandaInferior'][i]:\n",
    "            señales.append('Compra')\n",
    "        else:\n",
    "            señales.append('Esperar')\n",
    "    return señales\n",
    "\n",
    "\n",
    "# Parámetros de las Bandas Bollinger\n",
    "ventana = 3\n",
    "desviacion = 2\n",
    "col_use = 'Close'\n",
    "\n",
    "# Calcular las Bandas Bollinger\n",
    "df_bb = calcular_bandas_bollinger(df, ventana, desviacion)\n",
    "\n",
    "# Analizar señales de compra/venta\n",
    "df_bb['Señal'] = analizar_bandas(df)\n",
    "\n",
    "# Imprimir el DataFrame con las Bandas Bollinger y las señales\n",
    "#print(df)\n",
    "\n",
    "# Graficar las Bandas Bollinger\n",
    "plt.figure(figsize=(10, 6))\n",
    "plt.plot(df_bb.index, df_bb[col_use], label='Close')\n",
    "plt.plot(df_bb.index, df_bb['BandaSuperior'], label='Banda Superior')\n",
    "plt.plot(df_bb.index, df_bb['BandaInferior'], label='Banda Inferior')\n",
    "plt.legend()\n",
    "plt.title('Bandas Bollinger')\n",
    "plt.xlabel('Fecha')\n",
    "plt.ylabel('Valor')\n",
    "plt.show()"
   ]
  },
  {
   "cell_type": "code",
   "execution_count": 22,
   "metadata": {},
   "outputs": [
    {
     "data": {
      "text/plain": [
       "Index(['Open_Time', 'Open', 'High', 'Low', 'Close', 'Volumne',\n",
       "       'Quote_asset_vol', 'Number_trades', 'Taker_buy_base', 'Taker_buy_quote',\n",
       "       'EMA8', 'EMA13', 'EMA55', 'EMA144', 'BBH_indicator', 'BBL_indicator',\n",
       "       'BBH', 'BBL', 'BBA'],\n",
       "      dtype='object')"
      ]
     },
     "execution_count": 22,
     "metadata": {},
     "output_type": "execute_result"
    }
   ],
   "source": [
    "# Version libreria ta.\n",
    "col_use = 'Close'\n",
    "ventana = 20\n",
    "desviacion = 2\n",
    "\n",
    "df = put_BandasBollinguer(df,col_use,ventana, desviacion=2, put_indicator=True)\n",
    "df.columns"
   ]
  },
  {
   "cell_type": "code",
   "execution_count": 59,
   "metadata": {},
   "outputs": [
    {
     "data": {
      "image/png": "[encoded data removed]",
      "text/plain": [
       "<Figure size 1080x576 with 1 Axes>"
      ]
     },
     "metadata": {
      "needs_background": "light"
     },
     "output_type": "display_data"
    }
   ],
   "source": [
    "# Graficar las Bandas Bollinger\n",
    "start_date = '2023-09-01 10:00:00'\n",
    "df_plot = df[df.index>start_date].copy()\n",
    "\n",
    "columns = [\"Close\",'BBH', 'BBL', 'BBA']\n",
    "\n",
    "\n",
    "plot_line(df_plot,columns,\n",
    "              figsize=(15, 8),title=\"Bandas Bollinger\")"
   ]
  },
  {
   "attachments": {},
   "cell_type": "markdown",
   "metadata": {},
   "source": [
    "## MACD\n",
    "\n",
    "Momentum Indicators \n",
    "\n",
    "These indicators measure the strength and rate of change in price movements. They help traders identify potential turning points in the market and can indicate whether an asset is overbought or oversold.\n",
    "\n",
    "Example: Relative Strength Index (RSI) and MACD\n",
    "The RSI is a popular momentum oscillator that measures the speed and change of price movements on a scale of 0-100. An RSI reading below 30 typically indicates that an asset is oversold, while a reading above 70 suggests that it is overbought.\n",
    "\n",
    "The Moving Average Convergence Divergence (MACD) is a momentum indicator. It helps traders identify trend direction, potential trend reversals, and the strength of price movements. The MACD is calculated by subtracting a longer-term Exponential Moving Average (EMA) from a shorter-term EMA, usually the 26-day and 12-day EMAs, respectively. A signal line, typically the 9-day EMA of the MACD, is also plotted on the same chart."
   ]
  },
  {
   "cell_type": "code",
   "execution_count": 24,
   "metadata": {},
   "outputs": [
    {
     "data": {
      "text/plain": [
       "Index(['Open_Time', 'Open', 'High', 'Low', 'Close', 'Volumne',\n",
       "       'Quote_asset_vol', 'Number_trades', 'Taker_buy_base', 'Taker_buy_quote',\n",
       "       'EMA8', 'EMA13', 'EMA55', 'EMA144', 'BBH_indicator', 'BBL_indicator',\n",
       "       'BBH', 'BBL', 'BBA', 'MACD_line', 'MACD_signal', 'MACD_diff'],\n",
       "      dtype='object')"
      ]
     },
     "execution_count": 24,
     "metadata": {},
     "output_type": "execute_result"
    }
   ],
   "source": [
    "col_use = \"Close\"\n",
    "window_slow = 26\n",
    "window_fast = 12\n",
    "window_sign = 9\n",
    "df = put_MACD(df,col_use, window_slow, window_fast, window_sign)\n",
    "df.columns"
   ]
  },
  {
   "cell_type": "code",
   "execution_count": 25,
   "metadata": {},
   "outputs": [
    {
     "data": {
      "image/png": "[encoded data removed]",
      "text/plain": [
       "<Figure size 1080x576 with 1 Axes>"
      ]
     },
     "metadata": {
      "needs_background": "light"
     },
     "output_type": "display_data"
    }
   ],
   "source": [
    "start_date = '2023-09-10 10:00:00'\n",
    "df_plot = df[df.index>start_date].copy()\n",
    "\n",
    "columns = ['MACD_line', 'MACD_signal']\n",
    "to_hist = \"MACD_diff\"\n",
    "\n",
    "plot_line(df_plot,columns,\n",
    "              figsize=(15, 8),title=\"Grafica\", make_hist_MACD=to_hist, alpha=0.8,color='b')"
   ]
  },
  {
   "attachments": {},
   "cell_type": "markdown",
   "metadata": {},
   "source": [
    "## RSI: Relative Strength Index \n"
   ]
  },
  {
   "cell_type": "code",
   "execution_count": 27,
   "metadata": {},
   "outputs": [],
   "source": [
    "col_use = \"Close\"\n",
    "window = 14\n",
    "df['RSI']=ta.momentum.RSIIndicator(close= df[col_use], window= window, fillna= False).rsi()"
   ]
  },
  {
   "cell_type": "code",
   "execution_count": 53,
   "metadata": {},
   "outputs": [
    {
     "data": {
      "image/png": "[encoded data removed]",
      "text/plain": [
       "<Figure size 1080x576 with 1 Axes>"
      ]
     },
     "metadata": {
      "needs_background": "light"
     },
     "output_type": "display_data"
    }
   ],
   "source": [
    "# ploting RSI\n",
    "start_date = '2023-08-01 10:00:00'\n",
    "df_plot = df[df.index>start_date].copy()\n",
    "rsi = (20,80)\n",
    "columns = [\"RSI\"]\n",
    "\n",
    "\n",
    "plot_line(df_plot,columns,\n",
    "              figsize=(15, 8),title=\"RSI\", rsi=rsi)"
   ]
  },
  {
   "attachments": {},
   "cell_type": "markdown",
   "metadata": {},
   "source": [
    "## Volume Indicators \n",
    "\n",
    "> These indicators analyze the trading volume to assess the strength and significance of price movements. High volume can confirm the validity of a trend or signal a reversal.\n",
    "\n",
    "> On-Balance Volume (OBV) is a cumulative indicator that adds volume on up days and subtracts volume on down days. It helps traders identify buying or selling pressure in the market. A rising OBV indicates strong buying pressure, while a falling OBV signals strong selling pressure (Un OBV en aumento indica una fuerte presión de compra, mientras que un OBV en caída indica una fuerte presión de venta.).\n",
    "4. Volatility Indicators: These indicators measure the degree of price fluctuations and help traders gauge market sentiment and potential price breakouts."
   ]
  },
  {
   "cell_type": "code",
   "execution_count": 56,
   "metadata": {},
   "outputs": [],
   "source": [
    "col_use = \"Close\"\n",
    "col_vol = \"Volumne\"\n",
    "df['OBV']= ta.volume.OnBalanceVolumeIndicator(close= df[col_use], volume= df[col_vol], fillna = False).on_balance_volume()"
   ]
  },
  {
   "cell_type": "code",
   "execution_count": 58,
   "metadata": {},
   "outputs": [
    {
     "data": {
      "image/png": "[encoded data removed]",
      "text/plain": [
       "<Figure size 1080x576 with 1 Axes>"
      ]
     },
     "metadata": {
      "needs_background": "light"
     },
     "output_type": "display_data"
    }
   ],
   "source": [
    "# ploting volumne\n",
    "start_date = '2023-09-01 10:00:00'\n",
    "df_plot = df[df.index>start_date].copy()\n",
    "\n",
    "columns = [\"OBV\"]\n",
    "\n",
    "\n",
    "plot_line(df_plot,columns,\n",
    "              figsize=(15, 8),title=\"OBV\")"
   ]
  },
  {
   "cell_type": "markdown",
   "metadata": {},
   "source": [
    "# Ingenieria de caracteristicas\n",
    "En este punto ya tenemos las columnas (cols_x_corrl) que tienen una fuerte correlacion lineal con nuestra variable a explicar, por lo que necesitamos hacer una transformacion a todas las demas que no tienen esta correlacion lineal para hacer nuestro modelo de regresion mas preciso."
   ]
  },
  {
   "cell_type": "markdown",
   "metadata": {},
   "source": [
    "## Volatilidad\n",
    "Medimos la volatilidad con el coeficiente de variacion que hay en los rendimientos"
   ]
  },
  {
   "cell_type": "code",
   "execution_count": null,
   "metadata": {},
   "outputs": [],
   "source": [
    "import tqdm\n",
    "from fn_prep import get_volatilidad"
   ]
  },
  {
   "cell_type": "code",
   "execution_count": null,
   "metadata": {},
   "outputs": [],
   "source": [
    "df = df_respaldo.copy()\n",
    "df.columns"
   ]
  },
  {
   "cell_type": "code",
   "execution_count": null,
   "metadata": {},
   "outputs": [],
   "source": [
    "columns_use = [\"Close\",\"Open\",\"High\",\"Low\"]\n",
    "list_statistics = get_volatilidad(df,columns_use)\n",
    "list_statistics"
   ]
  },
  {
   "cell_type": "code",
   "execution_count": null,
   "metadata": {},
   "outputs": [],
   "source": [
    "# Obtener la clave con el valor máximo\n",
    "clave_maxima = max(list_statistics, key=lambda k: list_statistics[k])\n",
    "clave_maxima"
   ]
  },
  {
   "cell_type": "code",
   "execution_count": null,
   "metadata": {},
   "outputs": [],
   "source": [
    "import time \n",
    "simbolos = ['BNBBTC', 'BNBETH', 'BNBUSDT', 'BNBTUSD', 'BNBUSDC', 'BNBBUSD',\n",
    "       'BNBRUB', 'BNBTRY', 'BNBEUR', 'BNBGBP', 'BNBBIDR', 'BNBDAI',\n",
    "       'BNBBRL', 'BNBUAH', 'BNBFDUSD']\n",
    "intervalos = [\"1d\",\"12h\",\"8h\",\"6h\",\"4h\",\"2h\",\"1h\"]\n",
    "cols_cv = [\"Close\",\"Open\",\"High\",\"Low\"]\n",
    "\n",
    "dict_final = {}\n",
    "for symbol in tqdm.tqdm(simbolos):\n",
    "    for interval in intervalos:\n",
    "        # NOmbre de la tabla\n",
    "        table_name = symbol+'_'+interval\n",
    "        \n",
    "        # cargamos la tabla\n",
    "        try:\n",
    "            df_aux = pd.read_sql_query(f'''\n",
    "                        SELECT *\n",
    "                        FROM {table_name}\n",
    "                        ORDER BY Open_Time \n",
    "                        ''', con)\n",
    "            df_aux.Name = table_name\n",
    "        except:\n",
    "            print('Fallo al leer ',table_name)\n",
    "            \n",
    "        # Generamos la volatilidad\n",
    "        dict_final[table_name] = get_volatilidad(df_aux,cols_cv)\n",
    "        time.sleep(1)"
   ]
  },
  {
   "cell_type": "code",
   "execution_count": null,
   "metadata": {},
   "outputs": [],
   "source": [
    "df_vol = pd.DataFrame(dict_final).T\n",
    "df_vol['Volatilidad_max']  = df_vol.apply(lambda x: max(x[df_vol.columns].values), axis=1)\n",
    "df_vol['Col_max'] = df_vol.apply(lambda x: max(x[df_vol.columns].values), axis=1).index\n"
   ]
  },
  {
   "cell_type": "code",
   "execution_count": null,
   "metadata": {},
   "outputs": [],
   "source": [
    "df_vol.loc[[valor for valor in df_vol.index if \"_1d\" in valor]].sort_values(\"Volatilidad_max\",ascending=False)"
   ]
  },
  {
   "cell_type": "code",
   "execution_count": null,
   "metadata": {},
   "outputs": [],
   "source": [
    "df_vol.loc[[valor for valor in df_vol.index if \"_4h\" in valor]].sort_values(\"Volatilidad_max\",ascending=False)"
   ]
  },
  {
   "cell_type": "code",
   "execution_count": null,
   "metadata": {},
   "outputs": [],
   "source": [
    "df_vol.loc[[valor for valor in df_vol.index if \"_4h\" in valor]].sort_values(\"Volatilidad_max\",ascending=False).plot(kind=\"bar\",y=[\"Volatilidad_max\"],)"
   ]
  },
  {
   "cell_type": "code",
   "execution_count": null,
   "metadata": {},
   "outputs": [],
   "source": [
    "n_days_ago = 6\n",
    "last_day = df_aux['Open_Time'].iloc[-1]\n",
    "ago = last_day - timedelta(days=n_days_ago)\n",
    "ago"
   ]
  },
  {
   "cell_type": "code",
   "execution_count": null,
   "metadata": {},
   "outputs": [],
   "source": [
    "df_cp_aux = change_percentual(df_aux[df_aux[\"Open_Time\"]>= ago],\"Close\",2,get_direction=False)\n",
    "df_cp_aux[[\"Close_pc_1\", \"Close_pc_2\"]].mean()"
   ]
  },
  {
   "cell_type": "code",
   "execution_count": null,
   "metadata": {},
   "outputs": [],
   "source": []
  },
  {
   "cell_type": "code",
   "execution_count": null,
   "metadata": {},
   "outputs": [],
   "source": [
    "\n",
    "df_aux.Open_Time.dt.day_name()"
   ]
  },
  {
   "attachments": {},
   "cell_type": "markdown",
   "metadata": {},
   "source": [
    "\n",
    "## Deteccion de outlayers para la variable explicativa\n",
    "\n"
   ]
  },
  {
   "attachments": {},
   "cell_type": "markdown",
   "metadata": {},
   "source": [
    "Puede usar la libreria sklear los metodos:\n",
    "```python\n",
    "- from sklearn.ensemble import IsolationForest\n",
    "```\n",
    "Crea un modelo Isolation Forest </br>\n",
    "```python\n",
    "iso_forest = IsolationForest(contamination=0.05)  # Puedes ajustar el valor de 'contamination' según tus necesidades\n",
    "\n",
    "\n",
    "- from sklearn.svm import OneClassSVM\n",
    "```\n",
    "Crea un modelo One-Class SVM</br>\n",
    "```python\n",
    "one_class_svm = OneClassSVM(nu=0.05)  # Puedes ajustar el valor de 'nu' según tus necesidades\n",
    "```"
   ]
  },
  {
   "cell_type": "code",
   "execution_count": 60,
   "metadata": {},
   "outputs": [
    {
     "data": {
      "text/plain": [
       "0.0    7917\n",
       "1.0     275\n",
       "Name: Outliyers_STD, dtype: int64"
      ]
     },
     "execution_count": 60,
     "metadata": {},
     "output_type": "execute_result"
    }
   ],
   "source": [
    "# Usando la normalizacion  (x-mu)/std\n",
    "col_use = \"Close\"\n",
    "std_tolerancia = 2\n",
    "\n",
    "df = put_outliers(df,col_use, std_tolerancia)\n",
    "df['Outliyers_STD'].value_counts()"
   ]
  },
  {
   "attachments": {},
   "cell_type": "markdown",
   "metadata": {},
   "source": [
    "## Cambio percentual y direccion para el n-esimo periodo"
   ]
  },
  {
   "cell_type": "code",
   "execution_count": 61,
   "metadata": {},
   "outputs": [
    {
     "data": {
      "text/html": [
       "<div>\n",
       "<style scoped>\n",
       "    .dataframe tbody tr th:only-of-type {\n",
       "        vertical-align: middle;\n",
       "    }\n",
       "\n",
       "    .dataframe tbody tr th {\n",
       "        vertical-align: top;\n",
       "    }\n",
       "\n",
       "    .dataframe thead th {\n",
       "        text-align: right;\n",
       "    }\n",
       "</style>\n",
       "<table border=\"1\" class=\"dataframe\">\n",
       "  <thead>\n",
       "    <tr style=\"text-align: right;\">\n",
       "      <th></th>\n",
       "      <th>Close</th>\n",
       "      <th>Close_dir_1</th>\n",
       "      <th>Close_dir_2</th>\n",
       "      <th>Close_dir_3</th>\n",
       "      <th>Close_pc_1</th>\n",
       "      <th>Close_pc_2</th>\n",
       "      <th>Close_pc_3</th>\n",
       "    </tr>\n",
       "    <tr>\n",
       "      <th>Close_Time</th>\n",
       "      <th></th>\n",
       "      <th></th>\n",
       "      <th></th>\n",
       "      <th></th>\n",
       "      <th></th>\n",
       "      <th></th>\n",
       "      <th></th>\n",
       "    </tr>\n",
       "  </thead>\n",
       "  <tbody>\n",
       "    <tr>\n",
       "      <th>2020-01-01 05:59:59.999</th>\n",
       "      <td>7197.20</td>\n",
       "      <td>UP</td>\n",
       "      <td>UP</td>\n",
       "      <td>UP</td>\n",
       "      <td>0.511322</td>\n",
       "      <td>0.446505</td>\n",
       "      <td>0.050688</td>\n",
       "    </tr>\n",
       "    <tr>\n",
       "      <th>2020-01-01 09:59:59.999</th>\n",
       "      <td>7234.19</td>\n",
       "      <td>DOWN</td>\n",
       "      <td>DOWN</td>\n",
       "      <td>DOWN</td>\n",
       "      <td>-0.065150</td>\n",
       "      <td>-0.463001</td>\n",
       "      <td>-1.466840</td>\n",
       "    </tr>\n",
       "    <tr>\n",
       "      <th>2020-01-01 13:59:59.999</th>\n",
       "      <td>7229.48</td>\n",
       "      <td>DOWN</td>\n",
       "      <td>DOWN</td>\n",
       "      <td>DOWN</td>\n",
       "      <td>-0.397592</td>\n",
       "      <td>-1.400778</td>\n",
       "      <td>-1.672299</td>\n",
       "    </tr>\n",
       "    <tr>\n",
       "      <th>2020-01-01 17:59:59.999</th>\n",
       "      <td>7200.85</td>\n",
       "      <td>DOWN</td>\n",
       "      <td>DOWN</td>\n",
       "      <td>DOWN</td>\n",
       "      <td>-0.999213</td>\n",
       "      <td>-1.269659</td>\n",
       "      <td>-0.855207</td>\n",
       "    </tr>\n",
       "    <tr>\n",
       "      <th>2020-01-01 21:59:59.999</th>\n",
       "      <td>7129.61</td>\n",
       "      <td>DOWN</td>\n",
       "      <td>UP</td>\n",
       "      <td>UP</td>\n",
       "      <td>-0.267770</td>\n",
       "      <td>0.142581</td>\n",
       "      <td>0.019212</td>\n",
       "    </tr>\n",
       "    <tr>\n",
       "      <th>...</th>\n",
       "      <td>...</td>\n",
       "      <td>...</td>\n",
       "      <td>...</td>\n",
       "      <td>...</td>\n",
       "      <td>...</td>\n",
       "      <td>...</td>\n",
       "      <td>...</td>\n",
       "    </tr>\n",
       "    <tr>\n",
       "      <th>2023-09-26 21:59:59.999</th>\n",
       "      <td>26278.04</td>\n",
       "      <td>DOWN</td>\n",
       "      <td>UP</td>\n",
       "      <td>UP</td>\n",
       "      <td>-0.120779</td>\n",
       "      <td>1.825627</td>\n",
       "      <td>0.100287</td>\n",
       "    </tr>\n",
       "    <tr>\n",
       "      <th>2023-09-27 01:59:59.999</th>\n",
       "      <td>26246.34</td>\n",
       "      <td>UP</td>\n",
       "      <td>UP</td>\n",
       "      <td>DOWN</td>\n",
       "      <td>1.944057</td>\n",
       "      <td>0.220799</td>\n",
       "      <td>-0.324485</td>\n",
       "    </tr>\n",
       "    <tr>\n",
       "      <th>2023-09-27 05:59:59.999</th>\n",
       "      <td>26766.70</td>\n",
       "      <td>DOWN</td>\n",
       "      <td>DOWN</td>\n",
       "      <td>DOWN</td>\n",
       "      <td>-1.757423</td>\n",
       "      <td>-2.313519</td>\n",
       "      <td>NaN</td>\n",
       "    </tr>\n",
       "    <tr>\n",
       "      <th>2023-09-27 09:59:59.999</th>\n",
       "      <td>26304.42</td>\n",
       "      <td>DOWN</td>\n",
       "      <td>DOWN</td>\n",
       "      <td>DOWN</td>\n",
       "      <td>-0.546491</td>\n",
       "      <td>NaN</td>\n",
       "      <td>NaN</td>\n",
       "    </tr>\n",
       "    <tr>\n",
       "      <th>2023-09-27 13:59:59.999</th>\n",
       "      <td>26161.45</td>\n",
       "      <td>DOWN</td>\n",
       "      <td>DOWN</td>\n",
       "      <td>DOWN</td>\n",
       "      <td>NaN</td>\n",
       "      <td>NaN</td>\n",
       "      <td>NaN</td>\n",
       "    </tr>\n",
       "  </tbody>\n",
       "</table>\n",
       "<p>8192 rows × 7 columns</p>\n",
       "</div>"
      ],
      "text/plain": [
       "                            Close Close_dir_1 Close_dir_2 Close_dir_3  \\\n",
       "Close_Time                                                              \n",
       "2020-01-01 05:59:59.999   7197.20          UP          UP          UP   \n",
       "2020-01-01 09:59:59.999   7234.19        DOWN        DOWN        DOWN   \n",
       "2020-01-01 13:59:59.999   7229.48        DOWN        DOWN        DOWN   \n",
       "2020-01-01 17:59:59.999   7200.85        DOWN        DOWN        DOWN   \n",
       "2020-01-01 21:59:59.999   7129.61        DOWN          UP          UP   \n",
       "...                           ...         ...         ...         ...   \n",
       "2023-09-26 21:59:59.999  26278.04        DOWN          UP          UP   \n",
       "2023-09-27 01:59:59.999  26246.34          UP          UP        DOWN   \n",
       "2023-09-27 05:59:59.999  26766.70        DOWN        DOWN        DOWN   \n",
       "2023-09-27 09:59:59.999  26304.42        DOWN        DOWN        DOWN   \n",
       "2023-09-27 13:59:59.999  26161.45        DOWN        DOWN        DOWN   \n",
       "\n",
       "                         Close_pc_1  Close_pc_2  Close_pc_3  \n",
       "Close_Time                                                   \n",
       "2020-01-01 05:59:59.999    0.511322    0.446505    0.050688  \n",
       "2020-01-01 09:59:59.999   -0.065150   -0.463001   -1.466840  \n",
       "2020-01-01 13:59:59.999   -0.397592   -1.400778   -1.672299  \n",
       "2020-01-01 17:59:59.999   -0.999213   -1.269659   -0.855207  \n",
       "2020-01-01 21:59:59.999   -0.267770    0.142581    0.019212  \n",
       "...                             ...         ...         ...  \n",
       "2023-09-26 21:59:59.999   -0.120779    1.825627    0.100287  \n",
       "2023-09-27 01:59:59.999    1.944057    0.220799   -0.324485  \n",
       "2023-09-27 05:59:59.999   -1.757423   -2.313519         NaN  \n",
       "2023-09-27 09:59:59.999   -0.546491         NaN         NaN  \n",
       "2023-09-27 13:59:59.999         NaN         NaN         NaN  \n",
       "\n",
       "[8192 rows x 7 columns]"
      ]
     },
     "execution_count": 61,
     "metadata": {},
     "output_type": "execute_result"
    }
   ],
   "source": [
    "from fn_prep import change_percentual\n",
    "n_period = 3\n",
    "col_use = \"Close\"\n",
    "\n",
    "cols_dir, cols_pc = get_cols_pc_and_dir(n_period,col_use)\n",
    "\n",
    "df = change_percentual(df,col_use,n_periods=n_period,\n",
    "                      get_direction=True,all_periods=True)\n",
    "\n",
    "df[[col_use]+cols_dir+cols_pc]"
   ]
  },
  {
   "cell_type": "code",
   "execution_count": 62,
   "metadata": {},
   "outputs": [
    {
     "data": {
      "image/png": "[encoded data removed]",
      "text/plain": [
       "<Figure size 2160x720 with 4 Axes>"
      ]
     },
     "metadata": {
      "needs_background": "light"
     },
     "output_type": "display_data"
    }
   ],
   "source": [
    "\n",
    "df[cols_pc].hist(bins=range(-15,15), edgecolor='black',\n",
    "                  figsize=(30,10),\n",
    "                  xlabelsize=20,ylabelsize=20);"
   ]
  },
  {
   "attachments": {},
   "cell_type": "markdown",
   "metadata": {},
   "source": [
    "## Prueba de hipotesis para distribucion normal"
   ]
  },
  {
   "cell_type": "code",
   "execution_count": null,
   "metadata": {},
   "outputs": [],
   "source": [
    "col_using = \"Close_pc_1\"\n",
    "alpha = 0.05\n",
    "dist=\"norm\" #dist : {'norm', 'expon', 'logistic', 'gumbel', 'gumbel_l', 'gumbel_r', 'extreme1'}\n",
    "\n",
    "data = np.random.normal(0, 1, 1000)\n",
    "prueba_hipotesis(df,col_using, alpha, dist = 'norm', get_data=False)\n",
    "\n"
   ]
  },
  {
   "cell_type": "code",
   "execution_count": null,
   "metadata": {},
   "outputs": [],
   "source": [
    "kk = [1,2,1,2,1,2,1,2]\n",
    "kk, set(kk)"
   ]
  },
  {
   "cell_type": "code",
   "execution_count": null,
   "metadata": {},
   "outputs": [],
   "source": []
  },
  {
   "attachments": {},
   "cell_type": "markdown",
   "metadata": {},
   "source": [
    "## Correlacion con la variable explicativa vs variables x"
   ]
  },
  {
   "cell_type": "code",
   "execution_count": null,
   "metadata": {},
   "outputs": [],
   "source": [
    "df.columns"
   ]
  },
  {
   "cell_type": "code",
   "execution_count": null,
   "metadata": {},
   "outputs": [],
   "source": [
    "cols_x = ['Open', 'High', 'Low','Volumne','Quote_asset_vol', 'Number_trades', 'Taker_buy_base', 'Taker_buy_quote',\n",
    "          'EMA8', 'EMA13', 'EMA55', 'EMA144', 'BBH_indicator', 'BBL_indicator',\n",
    "       'BBH', 'BBL', 'BBA', 'MACD_line', 'MACD_signal', 'MACD_diff',\n",
    "       'Close_pc_1', 'Close_dir_1', 'Close_pc_2', 'Close_dir_2']\n",
    "col_y = 'Close'\n",
    "plot_scatter(df,cols_x,col_y)"
   ]
  },
  {
   "cell_type": "code",
   "execution_count": null,
   "metadata": {},
   "outputs": [],
   "source": [
    "# Lista de columnas a incluir en el gráfico de correlación\n",
    "cols_x = ['Open', 'High', 'Low','Volumne','Quote_asset_vol', 'Number_trades', 'Taker_buy_base', 'Taker_buy_quote',\n",
    "          'EMA8', 'EMA13', 'EMA55', 'EMA144', 'BBH_indicator', 'BBL_indicator',\n",
    "       'BBH', 'BBL', 'BBA', 'MACD_line', 'MACD_signal', 'MACD_diff',\n",
    "       'Close_pc_1', 'Close_dir_1', 'Close_pc_2', 'Close_dir_2']\n",
    "col_y = \"Close\"\n",
    "cols_x_corrl = plot_correlation(df,cols_x,col_y,min_corr=0.8,figsize=(15,10))\n",
    "cols_x_corrl"
   ]
  },
  {
   "attachments": {},
   "cell_type": "markdown",
   "metadata": {},
   "source": [
    "## Lag n-esimo\n",
    "En las series de tiempo es usual decir que el valor actual de y<sub>n</sub>, depende del valor anterior y<sub>n-1</sub> incluso podemos decir que depende de los ultimos k-periodos. Por lo que la ecuacion seria:\n",
    "\n",
    "  Y<sub>n</sub> = B<sub>0</sub> + B<sub>1</sub>*y<sub>n-1</sub> + B<sub>2</sub>*y<sub>n-2</sub> + ... + B<sub>k</sub>*y<sub>n-k</sub> + u"
   ]
  },
  {
   "cell_type": "code",
   "execution_count": 65,
   "metadata": {},
   "outputs": [
    {
     "data": {
      "text/plain": [
       "Index(['Open_Time', 'Open', 'High', 'Low', 'Close', 'Volumne',\n",
       "       'Quote_asset_vol', 'Number_trades', 'Taker_buy_base', 'Taker_buy_quote',\n",
       "       'EMA8', 'EMA13', 'EMA55', 'EMA144', 'BBH_indicator', 'BBL_indicator',\n",
       "       'BBH', 'BBL', 'BBA', 'MACD_line', 'MACD_signal', 'MACD_diff', 'RSI',\n",
       "       'OBV', 'Outliyers_STD', 'Close_pc_1', 'Close_pc_2', 'Close_pc_3',\n",
       "       'Close_dir_1', 'Close_dir_2', 'Close_dir_3', 'Close_dir_1_lag_1',\n",
       "       'Close_dir_1_lag_2', 'Close_dir_2_lag_1', 'Close_dir_2_lag_2',\n",
       "       'Close_dir_3_lag_1', 'Close_dir_3_lag_2'],\n",
       "      dtype='object')"
      ]
     },
     "execution_count": 65,
     "metadata": {},
     "output_type": "execute_result"
    }
   ],
   "source": [
    "col_use = \"Close_dir_3\"\n",
    "periodos_lag = 2\n",
    "cols_lag = []\n",
    "for i in range(1,periodos_lag+1):\n",
    "    cols_lag.append(col_use+\"_lag_\"+str(i))\n",
    "    df[col_use+\"_lag_\"+str(i)] = df[col_use].shift(i)\n",
    "    \n",
    "df.columns\n"
   ]
  },
  {
   "cell_type": "code",
   "execution_count": 66,
   "metadata": {},
   "outputs": [
    {
     "data": {
      "text/html": [
       "<div>\n",
       "<style scoped>\n",
       "    .dataframe tbody tr th:only-of-type {\n",
       "        vertical-align: middle;\n",
       "    }\n",
       "\n",
       "    .dataframe tbody tr th {\n",
       "        vertical-align: top;\n",
       "    }\n",
       "\n",
       "    .dataframe thead th {\n",
       "        text-align: right;\n",
       "    }\n",
       "</style>\n",
       "<table border=\"1\" class=\"dataframe\">\n",
       "  <thead>\n",
       "    <tr style=\"text-align: right;\">\n",
       "      <th></th>\n",
       "      <th>Close_dir_3_lag_1</th>\n",
       "      <th>Close_dir_3_lag_2</th>\n",
       "      <th>Close_dir_3</th>\n",
       "    </tr>\n",
       "    <tr>\n",
       "      <th>Close_Time</th>\n",
       "      <th></th>\n",
       "      <th></th>\n",
       "      <th></th>\n",
       "    </tr>\n",
       "  </thead>\n",
       "  <tbody>\n",
       "    <tr>\n",
       "      <th>2020-01-01 05:59:59.999</th>\n",
       "      <td>NaN</td>\n",
       "      <td>NaN</td>\n",
       "      <td>UP</td>\n",
       "    </tr>\n",
       "    <tr>\n",
       "      <th>2020-01-01 09:59:59.999</th>\n",
       "      <td>UP</td>\n",
       "      <td>NaN</td>\n",
       "      <td>DOWN</td>\n",
       "    </tr>\n",
       "    <tr>\n",
       "      <th>2020-01-01 13:59:59.999</th>\n",
       "      <td>DOWN</td>\n",
       "      <td>UP</td>\n",
       "      <td>DOWN</td>\n",
       "    </tr>\n",
       "    <tr>\n",
       "      <th>2020-01-01 17:59:59.999</th>\n",
       "      <td>DOWN</td>\n",
       "      <td>DOWN</td>\n",
       "      <td>DOWN</td>\n",
       "    </tr>\n",
       "    <tr>\n",
       "      <th>2020-01-01 21:59:59.999</th>\n",
       "      <td>DOWN</td>\n",
       "      <td>DOWN</td>\n",
       "      <td>UP</td>\n",
       "    </tr>\n",
       "    <tr>\n",
       "      <th>...</th>\n",
       "      <td>...</td>\n",
       "      <td>...</td>\n",
       "      <td>...</td>\n",
       "    </tr>\n",
       "    <tr>\n",
       "      <th>2023-09-26 21:59:59.999</th>\n",
       "      <td>UP</td>\n",
       "      <td>DOWN</td>\n",
       "      <td>UP</td>\n",
       "    </tr>\n",
       "    <tr>\n",
       "      <th>2023-09-27 01:59:59.999</th>\n",
       "      <td>UP</td>\n",
       "      <td>UP</td>\n",
       "      <td>DOWN</td>\n",
       "    </tr>\n",
       "    <tr>\n",
       "      <th>2023-09-27 05:59:59.999</th>\n",
       "      <td>DOWN</td>\n",
       "      <td>UP</td>\n",
       "      <td>DOWN</td>\n",
       "    </tr>\n",
       "    <tr>\n",
       "      <th>2023-09-27 09:59:59.999</th>\n",
       "      <td>DOWN</td>\n",
       "      <td>DOWN</td>\n",
       "      <td>DOWN</td>\n",
       "    </tr>\n",
       "    <tr>\n",
       "      <th>2023-09-27 13:59:59.999</th>\n",
       "      <td>DOWN</td>\n",
       "      <td>DOWN</td>\n",
       "      <td>DOWN</td>\n",
       "    </tr>\n",
       "  </tbody>\n",
       "</table>\n",
       "<p>8192 rows × 3 columns</p>\n",
       "</div>"
      ],
      "text/plain": [
       "                        Close_dir_3_lag_1 Close_dir_3_lag_2 Close_dir_3\n",
       "Close_Time                                                             \n",
       "2020-01-01 05:59:59.999               NaN               NaN          UP\n",
       "2020-01-01 09:59:59.999                UP               NaN        DOWN\n",
       "2020-01-01 13:59:59.999              DOWN                UP        DOWN\n",
       "2020-01-01 17:59:59.999              DOWN              DOWN        DOWN\n",
       "2020-01-01 21:59:59.999              DOWN              DOWN          UP\n",
       "...                                   ...               ...         ...\n",
       "2023-09-26 21:59:59.999                UP              DOWN          UP\n",
       "2023-09-27 01:59:59.999                UP                UP        DOWN\n",
       "2023-09-27 05:59:59.999              DOWN                UP        DOWN\n",
       "2023-09-27 09:59:59.999              DOWN              DOWN        DOWN\n",
       "2023-09-27 13:59:59.999              DOWN              DOWN        DOWN\n",
       "\n",
       "[8192 rows x 3 columns]"
      ]
     },
     "execution_count": 66,
     "metadata": {},
     "output_type": "execute_result"
    }
   ],
   "source": [
    "df[cols_lag+[col_use]]"
   ]
  },
  {
   "attachments": {},
   "cell_type": "markdown",
   "metadata": {},
   "source": [
    "## Particionado de datos."
   ]
  },
  {
   "cell_type": "code",
   "execution_count": 68,
   "metadata": {},
   "outputs": [],
   "source": [
    "def partition_columns(df_train,col_use, incluir_ultimo:bool=True, predecir:str=\"_dir\",\n",
    "                      incluir_todos_periodos:bool=False,\n",
    "                      ind:int=1):\n",
    "    \"\"\" \n",
    "    (Function)\n",
    "        Esta funcion particiona el dataframe en los elementos X, y considerando varias cosas\n",
    "        de momento solo considera para y las columnas direccion del mercado ('_dir') y el cambio\n",
    "        rendimiento del proximo periodo ('_pc')\n",
    "    (Parameters)\n",
    "        - df_train: Dataframe con los datos\n",
    "        - col_use: [str] Columna usada para el cambio percentual y direccion\n",
    "        - incluir_ultimo: [bool] Para incluir el ultimo precio en los datos\n",
    "        - predecit: [str] Indica la variable a predecir solo se permite [\"_dir\", \"_pc\"]\n",
    "        - is_classification: [bool] En caso de ser clasificacion\n",
    "        - inluir_todos_periodos: [bool] En caso de querer y multiclase hacer True\n",
    "        - ind: [int] Si no incluye todos los periodos con cual se queda, indica el sufijo de predecir\n",
    "    \"\"\"\n",
    "    all_columns = list(df_train.columns)\n",
    "    is_classification = False\n",
    "    if incluir_todos_periodos:\n",
    "        if predecir == \"_pc\":\n",
    "            col_y = [valor for valor in df.columns if \"_pc\" in valor]\n",
    "            \n",
    "            \n",
    "        elif predecir == \"_dir\":\n",
    "            is_classification = True\n",
    "            col_y = [valor for valor in df.columns if \"_dir\" in valor]\n",
    "            cols_x = all_columns.copy()\n",
    "            for col in col_y:\n",
    "                cols_x.remove(col)\n",
    "            \n",
    "    else:\n",
    "        if predecir == \"_pc\":\n",
    "            col_y = col_use+\"_pc_\"+str(ind)\n",
    "            cols_x = all_columns.copy()\n",
    "            cols_x.remove(col_y)\n",
    "            \n",
    "        \n",
    "        elif predecir == \"_dir\":\n",
    "            is_classification = True\n",
    "            col_y = col_use+\"_dir_\"+str(ind)\n",
    "            cols_x = all_columns.copy()\n",
    "            cols_x.remove(col_y)\n",
    "    \n",
    "    if not predecir in [\"_pc\",\"_dir\"] :\n",
    "        raise ValueError(\"La variable predecir debe ser [_pc,_dir]\")\n",
    "            \n",
    "\n",
    "\n",
    "\n",
    "    if not incluir_ultimo:\n",
    "        X = df_train[cols_x].iloc[:-1].copy()\n",
    "        y = df_train[col_y].iloc[:-1].copy()\n",
    "        X_last = df_train[cols_x].iloc[-1:, :].copy()\n",
    "        y_last = df_train[col_y].iloc[-1:].copy()\n",
    "    else:\n",
    "        y = df_train[col_y].copy()\n",
    "        X = df_train[cols_x].copy()\n",
    "        \n",
    "    if is_classification:\n",
    "        if isinstance(y,pd.Series):\n",
    "            y = y.map({\"UP\":1,\"DOWN\":0})\n",
    "        elif isinstance(y, pd.DataFrame):\n",
    "            for col in y:\n",
    "                y[col] = y[col].map({\"UP\":1,\"DOWN\":0})\n",
    "\n",
    "    return X, y"
   ]
  },
  {
   "cell_type": "code",
   "execution_count": null,
   "metadata": {},
   "outputs": [],
   "source": [
    "# Quitar nan, debido a los calculos de EMA, MACD, BB, Lag, etc hay nans\n",
    "print (\"Shape original \", df.shape)\n",
    "df_train = df.dropna(how=\"any\")\n",
    "df_train.rename(columns={'Volumne':'Volume'},inplace=True)\n",
    "df_train.shape"
   ]
  },
  {
   "cell_type": "code",
   "execution_count": 67,
   "metadata": {},
   "outputs": [],
   "source": [
    "# Dividir df en X y Y\n",
    "\n",
    "## Columna usada para el cambio percentual y direccion\n",
    "col_use = \"Close\"\n",
    "## En caso de querer y multiclase hacer True\n",
    "incluir_todos_periodos = True \n",
    "## Si no incluye todos los periodos con cual se queda\n",
    "ind = 1 \n",
    "## Para incluir el ultimo precio en los datos\n",
    "incluir_ultimo = True\n",
    "## Solo funciona \n",
    "predecir = \"_dir\"  # _dir, _pc\n",
    "## En caso de ser clasificacion\n",
    "is_classification = True\n",
    "\n",
    "\n",
    "\n",
    "X,y = partition_columns(df_train,col_use, incluir_ultimo:, predecir:str=\"_dir\",\n",
    "                      incluir_todos_periodos:bool=False,\n",
    "                      ind:int=1)"
   ]
  },
  {
   "cell_type": "code",
   "execution_count": null,
   "metadata": {},
   "outputs": [],
   "source": [
    "# Revisamos que todas las columnas sean numericas\n",
    "X.info()"
   ]
  },
  {
   "cell_type": "code",
   "execution_count": null,
   "metadata": {},
   "outputs": [],
   "source": [
    "X.Close_dir_1 = X.Close_dir_1.map({'UP':1,'DOWN':0})"
   ]
  },
  {
   "cell_type": "code",
   "execution_count": null,
   "metadata": {},
   "outputs": [],
   "source": [
    "X.Close_dir_2 = X.Close_dir_2.map({'UP':1,'DOWN':0})"
   ]
  },
  {
   "cell_type": "code",
   "execution_count": null,
   "metadata": {},
   "outputs": [],
   "source": [
    "X.columns, y.name"
   ]
  },
  {
   "cell_type": "code",
   "execution_count": null,
   "metadata": {},
   "outputs": [],
   "source": [
    "n = X.shape[0]\n",
    "train_size = .8\n",
    "\n",
    "x_train, x_test = X.iloc[:int(n*train_size)].copy(), X.iloc[int(n*train_size):].copy()\n",
    "yy_train, yy_test = y.iloc[:int(n*train_size)].copy(), y.iloc[int(n*train_size):].copy()\n",
    "print(x_train.shape[0]+ x_test.shape[0]==df_train.shape[0])\n",
    "x_train.shape, x_test.shape"
   ]
  },
  {
   "attachments": {},
   "cell_type": "markdown",
   "metadata": {},
   "source": [
    "## Modelos de clasificacion\n",
    "\n",
    "Funciones de score: \n",
    "\n",
    "| Scoring | Function | Comment|\n",
    "| --- | ---: | :---: |\n",
    "|Classification |  |  |\n",
    "| ‘accuracy’ | metrics.accuracy_score| |\n",
    "| ‘balanced_accuracy’| metrics.balanced_accuracy_score | |\n",
    "| ‘top_k_accuracy’ | metrics.top_k_accuracy_score | |\n",
    "| ‘average_precision’ | metrics.average_precision_score | |\n",
    "| ‘neg_brier_score’ | metrics.brier_score_loss | |\n",
    "| ‘f1’ | metrics.f1_score | for binary targets |\n",
    "| ‘f1_micro’ | metrics.f1_score | micro-averaged |\n",
    "| ‘f1_macro’ | metrics.f1_score | macro-averaged |\n",
    "| ‘f1_weighted’ | metrics.f1_score |weighted average |\n",
    "| ‘f1_samples’ | metrics.f1_score | by multilabel sample|\n",
    "| ‘neg_log_loss’ | metrics.log_loss | requires predict_proba support |\n",
    "| ‘precision’ etc. | metrics.precision_score |suffixes apply as with ‘f1’ |\n",
    "| ‘recall’ etc. | metrics.recall_score | suffixes apply as with ‘f1’ |\n",
    "| ‘jaccard’ etc. | metrics.jaccard_score | suffixes apply as with ‘f1’ |\n",
    "| ‘roc_auc’ | metrics.roc_auc_score | |\n",
    "| ‘roc_auc_ovr’ | metrics.roc_auc_score | |\n",
    "| ‘roc_auc_ovo’ | metrics.roc_auc_score | |\n",
    "| ‘roc_auc_ovr_weighted’ | metrics.roc_auc_score | |\n",
    "| ‘roc_auc_ovo_weighted’ | metrics.roc_auc_score | |"
   ]
  },
  {
   "cell_type": "code",
   "execution_count": 2,
   "metadata": {},
   "outputs": [
    {
     "ename": "ModuleNotFoundError",
     "evalue": "No module named 'train_models'",
     "output_type": "error",
     "traceback": [
      "\u001b[0;31m---------------------------------------------------------------------------\u001b[0m",
      "\u001b[0;31mModuleNotFoundError\u001b[0m                       Traceback (most recent call last)",
      "\u001b[1;32m/home/hector/Documentos/Escuelas/Autodidacta/Git_repositories/Trading_test/analisis_historico.ipynb Celda 73\u001b[0m in \u001b[0;36m<cell line: 11>\u001b[0;34m()\u001b[0m\n\u001b[1;32m      <a href='vscode-notebook-cell:/home/hector/Documentos/Escuelas/Autodidacta/Git_repositories/Trading_test/analisis_historico.ipynb#Y132sZmlsZQ%3D%3D?line=8'>9</a>\u001b[0m \u001b[39mfrom\u001b[39;00m \u001b[39msklearn\u001b[39;00m\u001b[39m.\u001b[39;00m\u001b[39mmodel_selection\u001b[39;00m \u001b[39mimport\u001b[39;00m TimeSeriesSplit\n\u001b[1;32m     <a href='vscode-notebook-cell:/home/hector/Documentos/Escuelas/Autodidacta/Git_repositories/Trading_test/analisis_historico.ipynb#Y132sZmlsZQ%3D%3D?line=9'>10</a>\u001b[0m ts \u001b[39m=\u001b[39m TimeSeriesSplit(test_size\u001b[39m=\u001b[39m\u001b[39m200\u001b[39m)\n\u001b[0;32m---> <a href='vscode-notebook-cell:/home/hector/Documentos/Escuelas/Autodidacta/Git_repositories/Trading_test/analisis_historico.ipynb#Y132sZmlsZQ%3D%3D?line=10'>11</a>\u001b[0m \u001b[39mfrom\u001b[39;00m \u001b[39mtrain_models\u001b[39;00m \u001b[39mimport\u001b[39;00m \u001b[39m*\u001b[39m\n",
      "\u001b[0;31mModuleNotFoundError\u001b[0m: No module named 'train_models'"
     ]
    }
   ],
   "source": [
    "import numpy as np\n",
    "import pandas as pd\n",
    "import seaborn as sns\n",
    "import matplotlib.pyplot as plt\n",
    "from sklearn.tree import DecisionTreeClassifier\n",
    "from sklearn.model_selection import GridSearchCV\n",
    "from sklearn.metrics import confusion_matrix, accuracy_score, average_precision_score, roc_auc_score, f1_score\n",
    "from datetime import timedelta\n",
    "from sklearn.model_selection import TimeSeriesSplit\n",
    "ts = TimeSeriesSplit(test_size=200)\n",
    "from train_models import *\n",
    "\n",
    "\n",
    "\n",
    "\n"
   ]
  },
  {
   "cell_type": "code",
   "execution_count": null,
   "metadata": {},
   "outputs": [],
   "source": [
    "# Modelo RandomForestClassifier\n",
    "# Muy pesado, no util para [UP, DOWN]\n",
    "n_estimators = [50,100, 200, 300], # Cantidad de arboles\n",
    "max_depth = [ 10, 20,30,50],\n",
    "min_samples_split = [2, 5, 10], # Cantidad de muestras para dividir un nodo\n",
    "min_samples_leaf = [1, 2, 4,10],   # Cantidad de muestras para dividir una hoja\n",
    "max_features =  ['auto', 'sqrt']\n",
    "\n",
    "error_mse_list = []\n",
    "accuracy_list = [0]\n",
    "model_chido = None\n",
    "\n",
    "besth_depth = []\n",
    "best_estimator = []\n",
    "best_split = []\n",
    "best_leaf = []\n",
    "best_feature = []\n",
    "best_acuracy = []\n",
    "best_score = []\n",
    "\n",
    "\n",
    "for estimator in [50,100, 200, 300]:\n",
    "    for depth1 in [ 10, 20,30,50]:\n",
    "        for split in [2, 5, 10]:\n",
    "            for leaf in [1, 2, 4,10]:\n",
    "                for feature in ['log2', 'sqrt']:\n",
    "                    model = RandomForestClassifier(n_estimators=estimator,\n",
    "                                                   max_depth=depth1,\n",
    "                                                   min_samples_split=split,\n",
    "                                                   min_samples_leaf=leaf,\n",
    "                                                   max_features=feature)\n",
    "                    for index_train, index_test in ts.split(X_test.iloc[:-1,:]):\n",
    "                        X_train, y_train = X.iloc[index_train], y.iloc[index_train]\n",
    "                        X_test, y_test = X.iloc[index_test], y.iloc[index_test]\n",
    "                        \n",
    "                        model.fit(X_train, y_train)\n",
    "                        \n",
    "                        y_pred = model.predict(X_test)\n",
    "                        \n",
    "                        #error_mse = mean_squared_error(y_test, y_pred)\n",
    "                        #error_mse_list.append(error_mse)\n",
    "                        #print(f'El MSE es: {error_mse}')\n",
    "                        \n",
    "                        acuracy = accuracy_score(y_test, y_pred)\n",
    "                        \n",
    "                        #print(f'El acuracy es: {acuracy}')\n",
    "                        #print(acuracy > max(accuracy_list))\n",
    "                        \n",
    "                        if acuracy > max(accuracy_list):\n",
    "                            \n",
    "                            score = model.score(X_train, y_train)\n",
    "                            print(f'El acuracy es: {acuracy}')\n",
    "                            print(f'Score del modelo: {score}')\n",
    "                            model_chido = model\n",
    "                            besth_depth.append(depth1)\n",
    "                            best_estimator.append(estimator)\n",
    "                            best_split.append(split)\n",
    "                            best_leaf.append(leaf)\n",
    "                            best_feature.append(feature)\n",
    "                            best_acuracy.append(acuracy)\n",
    "                            best_score.append(score)\n",
    "                            \n",
    "                            # Calcular la matriz de confusión\n",
    "                            clases = model.classes_\n",
    "                            matriz_confusion = confusion_matrix(y, y_pred,labels=clases)\n",
    "                            show_matriz_confusion(matriz_confusion)\n",
    "                            \n",
    "                        accuracy_list.append(acuracy)\n",
    "                        \n",
    "                        best_estimator = np.array(best_estimator)*0\n",
    "accuracy_list.remove(0)\n",
    "df_aux = pd.DataFrame({'Depth':besth_depth,\n",
    "                        'Estimator':best_estimator,\n",
    "                        'Split': best_split,\n",
    "                        'Leaf':best_leaf,\n",
    "                        'Feature':best_feature,\n",
    "                        'Accuracy':best_acuracy})\n",
    "df_parameters = pd.concat([df_parameters,df_aux])\n",
    "\n",
    "print('RESULTADOS'.center(100,'-'))\n",
    "print('Se obtuvo en un pormedio de ',np.mean(accuracy_list),' en el accuracy')\n",
    "print('Cuya desvicion estandar fue de: ',np.std(accuracy_list))\n",
    "# (mean, n) = (0.5021733472149922, 1921)"
   ]
  },
  {
   "cell_type": "code",
   "execution_count": null,
   "metadata": {},
   "outputs": [],
   "source": [
    "# Modelo DecisionTreeClassifier\n",
    "\n",
    "\n",
    "def train_DecisionTreeClassifier(X,y,ts,df_parameters=pd.DataFrame(),show_hist=True):\n",
    "    import numpy as np\n",
    "    accuracy_list = [0]\n",
    "    model_chido = None\n",
    "    besth_depth = []\n",
    "    best_split = []\n",
    "    best_leaf = []\n",
    "    best_feature = []\n",
    "    best_acuracy = []\n",
    "    best_score = []\n",
    "    dict_best_parameters = {}\n",
    "    df_split = X.copy()\n",
    "\n",
    "\n",
    "\n",
    "    for depth1 in [ 10, 20,30,50,80]:\n",
    "        for split in [2, 5, 10]:\n",
    "            for leaf in [1, 3, 7,10]:\n",
    "                for feature in ['log2', 'sqrt']:\n",
    "                    # Invocamos al modelo\n",
    "                    model = DecisionTreeClassifier(\n",
    "                                                    max_depth=depth1,\n",
    "                                                    min_samples_split=split,\n",
    "                                                    min_samples_leaf=leaf,\n",
    "                                                    max_features=feature)\n",
    "                    \n",
    "                    # Entrenamos con particion de TimeSeriesSplit\n",
    "                    for index_train, index_test in ts.split(df_split):\n",
    "                        X_train, y_train = X.iloc[index_train], y.iloc[index_train]\n",
    "                        X_test, y_test = X.iloc[index_test], y.iloc[index_test]\n",
    "                        \n",
    "                        model.fit(X_train, y_train)\n",
    "                        \n",
    "                        y_pred = model.predict(X_test)\n",
    "                        \n",
    "                        #error_mse = mean_squared_error(y_test, y_pred)\n",
    "                        #error_mse_list.append(error_mse)\n",
    "                        #print(f'El MSE es: {error_mse}')\n",
    "                        \n",
    "                        acuracy = accuracy_score(y_test, y_pred)\n",
    "                        \n",
    "                        #print(f'El acuracy es: {acuracy}')\n",
    "                        #print(acuracy > max(accuracy_list))\n",
    "                        \n",
    "                        if acuracy > max(accuracy_list):\n",
    "                            score = model.score(X_train, y_train)\n",
    "                            print(f'El acuracy es: {acuracy}')\n",
    "                            print(f'Score del modelo: {score}')\n",
    "                            \n",
    "                            # Cremos diccionario\n",
    "                            dict_best_parameters[\"max_depth\"] = depth1\n",
    "                            dict_best_parameters[\"min_samples_split\"] = split\n",
    "                            dict_best_parameters[\"min_samples_leaf\"] = split\n",
    "                            dict_best_parameters[\"max_features\"] = split\n",
    "                            \n",
    "                            model_chido = model\n",
    "                            besth_depth.append(depth1)\n",
    "                            best_split.append(split)\n",
    "                            best_leaf.append(leaf)\n",
    "                            best_feature.append(feature)\n",
    "                            best_acuracy.append(acuracy)\n",
    "                            best_score.append(score)\n",
    "                            \n",
    "                            # Calcular la matriz de confusión\n",
    "                            clases = model.classes_\n",
    "                            matriz_confusion = confusion_matrix(y_test, y_pred,labels=clases)\n",
    "                            show_matriz_confusion(matriz_confusion)\n",
    "                            \n",
    "                            \n",
    "                        accuracy_list.append(acuracy)\n",
    "                        if acuracy ==1: break\n",
    "\n",
    "    accuracy_list.remove(0)\n",
    "    df_aux = pd.DataFrame({'Depth':besth_depth,\n",
    "                            'Split': best_split,\n",
    "                            'Leaf':best_leaf,\n",
    "                            'Feature':best_feature,\n",
    "                            'Accuracy':best_acuracy})\n",
    "    df_parameters = pd.concat([df_parameters,df_aux])\n",
    "\n",
    "    print('RESULTADOS'.center(100,'-'))\n",
    "    print('Se obtuvo en un promedio de ',np.mean(accuracy_list),' en el accuracy')\n",
    "    print('Cuya desvicion estandar fue de: ',np.std(accuracy_list))\n",
    "\n",
    "    if show_hist:\n",
    "        import numpy as np \n",
    "        import matplotlib.pyplot as plt\n",
    "\n",
    "        print(f'Se hicieron {len(accuracy_list)} pruebas \\nel accuracy medio fue: {np.mean(accuracy_list)}')\n",
    "\n",
    "\n",
    "        plt.hist(accuracy_list,bins=10,edgecolor='black')\n",
    "        plt.title(\"Histograma de accuracy\")\n",
    "        plt.show()\n",
    "    return model_chido, df_parameters, dict_best_parameters\n"
   ]
  },
  {
   "cell_type": "code",
   "execution_count": null,
   "metadata": {},
   "outputs": [],
   "source": [
    "x_train.columns"
   ]
  },
  {
   "cell_type": "code",
   "execution_count": 4,
   "metadata": {},
   "outputs": [
    {
     "name": "stdout",
     "output_type": "stream",
     "text": [
      "Error al enviar el correo: (534, b'5.7.9 Application-specific password required. For more information, go to\\n5.7.9  https://support.google.com/mail/?p=InvalidSecondFactor a17-20020a05680802d100b003bda63fcd24sm427912oid.15 - gsmtp')\n"
     ]
    }
   ],
   "source": [
    "import smtplib\n",
    "from email.mime.text import MIMEText\n",
    "from email.mime.multipart import MIMEMultipart\n",
    "from email.mime.application import MIMEApplication\n",
    "\n",
    "# Configuración de las variables\n",
    "usuario = 'hectorlimonperalta.35@gmail.com'  # Cambia a tu dirección de correo de Outlook\n",
    "pasw = 'tuyyoforever'\n",
    "list_email = ['hectorlimonperalta.36@gmail.com', 'hector.limon@agilethought.com']\n",
    "ruta_archivo = '/home/hector/Documentos/libros/disparador_cosmico-Robert-Anton-Wilson.pdf'\n",
    "\n",
    "# Configuración del servidor SMTP de Outlook\n",
    "#smtp_server = 'smtp.live.com'\n",
    "# Configuración del servidor SMTP de Gmail\n",
    "smtp_server = 'smtp.gmail.com'\n",
    "smtp_port = 587\n",
    "\n",
    "# Crear el mensaje\n",
    "mensaje = MIMEMultipart()\n",
    "mensaje['From'] = usuario\n",
    "mensaje['To'] = ', '.join(list_email)\n",
    "mensaje['Subject'] = 'Asunto del correo'\n",
    "\n",
    "# Cuerpo del mensaje\n",
    "cuerpo_mensaje = MIMEText('Contenido del correo.')\n",
    "mensaje.attach(cuerpo_mensaje)\n",
    "\n",
    "# Adjuntar archivo\n",
    "#with open(ruta_archivo, 'rb') as adjunto:\n",
    "#    archivo_adjunto = MIMEApplication(adjunto.read(), Name='nombre_adjunto.txt')\n",
    "#    archivo_adjunto['Content-Disposition'] = f'attachment; filename={archivo_adjunto.filename}'\n",
    "#    mensaje.attach(archivo_adjunto)\n",
    "\n",
    "# Conectar al servidor SMTP y enviar el correo\n",
    "try:\n",
    "    servidor_smtp = smtplib.SMTP(smtp_server, smtp_port)\n",
    "    servidor_smtp.starttls()\n",
    "    servidor_smtp.login(usuario, pasw)\n",
    "    servidor_smtp.sendmail(usuario, list_email, mensaje.as_string())\n",
    "    print('Correo enviado correctamente.')\n",
    "except Exception as e:\n",
    "    print(f'Error al enviar el correo: {str(e)}')\n",
    "finally:\n",
    "    servidor_smtp.quit()\n"
   ]
  },
  {
   "cell_type": "code",
   "execution_count": 1,
   "metadata": {},
   "outputs": [
    {
     "ename": "NameError",
     "evalue": "name 'DecisionTreeClassifier' is not defined",
     "output_type": "error",
     "traceback": [
      "\u001b[0;31m---------------------------------------------------------------------------\u001b[0m",
      "\u001b[0;31mNameError\u001b[0m                                 Traceback (most recent call last)",
      "\u001b[1;32m/home/hector/Documentos/Escuelas/Autodidacta/Git_repositories/Trading_test/analisis_historico.ipynb Celda 77\u001b[0m in \u001b[0;36m<cell line: 17>\u001b[0;34m()\u001b[0m\n\u001b[1;32m     <a href='vscode-notebook-cell:/home/hector/Documentos/Escuelas/Autodidacta/Git_repositories/Trading_test/analisis_historico.ipynb#Y136sZmlsZQ%3D%3D?line=11'>12</a>\u001b[0m scoring \u001b[39m=\u001b[39m \u001b[39m'\u001b[39m\u001b[39maccuracy\u001b[39m\u001b[39m'\u001b[39m\n\u001b[1;32m     <a href='vscode-notebook-cell:/home/hector/Documentos/Escuelas/Autodidacta/Git_repositories/Trading_test/analisis_historico.ipynb#Y136sZmlsZQ%3D%3D?line=13'>14</a>\u001b[0m cols_train \u001b[39m=\u001b[39m [\u001b[39m'\u001b[39m\u001b[39mOpen\u001b[39m\u001b[39m'\u001b[39m, \u001b[39m'\u001b[39m\u001b[39mHigh\u001b[39m\u001b[39m'\u001b[39m, \u001b[39m'\u001b[39m\u001b[39mLow\u001b[39m\u001b[39m'\u001b[39m, \u001b[39m'\u001b[39m\u001b[39mVolume\u001b[39m\u001b[39m'\u001b[39m, \u001b[39m'\u001b[39m\u001b[39mQuote_asset_vol\u001b[39m\u001b[39m'\u001b[39m, \u001b[39m'\u001b[39m\u001b[39mNumber_trades\u001b[39m\u001b[39m'\u001b[39m,\n\u001b[1;32m     <a href='vscode-notebook-cell:/home/hector/Documentos/Escuelas/Autodidacta/Git_repositories/Trading_test/analisis_historico.ipynb#Y136sZmlsZQ%3D%3D?line=14'>15</a>\u001b[0m        \u001b[39m'\u001b[39m\u001b[39mTaker_buy_base\u001b[39m\u001b[39m'\u001b[39m, \u001b[39m'\u001b[39m\u001b[39mTaker_buy_quote\u001b[39m\u001b[39m'\u001b[39m,\u001b[39m\"\u001b[39m\u001b[39mClose_pc_1\u001b[39m\u001b[39m\"\u001b[39m]\n\u001b[0;32m---> <a href='vscode-notebook-cell:/home/hector/Documentos/Escuelas/Autodidacta/Git_repositories/Trading_test/analisis_historico.ipynb#Y136sZmlsZQ%3D%3D?line=16'>17</a>\u001b[0m model \u001b[39m=\u001b[39m DecisionTreeClassifier(random_state\u001b[39m=\u001b[39m\u001b[39m42\u001b[39m)\n\u001b[1;32m     <a href='vscode-notebook-cell:/home/hector/Documentos/Escuelas/Autodidacta/Git_repositories/Trading_test/analisis_historico.ipynb#Y136sZmlsZQ%3D%3D?line=18'>19</a>\u001b[0m gs \u001b[39m=\u001b[39m grid_search(x_train[cols_train],yy_train,model,param_grid,cv\u001b[39m=\u001b[39mts,verbose\u001b[39m=\u001b[39m\u001b[39m1\u001b[39m,\n\u001b[1;32m     <a href='vscode-notebook-cell:/home/hector/Documentos/Escuelas/Autodidacta/Git_repositories/Trading_test/analisis_historico.ipynb#Y136sZmlsZQ%3D%3D?line=19'>20</a>\u001b[0m                  scoring\u001b[39m=\u001b[39mscoring,return_train_score\u001b[39m=\u001b[39m\u001b[39mFalse\u001b[39;00m, show_params\u001b[39m=\u001b[39m\u001b[39mTrue\u001b[39;00m)\n\u001b[1;32m     <a href='vscode-notebook-cell:/home/hector/Documentos/Escuelas/Autodidacta/Git_repositories/Trading_test/analisis_historico.ipynb#Y136sZmlsZQ%3D%3D?line=21'>22</a>\u001b[0m \u001b[39m# Evaluar el modelo final en los datos de prueba\u001b[39;00m\n",
      "\u001b[0;31mNameError\u001b[0m: name 'DecisionTreeClassifier' is not defined"
     ]
    }
   ],
   "source": [
    "# Usando optimizador GridSearchCV\n",
    "\n",
    "# Definir el rango de valores para cada parámetro\n",
    "param_grid = {\n",
    "   # 'n_estimators': [50,100, 200, 300], # Cantidad de arboles\n",
    "    'max_depth': [ 10, 20,30,50],\n",
    "    'min_samples_split': [2, 5, 10], # Cantidad de muestras para dividir un nodo\n",
    "    'min_samples_leaf': [1, 2, 4,10],   # Cantidad de muestras para dividir una hoja\n",
    "    'max_features': ['auto', 'sqrt', 'log2'],\n",
    "    'criterion': ['gini', 'entropy', 'log_loss']\n",
    "}\n",
    "scoring = 'accuracy'\n",
    "\n",
    "cols_train = ['Open', 'High', 'Low', 'Volume', 'Quote_asset_vol', 'Number_trades',\n",
    "       'Taker_buy_base', 'Taker_buy_quote',\"Close_pc_1\"]\n",
    "\n",
    "model = DecisionTreeClassifier(random_state=42)\n",
    "\n",
    "gs = grid_search(x_train[cols_train],yy_train,model,param_grid,cv=ts,verbose=1,scoring=scoring,return_train_score=False)\n",
    "\n",
    "# Evaluar el modelo final en los datos de prueba\n",
    "model_chido = gs.best_estimator_\n",
    "accuracy = model_chido.score(x_test[cols_train], yy_test)\n",
    "print(\"Accuracy en los datos de prueba:\", accuracy)"
   ]
  },
  {
   "cell_type": "code",
   "execution_count": null,
   "metadata": {},
   "outputs": [],
   "source": [
    "# Ultimo modelo entrenado\n",
    "y_pred = model_chido.predict(x_test[cols_train])\n",
    "get_scores_clasification(yy_test, y_pred,table_name)"
   ]
  },
  {
   "cell_type": "code",
   "execution_count": null,
   "metadata": {},
   "outputs": [],
   "source": [
    "from sklearn.metrics import PrecisionRecallDisplay\n",
    "\n",
    "display = PrecisionRecallDisplay.from_predictions(\n",
    "    yy_test, y_pred, name=\"LinearSVC\", plot_chance_level=True\n",
    ")\n",
    "_ = display.ax_.set_title(\"2-class Precision-Recall curve\")"
   ]
  },
  {
   "cell_type": "code",
   "execution_count": null,
   "metadata": {},
   "outputs": [],
   "source": [
    "yy_test.value_counts()"
   ]
  },
  {
   "cell_type": "code",
   "execution_count": null,
   "metadata": {},
   "outputs": [],
   "source": [
    "matriz_confusion = confusion_matrix(yy_test, y_pred,labels=model_chido.classes_)\n",
    "show_matriz_confusion(matriz_confusion)"
   ]
  },
  {
   "cell_type": "code",
   "execution_count": null,
   "metadata": {},
   "outputs": [],
   "source": [
    "table_name, datetime.now().strftime(\"%m-%Y\")"
   ]
  },
  {
   "cell_type": "code",
   "execution_count": null,
   "metadata": {},
   "outputs": [],
   "source": [
    "# Leer el modelo\n",
    "import pickle\n",
    "from sklearn.metrics import accuracy_score\n",
    "name_model = \"DecisionTreeClassifier_\"+table_name\n",
    "with open(f'Models/{name_model}.pkl', 'rb') as f:\n",
    "    model_chido1 = pickle.load(f)\n",
    "    \n",
    "# Ultimo modelo entrenado\n",
    "get_scores_clasification(yy_test, model_chido1.predict(x_test[cols_train]),table_name=table_name)"
   ]
  },
  {
   "attachments": {},
   "cell_type": "markdown",
   "metadata": {},
   "source": [
    "### Generar modelos para cada base"
   ]
  },
  {
   "cell_type": "code",
   "execution_count": null,
   "metadata": {},
   "outputs": [],
   "source": [
    "from glob import glob\n",
    "\n",
    "all_models = glob('Models/*.pkl')\n",
    "params = {}\n",
    "\n",
    "for model in all_models:\n",
    "    with open(model, 'rb') as f:\n",
    "        model_chido = pickle.load(f)\n",
    "        table_name = model[model.find('_')+1:-4]\n",
    "        df = pd.read_sql_query(f\"\"\"\n",
    "                      SELECT *\n",
    "                      FROM {table_name}\n",
    "                      \"\"\", con)\n",
    "\n",
    "        df.Name = table_name\n",
    "        # Hacer index la fecha\n",
    "        df = df.set_index(\"Close_Time\")\n",
    "        \n",
    "\n",
    "        cols_dir, cols_pc = get_cols_pc_and_dir(n_period,col_use)\n",
    "\n",
    "        df = change_percentual(df,col_use,n_periods=n_period,reverse=True,\n",
    "                            get_direction=True,all_periods=True)\n",
    "        df_train = df.tail(15).dropna()\n",
    "        df_train.rename(columns={'Volumne':'Volume'},inplace=True)\n",
    "        \n",
    "        Y = df_train[col_y].copy()\n",
    "        X = df_train[cols_x].copy()\n",
    "        Y = Y.map({\"UP\":1,\"DOWN\":0})\n",
    "        get_scores_clasification(Y,model_chido.predict(X),table_name)\n",
    "        \n",
    "        params[table_name] = model_chido.get_params()\n",
    "        "
   ]
  },
  {
   "cell_type": "code",
   "execution_count": null,
   "metadata": {},
   "outputs": [],
   "source": [
    "df_param = pd.DataFrame(params).T \n",
    "df_param.sort_index()"
   ]
  },
  {
   "cell_type": "code",
   "execution_count": null,
   "metadata": {},
   "outputs": [],
   "source": [
    "pd.DataFrame(df_param.max(axis=0)).T"
   ]
  },
  {
   "cell_type": "code",
   "execution_count": null,
   "metadata": {},
   "outputs": [],
   "source": [
    "pd.concat([df_param.mode(), pd.DataFrame(df_param.mean(axis=0)).T,pd.DataFrame(df_param.max(axis=0)).T,pd.DataFrame(df_param.min(axis=0)).T])"
   ]
  },
  {
   "cell_type": "code",
   "execution_count": null,
   "metadata": {},
   "outputs": [],
   "source": [
    "matriz_confusion = confusion_matrix(Y, model_chido.predict(X),labels=model_chido.classes_)\n",
    "show_matriz_confusion(matriz_confusion)"
   ]
  },
  {
   "cell_type": "code",
   "execution_count": null,
   "metadata": {},
   "outputs": [],
   "source": [
    "get_scores_clasification(Y,model_chido.predict(X))"
   ]
  },
  {
   "cell_type": "code",
   "execution_count": null,
   "metadata": {},
   "outputs": [],
   "source": [
    "df.tail()"
   ]
  },
  {
   "cell_type": "code",
   "execution_count": null,
   "metadata": {},
   "outputs": [],
   "source": [
    "from glob import glob\n",
    "\n",
    "con = open_conexion_get('HectorLP5',contraseñas['MYSQL_PASSW'],database='BNB')\n",
    "all_models = glob('Models/*.pkl')\n",
    "\n",
    "\n",
    "modelos_save = []\n",
    "\n",
    "for model in all_models:\n",
    "    modelos_save.append(model.replace('\\\\','/').split('/')[-1].split('.')[0])\n",
    "modelos_save"
   ]
  },
  {
   "cell_type": "code",
   "execution_count": null,
   "metadata": {},
   "outputs": [],
   "source": [
    "from sklearn.model_selection import train_test_split\n",
    "from sklearn.tree import DecisionTreeClassifier\n",
    "from Traine.train_models import *\n",
    "import pickle\n",
    "from sklearn.model_selection import TimeSeriesSplit\n",
    "\n",
    "ts = TimeSeriesSplit(test_size=200,n_splits=8)\n",
    "\n",
    "simbolos = ['BNBBTC', 'BNBETH', 'BNBUSDT', 'BNBTUSD', 'BNBUSDC', 'BNBBUSD',\n",
    "       'BNBRUB', 'BNBTRY', 'BNBEUR', 'BNBGBP', 'BNBBIDR', 'BNBDAI',\n",
    "       'BNBBRL', 'BNBUAH', 'BNBFDUSD']\n",
    "intervalos = [\"1d\",\"4h\",\"1h\"]\n",
    "\n",
    "n_period = 1\n",
    "col_use = \"Close\"\n",
    "cols_x = ['Open', 'High', 'Low', 'Volume', 'Quote_asset_vol', 'Number_trades',\n",
    "       'Taker_buy_base', 'Taker_buy_quote',\"Close_pc_1\"]\n",
    "col_y = col_use + \"_dir_1\"\n",
    "\n",
    "# Definir el rango de valores para cada parámetro\n",
    "param_grid = {\n",
    "   # 'n_estimators': [50,100, 200, 300], # Cantidad de arboles\n",
    "    'max_depth': [ 10, 20,30,50],\n",
    "    'min_samples_split': [2, 5, 10], # Cantidad de muestras para dividir un nodo\n",
    "    'min_samples_leaf': [1, 2, 4,10],   # Cantidad de muestras para dividir una hoja\n",
    "    'max_features': ['auto', 'sqrt', 'log2'],\n",
    "    'criterion': ['gini', 'entropy', 'log_loss']\n",
    "}\n",
    "scoring = 'accuracy'\n",
    "\n",
    "con = open_conexion_get('HectorLP5',contraseñas['MYSQL_PASSW'],database='BNB')\n",
    "\n",
    "\n",
    "\n",
    "\n",
    "\n",
    "\n",
    "\n",
    "for simbol in simbolos:\n",
    "    for interval in intervalos:\n",
    "        table_name = simbol+\"_\"+interval \n",
    "        name_model = \"DecisionTreeClassifier_\"+table_name\n",
    "        if name_model in modelos_save:\n",
    "            continue\n",
    "        \n",
    "        df = pd.read_sql_query(f\"\"\"\n",
    "                      SELECT *\n",
    "                      FROM {table_name}\n",
    "                      \"\"\", con)\n",
    "\n",
    "        df.Name = table_name\n",
    "        df.Close_Time = df.Close_Time \n",
    "        # Hacer index la fecha\n",
    "        df = df.set_index(\"Close_Time\")\n",
    "        \n",
    "\n",
    "        cols_dir, cols_pc = get_cols_pc_and_dir(n_period,col_use)\n",
    "\n",
    "        df = change_percentual(df,col_use,n_periods=n_period,\n",
    "                            get_direction=True,all_periods=True)\n",
    "        df_train = df.dropna(how=\"any\")\n",
    "        df_train.rename(columns={'Volumne':'Volume'},inplace=True)\n",
    "        \n",
    "        Y = df_train[col_y].copy()\n",
    "        X = df_train[cols_x].copy()\n",
    "        Y = Y.map({\"UP\":1,\"DOWN\":0})\n",
    "        \n",
    "        X_train, X_test, y_train, y_test = train_test_split(X, Y, test_size=0.2, random_state=42)\n",
    "        \n",
    "        model = DecisionTreeClassifier(random_state=42)\n",
    "        \n",
    "        gs = grid_search(X_train,y_train,model,param_grid,cv=ts,verbose=1,scoring=scoring,return_train_score=False)\n",
    "\n",
    "        # Evaluar el modelo final en los datos de prueba\n",
    "        model_chido = gs.best_estimator_\n",
    "        get_scores_clasification(y_test, model_chido.predict(X_test),table_name=table_name)\n",
    "        input('Presiona intro para seguir!')\n",
    "        if input(\"Desea guardar el modelo?:  \").lower() in ['1',1,\"si\"]:\n",
    "            \n",
    "            with open(f'Models/{name_model}.pkl', 'wb') as f:\n",
    "                pickle.dump(model_chido, f)\n",
    "              \n",
    "    \n",
    "con.close()  "
   ]
  },
  {
   "cell_type": "code",
   "execution_count": null,
   "metadata": {},
   "outputs": [],
   "source": [
    "X.shape, Y.shape"
   ]
  },
  {
   "attachments": {},
   "cell_type": "markdown",
   "metadata": {},
   "source": [
    "## Modelos de regresion\n",
    "\n",
    "Aqui te dejo una lista de los scoring que se usan en la regresion\n",
    "\n",
    "| Scoring | Function | Comment|\n",
    "| --- | ---: | :---: |\n",
    "|Regresion |  |  |\n",
    "| ‘explained_variance’ | metrics.explained_variance_score | |\n",
    "| ‘max_error’ | metrics.max_error | |\n",
    "| ‘neg_mean_absolute_error’ | metrics.mean_absolute_error | |\n",
    "| ‘neg_mean_squared_error’ | metrics.mean_squared_error | |\n",
    "| ‘neg_root_mean_squared_error’ | metrics.mean_squared_error | |\n",
    "| ‘neg_mean_squared_log_error’ | metrics.mean_squared_log_error | |\n",
    "| ‘neg_median_absolute_error’ | metrics.median_absolute_error | |\n",
    "| ‘r2’ | metrics.r2_score | |\n",
    "| ‘neg_mean_poisson_deviance’ | metrics.mean_poisson_deviance | |\n",
    "| ‘neg_mean_gamma_deviance’ | metrics.mean_gamma_deviance | |\n",
    "| ‘neg_mean_absolute_percentage_error’ | metrics.mean_absolute_percentage_error | |\n",
    "| ‘d2_absolute_error_score’ | metrics.d2_absolute_error_score | |\n",
    "| ‘d2_pinball_score’ | metrics.d2_pinball_score | |\n",
    "| ‘d2_tweedie_score’ | metrics.d2_tweedie_score | |\n"
   ]
  },
  {
   "attachments": {},
   "cell_type": "markdown",
   "metadata": {},
   "source": [
    "### Verificacion de supuestos (Gauss-Markov)\n",
    "\n",
    "- Supuesto 1 del MRLS: Linealidad de los parámetros\n",
    "- Supuesto 2 del MRLS: Muestreo aleatorio\n",
    "- Supuesto 3 del MRLS: Variación muestral de la variable explicativa\n",
    "- Supuesto 4 del MRLS: Media condicional cero"
   ]
  },
  {
   "cell_type": "code",
   "execution_count": null,
   "metadata": {},
   "outputs": [],
   "source": [
    "from sklearn.metrics import r2_score, mean_absolute_error, mean_squared_error, explained_variance_score\n",
    "\n",
    "def get_scores_regresion(y_true, y_pred):\n",
    "    table = []\n",
    "    table.append([\"R2\",r2_score(y_true,y_pred), \"-> 1\"])\n",
    "    table.append([\"Absolute error\", mean_absolute_error(y_true, y_pred), \"-> 0\"])\n",
    "    table.append([\"Squared error\", mean_squared_error(y_true, y_pred), \"-> 0\"])\n",
    "    table.append([\"Explained variance\", explained_variance_score(y_true, y_pred), \" -> 1\"])\n",
    "    \n",
    "    headers = [\"Score Fn\", \"Value\",\"Ideal\"]\n",
    "    table_str = tabulate(table, headers, tablefmt='grid')\n",
    "\n",
    "    print(table_str)"
   ]
  },
  {
   "cell_type": "code",
   "execution_count": null,
   "metadata": {},
   "outputs": [],
   "source": [
    "from sklearn.model_selection import TimeSeriesSplit\n",
    "from sklearn.model_selection import GridSearchCV\n",
    "import numpy as np"
   ]
  },
  {
   "attachments": {},
   "cell_type": "markdown",
   "metadata": {},
   "source": [
    "### Bayesian Regression¶\n",
    "* Las ventajas de la regresión bayesiana son:\n",
    "\n",
    "Se adapta a los datos disponibles.\n",
    "\n",
    "Se puede utilizar para incluir parámetros de regularización en el procedimiento de estimación.\n",
    "\n",
    "* Las desventajas de la regresión bayesiana incluyen:\n",
    "\n",
    "La inferencia del modelo puede llevar mucho tiempo."
   ]
  },
  {
   "cell_type": "code",
   "execution_count": null,
   "metadata": {},
   "outputs": [],
   "source": [
    "from sklearn.linear_model import BayesianRidge\n",
    "\n",
    "\n",
    "def entrenar_bayesian_ridge(x_train, y_train, hiperparametros,ts):\n",
    "    \"\"\"\n",
    "    Entrena un modelo BayesianRidge utilizando búsqueda en cuadrícula (grid search) con diferentes hiperparámetros.\n",
    "\n",
    "    Parameters:\n",
    "    - x_train: Datos de entrenamiento (numpy array o similar).\n",
    "    - y_train: Etiquetas de entrenamiento (numpy array o similar).\n",
    "    - hiperparametros: Diccionario de hiperparámetros a probar.\n",
    "\n",
    "    Returns:\n",
    "    - Mejor modelo BayesianRidge encontrado.\n",
    "    \"\"\"\n",
    "\n",
    "    # Crear el modelo BayesianRidge\n",
    "    modelo = BayesianRidge()\n",
    "\n",
    "    # Crear el objeto GridSearchCV para búsqueda en cuadrícula\n",
    "    grid_search = GridSearchCV(modelo, hiperparametros, cv=ts, scoring=('neg_mean_squared_error'))\n",
    "\n",
    "    # Entrenar el modelo con diferentes hiperparámetros\n",
    "    grid_search.fit(x_train, y_train)\n",
    "\n",
    "    # Devolver el mejor modelo encontrado\n",
    "    mejor_modelo = grid_search.best_estimator_\n",
    "\n",
    "    return mejor_modelo\n",
    "\n",
    "# Ejemplo de uso:\n",
    "def train_BayesianRidge(x_train,y_train,ts):\n",
    "    # Datos de entrenamiento de ejemplo\n",
    "\n",
    "    # Hiperparámetros a probar (ejemplo)\n",
    "    hiperparametros = {\n",
    "        'alpha_1':  [1e-6, 1e-5, 1e-4,1e-3,1e-2,1e-1,1e-0],\n",
    "        'alpha_2':  [1e-6, 1e-5, 1e-4,1e-3,1e-2,1e-1,1e-0],\n",
    "        'lambda_1': [1e-6, 1e-5, 1e-4,1e-3,1e-2,1e-1,1e-0],\n",
    "        'lambda_2': [1e-6, 1e-5, 1e-4,1e-3,1e-2,1e-1,1e-0],\n",
    "        'tol': [0.001,0.01,0.1,1]\n",
    "    }\n",
    "\n",
    "    # Entrenar el modelo BayesianRidge con búsqueda en cuadrícula\n",
    "    mejor_modelo = entrenar_bayesian_ridge(x_train, y_train, hiperparametros,ts)\n",
    "\n",
    "    # Imprimir los hiperparámetros del mejor modelo encontrado\n",
    "    print(\"Mejores hiperparámetros:\")\n",
    "    print(mejor_modelo.get_params())\n",
    "    print('Score', mejor_modelo.scores_)\n",
    "    return mejor_modelo, mejor_modelo.get_params()\n"
   ]
  },
  {
   "cell_type": "code",
   "execution_count": null,
   "metadata": {},
   "outputs": [],
   "source": [
    "model.score(x_train,yy_train)"
   ]
  },
  {
   "cell_type": "code",
   "execution_count": null,
   "metadata": {},
   "outputs": [],
   "source": [
    "ts = TimeSeriesSplit(test_size=200)\n",
    "model,params = train_BayesianRidge(x_train,yy_train,ts)"
   ]
  },
  {
   "cell_type": "code",
   "execution_count": null,
   "metadata": {},
   "outputs": [],
   "source": [
    "modelo = BayesianRidge(**params)\n",
    "modelo.fit(x_train,yy_train)"
   ]
  },
  {
   "cell_type": "code",
   "execution_count": null,
   "metadata": {},
   "outputs": [],
   "source": [
    "modelo.score(x_train,yy_train)"
   ]
  },
  {
   "attachments": {},
   "cell_type": "markdown",
   "metadata": {},
   "source": [
    "Conclusion 20/09/23 es muy tardado y poco eficiente\n",
    "el maxim score obtenido es de 0.38406808714597873 tardando 12 min cuyos parametros fueron:\n",
    "\n",
    "{'alpha_1': 1.0, 'alpha_2': 1e-06, 'alpha_init': None, 'compute_score': False, 'copy_X': True, 'fit_intercept': True, 'lambda_1': 1e-06, 'lambda_2': 1.0, 'lambda_init': None, 'max_iter': None, 'n_iter': 'deprecated', 'tol': 0.001, 'verbose': False}"
   ]
  },
  {
   "attachments": {},
   "cell_type": "markdown",
   "metadata": {},
   "source": [
    "### Arbol de regresion"
   ]
  },
  {
   "cell_type": "code",
   "execution_count": null,
   "metadata": {},
   "outputs": [],
   "source": [
    "from sklearn.tree import DecisionTreeRegressor\n",
    "from sklearn.model_selection import GridSearchCV\n",
    "import numpy as np\n",
    "import matplotlib.pyplot as plt\n",
    "\n",
    "def entrenar_decision_tree(x_train, y_train, hiperparametros,ts):\n",
    "    \"\"\"\n",
    "    Entrena un modelo DecisionTreeRegressor utilizando búsqueda en cuadrícula (grid search) con diferentes hiperparámetros.\n",
    "\n",
    "    Parameters:\n",
    "    - x_train: Datos de entrenamiento (numpy array o similar).\n",
    "    - y_train: Etiquetas de entrenamiento (numpy array o similar).\n",
    "    - hiperparametros: Diccionario de hiperparámetros a probar.\n",
    "\n",
    "    Returns:\n",
    "    - Mejor modelo DecisionTreeRegressor encontrado.\n",
    "    \"\"\"\n",
    "\n",
    "    # Crear el modelo DecisionTreeRegressor\n",
    "    modelo = DecisionTreeRegressor()\n",
    "\n",
    "    # Crear el objeto GridSearchCV para búsqueda en cuadrícula\n",
    "    grid_search = GridSearchCV(modelo, hiperparametros, cv=ts, scoring='neg_mean_squared_error')\n",
    "\n",
    "    # Entrenar el modelo con diferentes hiperparámetros\n",
    "    grid_search.fit(x_train, y_train)\n",
    "\n",
    "    # Devolver el mejor modelo encontrado\n",
    "    mejor_modelo = grid_search.best_estimator_\n",
    "\n",
    "    # Obtener los resultados de la búsqueda en cuadrícula\n",
    "    resultados = grid_search.cv_results_\n",
    "   \n",
    "\n",
    "    # Graficar los puntajes en función de los hiperparámetros\n",
    "    #graficar_resultados(resultados, hiperparametros)\n",
    "\n",
    "    return mejor_modelo\n",
    "\n",
    "\n",
    "# Ejemplo de uso:\n",
    "def train_DecisionTreeRegresor(x_train,y_train,ts):\n",
    "    # Datos de entrenamiento de ejemplo\n",
    "    #x_train = np.array([[1, 2], [2, 3], [3, 4], [4, 5]])\n",
    "    #y_train = np.array([1, 2, 3, 4])\n",
    "\n",
    "    # Hiperparámetros a probar (ejemplo)\n",
    "    hiperparametros = {\n",
    "        'max_depth': [None,3, 5, 10, 15,30],\n",
    "        'min_samples_split': [2, 5, 10],\n",
    "        'min_samples_leaf': [1, 2, 4],\n",
    "        #\"criterion\":[\"squared_error\", \"friedman_mse\", \"absolute_error\", \"poisson\"],\n",
    "        \"splitter\": [\"best\", \"random\"],\n",
    "        #\"max_features\":[\"auto\", \"sqrt\", \"log2\"],\n",
    "        #\"max_leaf_nodes\":[2,5,10],\n",
    "        #\"min_weight_fraction_leaf\":[0,0.01,0.1,0.3]\n",
    "    }\n",
    "\n",
    "    # Entrenar el modelo DecisionTreeRegressor con búsqueda en cuadrícula y visualizar los gráficos\n",
    "    mejor_modelo = entrenar_decision_tree(x_train, y_train, hiperparametros,ts)\n",
    "\n",
    "    # Imprimir los hiperparámetros del mejor modelo encontrado\n",
    "    print(\"Mejores hiperparámetros:\")\n",
    "    print(mejor_modelo.get_params())\n",
    "    return mejor_modelo, mejor_modelo.get_params()\n"
   ]
  },
  {
   "cell_type": "code",
   "execution_count": null,
   "metadata": {},
   "outputs": [],
   "source": [
    "ts = TimeSeriesSplit(test_size=100)\n",
    "model, params = train_DecisionTreeRegresor(x_train,yy_train,ts)"
   ]
  },
  {
   "cell_type": "code",
   "execution_count": null,
   "metadata": {},
   "outputs": [],
   "source": [
    "model.score(x_train,yy_train)"
   ]
  },
  {
   "cell_type": "code",
   "execution_count": null,
   "metadata": {},
   "outputs": [],
   "source": [
    "get_scores_regresion(yy_train,model.predict(x_train))"
   ]
  },
  {
   "cell_type": "code",
   "execution_count": null,
   "metadata": {},
   "outputs": [],
   "source": [
    "get_scores_regresion(yy_test,model.predict(x_test))"
   ]
  },
  {
   "attachments": {},
   "cell_type": "markdown",
   "metadata": {},
   "source": [
    "Conclusion\n",
    "\n",
    "score: 042 parametros: {'ccp_alpha': 0.0, 'criterion': 'squared_error', 'max_depth': 30, 'max_features': 'sqrt', 'max_leaf_nodes': 10, 'min_impurity_decrease': 0.0, 'min_samples_leaf': 4, 'min_samples_split': 2, 'min_weight_fraction_leaf': 0.0, 'random_state': None, 'splitter': 'random'}\n",
    "\n",
    "score: 0.39 time: 9m parametros: {'ccp_alpha': 0.0, 'criterion': 'absolute_error', 'max_depth': 3, 'max_features': 'sqrt', 'max_leaf_nodes': None, 'min_impurity_decrease': 0.0, 'min_samples_leaf': 2, 'min_samples_split': 10, 'min_weight_fraction_leaf': 0.0, 'random_state': None, 'splitter': 'best'}\n",
    "\n",
    "score: 0.46, time:13.2, parametros: {'ccp_alpha': 0.0, 'criterion': 'squared_error', 'max_depth': 3, 'max_features': 'sqrt', 'max_leaf_nodes': None, 'min_impurity_decrease': 0.0, 'min_samples_leaf': 2, 'min_samples_split': 5, 'min_weight_fraction_leaf': 0.0, 'random_state': None, 'splitter': 'best'}\n",
    "\n",
    "score: 0.50, time 7m, parametros: {'ccp_alpha': 0.0, 'criterion': 'absolute_error', 'max_depth': 5, 'max_features': None, 'max_leaf_nodes': None, 'min_impurity_decrease': 0.0, 'min_samples_leaf': 4, 'min_samples_split': 10, 'min_weight_fraction_leaf': 0.0, 'random_state': None, 'splitter': 'best'}\n",
    "\n",
    "score: 0.44, time: 11m, parametros: {'ccp_alpha': 0.0, 'criterion': 'absolute_error', 'max_depth': 3, 'max_features': None, 'max_leaf_nodes': None, 'min_impurity_decrease': 0.0, 'min_samples_leaf': 1, 'min_samples_split': 2, 'min_weight_fraction_leaf': 0.0, 'random_state': None, 'splitter': 'best'}\n",
    "\n",
    "score: 0.42, time: 81m, parametros: {'ccp_alpha': 0.0, 'criterion': 'absolute_error', 'max_depth': 10, 'max_features': 'sqrt', 'max_leaf_nodes': 10, 'min_impurity_decrease': 0.0, 'min_samples_leaf': 1, 'min_samples_split': 10, 'min_weight_fraction_leaf': 0.01, 'random_state': None, 'splitter': 'best'}\n",
    "\n",
    "score: 0.56, time: 39s, parametros: {'ccp_alpha': 0.0, 'criterion': 'squared_error', 'max_depth': 5, 'max_features': None, 'max_leaf_nodes': None, 'min_impurity_decrease': 0.0, 'min_samples_leaf': 4, 'min_samples_split': 2, 'min_weight_fraction_leaf': 0.0, 'random_state': None, 'splitter': 'best'}"
   ]
  },
  {
   "attachments": {},
   "cell_type": "markdown",
   "metadata": {},
   "source": [
    "### Regresion Lineal\n",
    "\n",
    "Ordinary least squares Linear Regression."
   ]
  },
  {
   "cell_type": "code",
   "execution_count": null,
   "metadata": {},
   "outputs": [],
   "source": [
    "x_train.info()"
   ]
  },
  {
   "cell_type": "code",
   "execution_count": null,
   "metadata": {},
   "outputs": [],
   "source": [
    "from sklearn.linear_model import LinearRegression\n",
    "ts = TimeSeriesSplit(test_size=100)\n",
    "\n",
    "model = LinearRegression(fit_intercept=True)\n",
    "model.fit(x_train, yy_train)\n",
    "model.score(x_train, yy_train)"
   ]
  },
  {
   "cell_type": "code",
   "execution_count": null,
   "metadata": {},
   "outputs": [],
   "source": [
    "get_scores_regresion(yy_train,model.predict(x_train))"
   ]
  },
  {
   "attachments": {},
   "cell_type": "markdown",
   "metadata": {},
   "source": [
    "## Backtesting"
   ]
  },
  {
   "attachments": {},
   "cell_type": "markdown",
   "metadata": {},
   "source": [
    "### Sobre clasificacion"
   ]
  },
  {
   "cell_type": "code",
   "execution_count": null,
   "metadata": {},
   "outputs": [],
   "source": [
    "# Leer el modelo\n",
    "import pickle\n",
    "from sklearn.metrics import accuracy_score\n",
    "with open('Models/DecisionTreeClassifier.pkl', 'rb') as f:\n",
    "    model_chido = pickle.load(f)\n",
    "\n",
    "print('Acuracy del modelo sobre set de testeo: ',accuracy_score(yy_test, model_dt.predict(x_test)))"
   ]
  },
  {
   "cell_type": "code",
   "execution_count": null,
   "metadata": {},
   "outputs": [],
   "source": [
    "df.Name"
   ]
  },
  {
   "cell_type": "code",
   "execution_count": null,
   "metadata": {},
   "outputs": [],
   "source": [
    "print(accuracy)"
   ]
  },
  {
   "cell_type": "code",
   "execution_count": null,
   "metadata": {},
   "outputs": [],
   "source": [
    "# Bactesting\n",
    "from backtesting import Strategy, Backtest\n",
    "\n",
    "class ClassificationUP(Strategy):\n",
    "    def init(self):\n",
    "        # Instanciamos el modelo\n",
    "        self.model = model_dt  #model_chido, best_model\n",
    "        # Indicadora sobre si ya hemos comprado\n",
    "        self.already_bought = False\n",
    "\n",
    "    def next(self):\n",
    "        # Variable global de Strategy data.df\n",
    "        #print(self.data.df.columns)\n",
    "        explanatory_today = self.data.df.iloc[-1:, :]\n",
    "        forecast_tomorrow = self.model.predict(explanatory_today)[0]\n",
    "\n",
    "        # conditions to sell or buy\n",
    "\n",
    "        ## Buy\n",
    "        if forecast_tomorrow == 'UP' and self.already_bought == False:\n",
    "            self.buy()\n",
    "            self.already_bought = True\n",
    "\n",
    "        ## Sell\n",
    "        elif forecast_tomorrow == 'DOWN' and self.already_bought == True:\n",
    "            self.sell()\n",
    "            self.already_bought = False\n",
    "\n",
    "        ## Nothing\n",
    "        else: pass\n",
    "        \n",
    "        \n",
    "bt = Backtest(data=X.iloc[:-1], strategy=ClassificationUP,\n",
    "              cash=20000, commission=.002, exclusive_orders=True)\n",
    "results = bt.run()\n",
    "results.to_frame(name='Values').loc[:'Avg. Trade Duration']"
   ]
  },
  {
   "cell_type": "code",
   "execution_count": null,
   "metadata": {},
   "outputs": [],
   "source": [
    "X_test.loc[ind]"
   ]
  },
  {
   "cell_type": "code",
   "execution_count": null,
   "metadata": {},
   "outputs": [],
   "source": [
    "0.1/100"
   ]
  },
  {
   "attachments": {},
   "cell_type": "markdown",
   "metadata": {},
   "source": [
    "Para saber mas acerca sobre la comision en binance [aqui](https://www.binance.com/es/fee/trading)"
   ]
  },
  {
   "cell_type": "code",
   "execution_count": null,
   "metadata": {},
   "outputs": [],
   "source": [
    "model_chido = model_test"
   ]
  },
  {
   "cell_type": "code",
   "execution_count": null,
   "metadata": {},
   "outputs": [],
   "source": [
    "monto = 100\n",
    "comision = 0.001\n",
    "\n",
    "\n",
    "# Variables don't move.\n",
    "open_short = False\n",
    "open_long  = False\n",
    "count = 0\n",
    "\n",
    "for ind in x_test.index:\n",
    "    \n",
    "    if count ==0:\n",
    "        new_monto = monto\n",
    "    count += 1\n",
    "    \n",
    "    # PRediccion\n",
    "    tomorrow_case = model_chido.predict(df.loc[ind,cols_x].values.reshape(1, -1))\n",
    "    \n",
    "    ## Caso 1: Abrir long\n",
    "    if tomorrow_case=='UP' and open_long==False and open_short==False:\n",
    "        df.loc[ind, 'Operacion'] = 'Open_Long'\n",
    "        price_operation = df.loc[ind,'Close']\n",
    "        open_long = True\n",
    "        new_monto = new_monto*(1-comision)\n",
    "    \n",
    "    ## Caso 2: Abrir short\n",
    "    elif tomorrow_case=='DOWN' and open_long==False and open_short==False:\n",
    "        df.loc[ind, 'Operacion'] = 'Open_Short'\n",
    "        price_operation = df.loc[ind,'Close']\n",
    "        open_short = True\n",
    "        new_monto = new_monto*(1-comision)\n",
    "    \n",
    "    ## Caso 3: Cerrar Long\n",
    "    elif tomorrow_case=='DOWN' and open_long==True and open_short==False:\n",
    "        df.loc[ind, 'Operacion'] = 'Close_long'\n",
    "        ganancia_per = (df.loc[ind,'Close'] - price_operation)/ price_operation\n",
    "        df.loc[ind,'Ganancia_per'] = ganancia_per *100\n",
    "        new_monto = new_monto * (1+ganancia_per)\n",
    "         \n",
    "        open_long = False\n",
    "    \n",
    "    ## Caso 4: Cerrar Short\n",
    "    elif tomorrow_case=='UP' and open_long==False and open_short==True:\n",
    "        df.loc[ind, 'Operacion'] = 'Close_Short'\n",
    "        ganancia_per = ( price_operation - df.loc[ind,'Close'] )/ price_operation\n",
    "        df.loc[ind,'Ganancia_per'] = ganancia_per * 100\n",
    "        new_monto = new_monto * (1+ganancia_per)\n",
    "        \n",
    "        open_short = False\n",
    "\n",
    "df.loc[df['Operacion']=='Open_Short', 'Ganancia'] = None\n",
    "print('Monto actualizado: ', new_monto)\n"
   ]
  },
  {
   "cell_type": "code",
   "execution_count": null,
   "metadata": {},
   "outputs": [],
   "source": [
    "col_y"
   ]
  },
  {
   "cell_type": "code",
   "execution_count": null,
   "metadata": {},
   "outputs": [],
   "source": [
    "total_trades = df['Operacion'].value_counts()[df['Operacion'].value_counts().index.str.contains('Close')].sum()\n",
    "print(\"******************Total de trades = \",total_trades,\" ***************\")\n",
    "df['Operacion'].value_counts()"
   ]
  },
  {
   "cell_type": "code",
   "execution_count": null,
   "metadata": {},
   "outputs": [],
   "source": [
    "df['Prediccion'] = model_chido.predict(df[cols_x])\n",
    "df[['Close','Close_dir_2',\"Prediccion\",'Operacion','Ganancia_per']].iloc[-x_test.shape[0]:].to_csv('Data/Prueba_back.csv')"
   ]
  },
  {
   "cell_type": "code",
   "execution_count": null,
   "metadata": {},
   "outputs": [],
   "source": [
    "cols_x"
   ]
  },
  {
   "attachments": {},
   "cell_type": "markdown",
   "metadata": {},
   "source": [
    "### Conclusiones \n",
    "\n",
    "***01-09-2023*** </br>\n",
    "El modelo arbol de decision resulta ser mu bueno para estimar el movimiento del periodo siguiente. </br>\n",
    "Se usaron las columnas: \n",
    "\n",
    "['Open',\n",
    " 'High',\n",
    " 'Low',\n",
    " 'Close',\n",
    " 'Volume',\n",
    " 'Quote_asset_vol',\n",
    " 'Number_trades',\n",
    " 'Taker_buy_base',\n",
    " 'Taker_buy_quote',\n",
    " 'Close_pc']\n",
    "\n",
    " precision del 100%\n"
   ]
  },
  {
   "cell_type": "code",
   "execution_count": null,
   "metadata": {},
   "outputs": [],
   "source": []
  },
  {
   "attachments": {},
   "cell_type": "markdown",
   "metadata": {},
   "source": [
    "# otro"
   ]
  },
  {
   "cell_type": "code",
   "execution_count": null,
   "metadata": {},
   "outputs": [],
   "source": [
    "# Encripta el archivo credenciales.txt con la clave generada\n",
    "encriptar_archivo('Data/credenciales.txt', clave)\n"
   ]
  },
  {
   "cell_type": "code",
   "execution_count": null,
   "metadata": {},
   "outputs": [],
   "source": [
    "# Escribe la información desencriptada en otro archivo\n",
    "escribir_desencriptado('Data/vacio.txt', 'Data/IP.txt', clave_file1)"
   ]
  }
 ],
 "metadata": {
  "kernelspec": {
   "display_name": "hlp",
   "language": "python",
   "name": "python3"
  },
  "language_info": {
   "codemirror_mode": {
    "name": "ipython",
    "version": 3
   },
   "file_extension": ".py",
   "mimetype": "text/x-python",
   "name": "python",
   "nbconvert_exporter": "python",
   "pygments_lexer": "ipython3",
   "version": "3.9.12"
  },
  "orig_nbformat": 4
 },
 "nbformat": 4,
 "nbformat_minor": 2
}
