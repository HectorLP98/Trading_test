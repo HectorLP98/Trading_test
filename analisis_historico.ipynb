{
 "cells": [
  {
   "cell_type": "code",
   "execution_count": 14,
   "metadata": {},
   "outputs": [],
   "source": [
    "import pandas as pd \n",
    "from conexion import open_conexion_get,desencriptar_archivo\n",
    "from fechas import *\n",
    "from datetime import timedelta\n",
    "import ta\n",
    "import matplotlib.pyplot as plt\n",
    "from tabulate import tabulate\n",
    "# Prueba de hipotesis\n",
    "from scipy import stats\n",
    "import numpy as np"
   ]
  },
  {
   "cell_type": "code",
   "execution_count": null,
   "metadata": {},
   "outputs": [],
   "source": [
    "# Lee la clave hash para desencriptar\n",
    "with open('Data/clave.key', 'r') as clave_file:\n",
    "    clave = clave_file.read()\n",
    "# Lee las contraseñas del archivo encriptado y muestra el resultado deseado\n",
    "contraseñas = desencriptar_archivo('Data/credenciales.txt', clave)"
   ]
  },
  {
   "cell_type": "code",
   "execution_count": 16,
   "metadata": {},
   "outputs": [],
   "source": [
    "con = open_conexion_get('HectorLP5',contraseñas['MYSQL_PASSW'],database='BNB')"
   ]
  },
  {
   "cell_type": "code",
   "execution_count": 9,
   "metadata": {},
   "outputs": [],
   "source": [
    "intervalos = [\"1d\",\"12h\",\"8h\",\"6h\",\"4h\",\"2h\",\"1h\"]\n",
    "simbolos = ['BTCUSDT','TRXUSDT',\"BNBUSDT\",\"XRPUSDT\",\"ETHUSDT\"]\n",
    "# BNB: ['BNBBTC', 'BNBETH', 'BNBUSDT', 'BNBTUSD', 'BNBUSDC', 'BNBBUSD',\n",
    "#       'BNBRUB', 'BNBTRY', 'BNBEUR', 'BNBGBP', 'BNBBIDR', 'BNBDAI',\n",
    "#       'BNBBRL', 'BNBUAH', 'BNBFDUSD']"
   ]
  },
  {
   "cell_type": "code",
   "execution_count": 17,
   "metadata": {},
   "outputs": [
    {
     "data": {
      "text/plain": [
       "(8146, 10)"
      ]
     },
     "execution_count": 17,
     "metadata": {},
     "output_type": "execute_result"
    }
   ],
   "source": [
    "interval = \"4h\"\n",
    "symbol = \"BNBBTC\"\n",
    "table_name = symbol +'_'+ interval\n",
    "#con = sqlite3.connect('Data/'+symbol)\n",
    "\n",
    "df = pd.read_sql_query(f\"\"\"\n",
    "                      SELECT *\n",
    "                      FROM {table_name}\n",
    "                      \"\"\", con)\n",
    "\n",
    "df.Name = table_name\n",
    "df.Close_Time = df.Close_Time #+ timedelta(seconds=1)\n",
    "# Hacer index la fecha\n",
    "df = df.set_index(\"Close_Time\")\n",
    "# Hacer respaldo \n",
    "df_respaldo = df.copy()\n",
    "df.shape"
   ]
  },
  {
   "cell_type": "code",
   "execution_count": 18,
   "metadata": {},
   "outputs": [
    {
     "data": {
      "text/html": [
       "<div>\n",
       "<style scoped>\n",
       "    .dataframe tbody tr th:only-of-type {\n",
       "        vertical-align: middle;\n",
       "    }\n",
       "\n",
       "    .dataframe tbody tr th {\n",
       "        vertical-align: top;\n",
       "    }\n",
       "\n",
       "    .dataframe thead th {\n",
       "        text-align: right;\n",
       "    }\n",
       "</style>\n",
       "<table border=\"1\" class=\"dataframe\">\n",
       "  <thead>\n",
       "    <tr style=\"text-align: right;\">\n",
       "      <th></th>\n",
       "      <th>Open_Time</th>\n",
       "      <th>Open</th>\n",
       "      <th>High</th>\n",
       "      <th>Low</th>\n",
       "      <th>Close</th>\n",
       "      <th>Volumne</th>\n",
       "      <th>Quote_asset_vol</th>\n",
       "      <th>Number_trades</th>\n",
       "      <th>Taker_buy_base</th>\n",
       "      <th>Taker_buy_quote</th>\n",
       "    </tr>\n",
       "    <tr>\n",
       "      <th>Close_Time</th>\n",
       "      <th></th>\n",
       "      <th></th>\n",
       "      <th></th>\n",
       "      <th></th>\n",
       "      <th></th>\n",
       "      <th></th>\n",
       "      <th></th>\n",
       "      <th></th>\n",
       "      <th></th>\n",
       "      <th></th>\n",
       "    </tr>\n",
       "  </thead>\n",
       "  <tbody>\n",
       "    <tr>\n",
       "      <th>2023-09-19 06:00:00</th>\n",
       "      <td>2023-09-19 02:00:00</td>\n",
       "      <td>0.008081</td>\n",
       "      <td>0.008088</td>\n",
       "      <td>0.008006</td>\n",
       "      <td>0.008015</td>\n",
       "      <td>5940.188</td>\n",
       "      <td>47.781540</td>\n",
       "      <td>6328</td>\n",
       "      <td>2149.978</td>\n",
       "      <td>17.284651</td>\n",
       "    </tr>\n",
       "    <tr>\n",
       "      <th>2023-09-19 10:00:00</th>\n",
       "      <td>2023-09-19 06:00:00</td>\n",
       "      <td>0.008014</td>\n",
       "      <td>0.008050</td>\n",
       "      <td>0.007941</td>\n",
       "      <td>0.007961</td>\n",
       "      <td>6426.224</td>\n",
       "      <td>51.413092</td>\n",
       "      <td>7952</td>\n",
       "      <td>2934.947</td>\n",
       "      <td>23.475277</td>\n",
       "    </tr>\n",
       "    <tr>\n",
       "      <th>2023-09-19 14:00:00</th>\n",
       "      <td>2023-09-19 10:00:00</td>\n",
       "      <td>0.007960</td>\n",
       "      <td>0.008006</td>\n",
       "      <td>0.007952</td>\n",
       "      <td>0.007979</td>\n",
       "      <td>3182.359</td>\n",
       "      <td>25.407362</td>\n",
       "      <td>4627</td>\n",
       "      <td>1568.056</td>\n",
       "      <td>12.515532</td>\n",
       "    </tr>\n",
       "    <tr>\n",
       "      <th>2023-09-19 18:00:00</th>\n",
       "      <td>2023-09-19 14:00:00</td>\n",
       "      <td>0.007980</td>\n",
       "      <td>0.008007</td>\n",
       "      <td>0.007974</td>\n",
       "      <td>0.007981</td>\n",
       "      <td>2356.972</td>\n",
       "      <td>18.826701</td>\n",
       "      <td>3219</td>\n",
       "      <td>1122.303</td>\n",
       "      <td>8.964212</td>\n",
       "    </tr>\n",
       "    <tr>\n",
       "      <th>2023-09-19 22:00:00</th>\n",
       "      <td>2023-09-19 18:00:00</td>\n",
       "      <td>0.007981</td>\n",
       "      <td>0.007981</td>\n",
       "      <td>0.007968</td>\n",
       "      <td>0.007972</td>\n",
       "      <td>185.066</td>\n",
       "      <td>1.475613</td>\n",
       "      <td>349</td>\n",
       "      <td>80.435</td>\n",
       "      <td>0.641219</td>\n",
       "    </tr>\n",
       "  </tbody>\n",
       "</table>\n",
       "</div>"
      ],
      "text/plain": [
       "                              Open_Time      Open      High       Low  \\\n",
       "Close_Time                                                              \n",
       "2023-09-19 06:00:00 2023-09-19 02:00:00  0.008081  0.008088  0.008006   \n",
       "2023-09-19 10:00:00 2023-09-19 06:00:00  0.008014  0.008050  0.007941   \n",
       "2023-09-19 14:00:00 2023-09-19 10:00:00  0.007960  0.008006  0.007952   \n",
       "2023-09-19 18:00:00 2023-09-19 14:00:00  0.007980  0.008007  0.007974   \n",
       "2023-09-19 22:00:00 2023-09-19 18:00:00  0.007981  0.007981  0.007968   \n",
       "\n",
       "                        Close   Volumne  Quote_asset_vol  Number_trades  \\\n",
       "Close_Time                                                                \n",
       "2023-09-19 06:00:00  0.008015  5940.188        47.781540           6328   \n",
       "2023-09-19 10:00:00  0.007961  6426.224        51.413092           7952   \n",
       "2023-09-19 14:00:00  0.007979  3182.359        25.407362           4627   \n",
       "2023-09-19 18:00:00  0.007981  2356.972        18.826701           3219   \n",
       "2023-09-19 22:00:00  0.007972   185.066         1.475613            349   \n",
       "\n",
       "                     Taker_buy_base  Taker_buy_quote  \n",
       "Close_Time                                            \n",
       "2023-09-19 06:00:00        2149.978        17.284651  \n",
       "2023-09-19 10:00:00        2934.947        23.475277  \n",
       "2023-09-19 14:00:00        1568.056        12.515532  \n",
       "2023-09-19 18:00:00        1122.303         8.964212  \n",
       "2023-09-19 22:00:00          80.435         0.641219  "
      ]
     },
     "execution_count": 18,
     "metadata": {},
     "output_type": "execute_result"
    }
   ],
   "source": [
    "df = df_respaldo.copy()\n",
    "\n",
    "# Analizar del 2022 al ultimo\n",
    "df = df[df.index > '2020-01-01']\n",
    "df.tail()\n"
   ]
  },
  {
   "cell_type": "code",
   "execution_count": null,
   "metadata": {},
   "outputs": [],
   "source": [
    "df_respaldo.tail(4)"
   ]
  },
  {
   "cell_type": "code",
   "execution_count": 26,
   "metadata": {},
   "outputs": [],
   "source": [
    "con.close()"
   ]
  },
  {
   "attachments": {},
   "cell_type": "markdown",
   "metadata": {},
   "source": [
    "## Media  movil "
   ]
  },
  {
   "cell_type": "code",
   "execution_count": null,
   "metadata": {},
   "outputs": [],
   "source": [
    "# Version manual\n",
    "col = 'Close'\n",
    "moving_average = df[col].rolling(\n",
    "    window=365,       # 365-day window\n",
    "    center=True,      # puts the average at the center of the window\n",
    "    min_periods=183,  # choose about half the window size\n",
    ").mean()              # compute the mean (could also do median, std, min, max, ...)\n",
    "\n",
    "\n",
    "ax = df[col].plot(style=\".\", color=\"0.5\")\n",
    "moving_average.plot(\n",
    "    ax=ax, linewidth=3, title=\"Tunnel Traffic - 365-Day Moving Average\", legend=False,\n",
    ");"
   ]
  },
  {
   "cell_type": "code",
   "execution_count": 45,
   "metadata": {},
   "outputs": [],
   "source": [
    "# Version libreria ta.\n",
    "col_use = \"Close\"\n",
    "df['EMA7'] = ta.trend.EMAIndicator(close=   df[col_use], window= 7, fillna= False).ema_indicator()\n",
    "df['EMA14'] = ta.trend.EMAIndicator(close=  df[col_use], window= 14, fillna= False).ema_indicator()\n",
    "df['EMA50'] = ta.trend.EMAIndicator(close=  df[col_use], window= 50, fillna= False).ema_indicator()\n",
    "df['EMA200'] = ta.trend.EMAIndicator(close= df[col_use], window= 200,fillna= False).ema_indicator()"
   ]
  },
  {
   "cell_type": "code",
   "execution_count": 49,
   "metadata": {},
   "outputs": [
    {
     "data": {
      "image/png": "[encoded data removed]",
      "text/plain": [
       "<Figure size 720x432 with 1 Axes>"
      ]
     },
     "metadata": {
      "needs_background": "light"
     },
     "output_type": "display_data"
    }
   ],
   "source": [
    "# Graficar EMA's\n",
    "start_date = '2023-09-01 10:00:00'\n",
    "\n",
    "df_plot = df[df.index>start_date].copy()\n",
    "plt.figure(figsize=(10, 6))\n",
    "plt.plot(df_plot.index, df_plot[col_use], label='Close')\n",
    "plt.plot(df_plot.index, df_plot['EMA7'], label='EMA7')\n",
    "plt.plot(df_plot.index, df_plot['EMA14'], label='EMA14')\n",
    "plt.plot(df_plot.index, df_plot['EMA50'], label='EMA50')\n",
    "plt.plot(df_plot.index, df_plot['EMA200'], label='EMA200')\n",
    "plt.legend()\n",
    "plt.title('Bandas Bollinger')\n",
    "plt.xlabel('Fecha')\n",
    "plt.ylabel('Valor')\n",
    "plt.show()"
   ]
  },
  {
   "attachments": {},
   "cell_type": "markdown",
   "metadata": {},
   "source": [
    "## Bandas bollinguer"
   ]
  },
  {
   "cell_type": "code",
   "execution_count": null,
   "metadata": {},
   "outputs": [],
   "source": [
    "# Version manual\n",
    "import matplotlib.pyplot as plt\n",
    "\n",
    "def calcular_bandas_bollinger(datos, ventana, desviacion):\n",
    "    datos['Media'] = datos['Close'].rolling(window=ventana).mean()\n",
    "    datos['Desviacion'] = datos['Close'].rolling(window=ventana).std()\n",
    "    datos['BandaSuperior'] = datos['Media'] + (datos['Desviacion'] * desviacion)\n",
    "    datos['BandaInferior'] = datos['Media'] - (datos['Desviacion'] * desviacion)\n",
    "    return datos\n",
    "\n",
    "def analizar_bandas(datos,col_use='Close'):\n",
    "    señales = []\n",
    "    for i in range(len(datos)):\n",
    "        if datos[col_use][i] > datos['BandaSuperior'][i]:\n",
    "            señales.append('Venta')\n",
    "        elif datos[col_use][i] < datos['BandaInferior'][i]:\n",
    "            señales.append('Compra')\n",
    "        else:\n",
    "            señales.append('Esperar')\n",
    "    return señales\n",
    "\n",
    "\n",
    "# Parámetros de las Bandas Bollinger\n",
    "ventana = 3\n",
    "desviacion = 2\n",
    "col_use = 'Close'\n",
    "\n",
    "# Calcular las Bandas Bollinger\n",
    "df = calcular_bandas_bollinger(df, ventana, desviacion)\n",
    "\n",
    "# Analizar señales de compra/venta\n",
    "df['Señal'] = analizar_bandas(df)\n",
    "\n",
    "# Imprimir el DataFrame con las Bandas Bollinger y las señales\n",
    "#print(df)\n",
    "\n",
    "# Graficar las Bandas Bollinger\n",
    "plt.figure(figsize=(10, 6))\n",
    "plt.plot(df.index, df[col_use], label='Close')\n",
    "plt.plot(df.index, df['BandaSuperior'], label='Banda Superior')\n",
    "plt.plot(df.index, df['BandaInferior'], label='Banda Inferior')\n",
    "plt.legend()\n",
    "plt.title('Bandas Bollinger')\n",
    "plt.xlabel('Fecha')\n",
    "plt.ylabel('Valor')\n",
    "plt.show()"
   ]
  },
  {
   "cell_type": "code",
   "execution_count": 31,
   "metadata": {},
   "outputs": [],
   "source": [
    "# Version libreria ta.\n",
    "col_use = 'Close'\n",
    "ventana = 20\n",
    "desviacion = 2\n",
    "\n",
    "# Indicador bb: It returns 1, if col_use is higher than bollinger_hband. Else, it returns 0.\n",
    "df['BBH_indicator']=ta.volatility.BollingerBands(df[col_use], \n",
    "                                                 window = ventana,\n",
    "                                                 window_dev = desviacion,\n",
    "                                                 fillna = False).bollinger_hband_indicator()\n",
    "# Indicador bb: It returns 1, if col_use is lower than bollinger_lband. Else, it returns 0.\n",
    "df['BBL_indicator']=ta.volatility.BollingerBands(df[col_use],\n",
    "                                                 window = ventana,\n",
    "                                                 window_dev = desviacion,\n",
    "                                                 fillna = False).bollinger_lband_indicator()"
   ]
  },
  {
   "cell_type": "code",
   "execution_count": 38,
   "metadata": {},
   "outputs": [],
   "source": [
    "# Valor bb higher\n",
    "df['BBH']=ta.volatility.BollingerBands(df[col_use], \n",
    "                                                 window = ventana,\n",
    "                                                 window_dev = desviacion,\n",
    "                                                 fillna = False).bollinger_hband()\n",
    "# Valor bb lower\n",
    "df['BBL']=ta.volatility.BollingerBands(df[col_use],\n",
    "                                                 window = ventana,\n",
    "                                                 window_dev = desviacion,\n",
    "                                                 fillna = False).bollinger_lband()\n",
    "# Valor bb average\n",
    "df['BBA']=ta.volatility.BollingerBands(df[col_use],\n",
    "                                                 window = ventana,\n",
    "                                                 window_dev = desviacion,\n",
    "                                                 fillna = False).bollinger_lband()"
   ]
  },
  {
   "cell_type": "code",
   "execution_count": 44,
   "metadata": {},
   "outputs": [
    {
     "data": {
      "image/png": "[encoded data removed]",
      "text/plain": [
       "<Figure size 720x432 with 1 Axes>"
      ]
     },
     "metadata": {
      "needs_background": "light"
     },
     "output_type": "display_data"
    }
   ],
   "source": [
    "# Graficar las Bandas Bollinger\n",
    "start_date = '2023-08-01 10:00:00'\n",
    "\n",
    "df_plot = df[df.index>start_date].copy()\n",
    "plt.figure(figsize=(10, 6))\n",
    "plt.plot(df_plot.index, df_plot[col_use], label='Close')\n",
    "plt.plot(df_plot.index, df_plot['BBH'], label='Banda Superior')\n",
    "plt.plot(df_plot.index, df_plot['BBL'], label='Banda Inferior')\n",
    "plt.plot(df_plot.index, df_plot['BBA'], label='Media')\n",
    "plt.legend()\n",
    "plt.title('Bandas Bollinger')\n",
    "plt.xlabel('Fecha')\n",
    "plt.ylabel('Valor')\n",
    "plt.show()"
   ]
  },
  {
   "attachments": {},
   "cell_type": "markdown",
   "metadata": {},
   "source": [
    "## Cambio percentual y direccion para el n-esimo periodo\n"
   ]
  },
  {
   "cell_type": "code",
   "execution_count": 52,
   "metadata": {},
   "outputs": [],
   "source": [
    "\n",
    "def prueba_hipotesis(df,col_use, alpha, dist='norm', get_data=False):\n",
    "    '''\n",
    "    (Function)\n",
    "        Esta funcion hace 3 pruebas de hipotesis para normalidad\n",
    "    (Parameters)\n",
    "        - df: [list, tuple, array, DataFrame, Series] datos sobre los que se desea la prueba de hipotesis\n",
    "        - col_use: [str] en caso de ser DataFrame usa esa columna para la prueba\n",
    "        - alpha: [float] Nivel de significancia sobre el que se desea hacer la prueba 0.05 -> 95%\n",
    "        - dist: [str] tipo de distribucion para hacer la prueba, puede probar: \n",
    "                {'norm', 'expon', 'logistic', 'gumbel', 'gumbel_l', 'gumbel_r', 'extreme1'}\n",
    "        - get_data: [bool] True para retornar el diccionario de datos \n",
    "    (Ejemplo de uso)\n",
    "        > data = np.random.normal(0, 1, 1000)\n",
    "        > prueba_hipotesis(data,col_use, alpha, dist = 'norm', get_data=False)\n",
    "    '''\n",
    "    datos = {}\n",
    "    \n",
    "    if isinstance(df,pd.DataFrame):\n",
    "        data = df[col_use].dropna()\n",
    "    elif isinstance(df, (np.ndarray, list, tuple, pd.Series)):\n",
    "        data = df\n",
    "\n",
    "    # Realiza la prueba de Anderson-Darling\n",
    "    result = stats.anderson(data,dist=dist) \n",
    "    # Comprueba si la muestra sigue una distribución normal basada en el estadístico de prueba\n",
    "    if result.statistic < result.critical_values[2]:\n",
    "        res = \"Sigue distribucion\"\n",
    "    else:\n",
    "        res = \"No sigue distribucion\"\n",
    "\n",
    "    # apendamos los valores necesarios\n",
    "    datos.update({\"Anderson-Darling\":{'Est_prueba':result.statistic,\n",
    "                                    \"P-value\":result.critical_values[2],\n",
    "                                    \"Veredicto\":res}})\n",
    "\n",
    "\n",
    "    # Realiza la prueba de Shapiro-Wilk\n",
    "    statistic, p_value = stats.shapiro(data)\n",
    "\n",
    "    # Comprueba si la muestra sigue una distribución normal basada en el valor p\n",
    "    if p_value > alpha:\n",
    "        res = \"Sigue distribucion\"\n",
    "    else:\n",
    "        res = \"No sigue distribucion\"\n",
    "        \n",
    "    # apendamos los valores necesarios\n",
    "    datos.update({\"Shapiro-Wilk\":{'Est_prueba':statistic,\n",
    "                                    \"P-value\":p_value,\n",
    "                                    \"Veredicto\":res}})\n",
    "\n",
    "\n",
    "    # Realiza la prueba de Kolmogorov-Smirnov\n",
    "    kstest_result = stats.kstest(data, dist)\n",
    "\n",
    "    if kstest_result.pvalue > alpha:\n",
    "        res = \"Sigue distribucion\"\n",
    "    else:\n",
    "        res = \"No sigue distribucion\"\n",
    "        \n",
    "    # apendamos los valores necesarios\n",
    "    datos.update({\"Kolmogorov-Smirnov\":{'Est_prueba':kstest_result.statistic,\n",
    "                                    \"P-value\":kstest_result.pvalue,\n",
    "                                    \"Veredicto\":res}})\n",
    "\n",
    "\n",
    "    table = []\n",
    "    for test, values in datos.items():\n",
    "        row = [test, values['Est_prueba'], values['P-value'], values['Veredicto']]\n",
    "        table.append(row)\n",
    "\n",
    "    headers = ['Prueba', 'Estadístico de Prueba', 'Valor P', 'Veredicto']\n",
    "    table_str = tabulate(table, headers, tablefmt='grid')\n",
    "\n",
    "    print(table_str)\n",
    "    if get_data:\n",
    "        return datos\n",
    "\n",
    "def get_cols_pc_and_dir(n_period,col_use,separeted=True):\n",
    "    cols_pc = []\n",
    "    cols_dir = []\n",
    "    for i in range(1,n_period+1):\n",
    "        cols_pc.append(col_use+'_pc_'+str(i))\n",
    "        cols_dir.append(col_use+'_dir_'+str(i))\n",
    "    if separeted:\n",
    "        return cols_dir, cols_pc\n",
    "    else:\n",
    "        return cols_dir + cols_pc\n"
   ]
  },
  {
   "cell_type": "code",
   "execution_count": 59,
   "metadata": {},
   "outputs": [
    {
     "data": {
      "text/html": [
       "<div>\n",
       "<style scoped>\n",
       "    .dataframe tbody tr th:only-of-type {\n",
       "        vertical-align: middle;\n",
       "    }\n",
       "\n",
       "    .dataframe tbody tr th {\n",
       "        vertical-align: top;\n",
       "    }\n",
       "\n",
       "    .dataframe thead th {\n",
       "        text-align: right;\n",
       "    }\n",
       "</style>\n",
       "<table border=\"1\" class=\"dataframe\">\n",
       "  <thead>\n",
       "    <tr style=\"text-align: right;\">\n",
       "      <th></th>\n",
       "      <th>Close</th>\n",
       "      <th>Close_dir_1</th>\n",
       "      <th>Close_pc_1</th>\n",
       "    </tr>\n",
       "    <tr>\n",
       "      <th>Close_Time</th>\n",
       "      <th></th>\n",
       "      <th></th>\n",
       "      <th></th>\n",
       "    </tr>\n",
       "  </thead>\n",
       "  <tbody>\n",
       "    <tr>\n",
       "      <th>2020-01-01 06:00:00</th>\n",
       "      <td>0.001906</td>\n",
       "      <td>UP</td>\n",
       "      <td>0.251204</td>\n",
       "    </tr>\n",
       "    <tr>\n",
       "      <th>2020-01-01 10:00:00</th>\n",
       "      <td>0.001911</td>\n",
       "      <td>DOWN</td>\n",
       "      <td>-0.674394</td>\n",
       "    </tr>\n",
       "    <tr>\n",
       "      <th>2020-01-01 14:00:00</th>\n",
       "      <td>0.001898</td>\n",
       "      <td>UP</td>\n",
       "      <td>0.288941</td>\n",
       "    </tr>\n",
       "    <tr>\n",
       "      <th>2020-01-01 18:00:00</th>\n",
       "      <td>0.001904</td>\n",
       "      <td>DOWN</td>\n",
       "      <td>-0.326780</td>\n",
       "    </tr>\n",
       "    <tr>\n",
       "      <th>2020-01-01 22:00:00</th>\n",
       "      <td>0.001897</td>\n",
       "      <td>DOWN</td>\n",
       "      <td>-0.375622</td>\n",
       "    </tr>\n",
       "    <tr>\n",
       "      <th>...</th>\n",
       "      <td>...</td>\n",
       "      <td>...</td>\n",
       "      <td>...</td>\n",
       "    </tr>\n",
       "    <tr>\n",
       "      <th>2023-09-19 06:00:00</th>\n",
       "      <td>0.008015</td>\n",
       "      <td>DOWN</td>\n",
       "      <td>-0.678307</td>\n",
       "    </tr>\n",
       "    <tr>\n",
       "      <th>2023-09-19 10:00:00</th>\n",
       "      <td>0.007961</td>\n",
       "      <td>UP</td>\n",
       "      <td>0.225592</td>\n",
       "    </tr>\n",
       "    <tr>\n",
       "      <th>2023-09-19 14:00:00</th>\n",
       "      <td>0.007979</td>\n",
       "      <td>UP</td>\n",
       "      <td>0.025060</td>\n",
       "    </tr>\n",
       "    <tr>\n",
       "      <th>2023-09-19 18:00:00</th>\n",
       "      <td>0.007981</td>\n",
       "      <td>DOWN</td>\n",
       "      <td>-0.112895</td>\n",
       "    </tr>\n",
       "    <tr>\n",
       "      <th>2023-09-19 22:00:00</th>\n",
       "      <td>0.007972</td>\n",
       "      <td>DOWN</td>\n",
       "      <td>NaN</td>\n",
       "    </tr>\n",
       "  </tbody>\n",
       "</table>\n",
       "<p>8146 rows × 3 columns</p>\n",
       "</div>"
      ],
      "text/plain": [
       "                        Close Close_dir_1  Close_pc_1\n",
       "Close_Time                                           \n",
       "2020-01-01 06:00:00  0.001906          UP    0.251204\n",
       "2020-01-01 10:00:00  0.001911        DOWN   -0.674394\n",
       "2020-01-01 14:00:00  0.001898          UP    0.288941\n",
       "2020-01-01 18:00:00  0.001904        DOWN   -0.326780\n",
       "2020-01-01 22:00:00  0.001897        DOWN   -0.375622\n",
       "...                       ...         ...         ...\n",
       "2023-09-19 06:00:00  0.008015        DOWN   -0.678307\n",
       "2023-09-19 10:00:00  0.007961          UP    0.225592\n",
       "2023-09-19 14:00:00  0.007979          UP    0.025060\n",
       "2023-09-19 18:00:00  0.007981        DOWN   -0.112895\n",
       "2023-09-19 22:00:00  0.007972        DOWN         NaN\n",
       "\n",
       "[8146 rows x 3 columns]"
      ]
     },
     "execution_count": 59,
     "metadata": {},
     "output_type": "execute_result"
    }
   ],
   "source": [
    "from fn_prep import change_percentual\n",
    "n_period = 1\n",
    "col_use = \"Close\"\n",
    "\n",
    "cols_dir, cols_pc = get_cols_pc_and_dir(n_period,col_use)\n",
    "\n",
    "df = change_percentual(df,col_use,n_periods=n_period,\n",
    "                      get_direction=True,all_periods=True)\n",
    "\n",
    "df[[col_use]+cols_dir+cols_pc]"
   ]
  },
  {
   "cell_type": "code",
   "execution_count": 61,
   "metadata": {},
   "outputs": [
    {
     "data": {
      "image/png": "[encoded data removed]",
      "text/plain": [
       "<Figure size 2160x720 with 1 Axes>"
      ]
     },
     "metadata": {
      "needs_background": "light"
     },
     "output_type": "display_data"
    }
   ],
   "source": [
    "\n",
    "df[cols_pc].hist(bins=range(-15,15), edgecolor='black',\n",
    "                  figsize=(30,10),\n",
    "                  xlabelsize=20,ylabelsize=20);"
   ]
  },
  {
   "cell_type": "code",
   "execution_count": 102,
   "metadata": {},
   "outputs": [
    {
     "name": "stdout",
     "output_type": "stream",
     "text": [
      "+--------------------+-------------------------+-------------+-----------------------+\n",
      "| Prueba             |   Estadístico de Prueba |     Valor P | Veredicto             |\n",
      "+====================+=========================+=============+=======================+\n",
      "| Anderson-Darling   |             291.705     | 0.787       | No sigue distribucion |\n",
      "+--------------------+-------------------------+-------------+-----------------------+\n",
      "| Shapiro-Wilk       |               0.826346  | 0           | No sigue distribucion |\n",
      "+--------------------+-------------------------+-------------+-----------------------+\n",
      "| Kolmogorov-Smirnov |               0.0709051 | 4.71516e-36 | No sigue distribucion |\n",
      "+--------------------+-------------------------+-------------+-----------------------+\n"
     ]
    }
   ],
   "source": [
    "col_using = \"Close_pc_1\"\n",
    "alpha = 0.05\n",
    "dist=\"norm\" #dist : {'norm', 'expon', 'logistic', 'gumbel', 'gumbel_l', 'gumbel_r', 'extreme1'}\n",
    "\n",
    "data = np.random.normal(0, 1, 1000)\n",
    "prueba_hipotesis(df,col_using, alpha, dist = 'norm', get_data=False)\n",
    "\n"
   ]
  },
  {
   "attachments": {},
   "cell_type": "markdown",
   "metadata": {},
   "source": [
    "## Particionado de datos."
   ]
  },
  {
   "cell_type": "code",
   "execution_count": 113,
   "metadata": {},
   "outputs": [],
   "source": [
    "# Dividir df en X y Y\n",
    "\n",
    "## Columna usada para el cambio percentual y direccion\n",
    "col_use = \"Close\"\n",
    "## En caso de querer y multiclase hacer True\n",
    "incluir_todos_periodos = False \n",
    "## Si no incluye todos los periodos con cual se queda\n",
    "ind = 1 \n",
    "## Para incluir el ultimo precio en los datos\n",
    "incluir_ultimo = True\n",
    "## Solo funciona \n",
    "predecir = \"_pc\"  # _dir, _pc\n",
    "\n",
    "if incluir_todos_periodos:\n",
    "    if predecir == \"_pc\":\n",
    "        cols_x = ['Open', 'High', 'Low', 'Close', 'Volume',\n",
    "                'Quote_asset_vol', 'Number_trades', 'Taker_buy_base',\n",
    "                'Taker_buy_quote']+[valor for valor in df.columns if \"_dir\" in valor]  \n",
    "        col_y = [valor for valor in df.columns if \"_pc\" in valor]\n",
    "    elif predecir == \"_dir\":\n",
    "        cols_x = ['Open', 'High', 'Low', 'Close', 'Volume',\n",
    "                'Quote_asset_vol', 'Number_trades', 'Taker_buy_base',\n",
    "                'Taker_buy_quote']+[valor for valor in df.columns if \"_pc\" in valor]  \n",
    "        col_y = [valor for valor in df.columns if \"_dir\" in valor]\n",
    "else:\n",
    "    if predecir == \"_pc\":\n",
    "        cols_x = ['Open', 'High', 'Low', 'Close', 'Volume',\n",
    "            'Quote_asset_vol', 'Number_trades', 'Taker_buy_base',\n",
    "            'Taker_buy_quote',col_use+'_dir_'+str(ind)]\n",
    "        col_y = col_use+\"_pc_\"+str(ind)\n",
    "    \n",
    "    elif predecir == \"_dir\":\n",
    "        cols_x = ['Open', 'High', 'Low', 'Close', 'Volume',\n",
    "                'Quote_asset_vol', 'Number_trades', 'Taker_buy_base',\n",
    "                'Taker_buy_quote','Close_pc_'+str(ind)]\n",
    "        col_y = \"Close_dir_\"+str(ind)\n",
    "        \n",
    "\n",
    "df.rename(columns={'Volumne':'Volume'},inplace=True)\n",
    "\n",
    "if not incluir_ultimo:\n",
    "    X = df[cols_x].iloc[:-1].copy()\n",
    "    y = df[col_y].iloc[:-1].copy()\n",
    "    X_last = df[cols_x].iloc[-1:, :].copy()\n",
    "    y_last = df[col_y].iloc[-1:].copy()\n",
    "else:\n",
    "    y = df[col_y].copy()\n",
    "    X = df[cols_x].copy()\n",
    "    \n",
    "\n",
    "#\n",
    "#X_last = df[cols_x].iloc[-1:, :].copy()\n",
    "\n"
   ]
  },
  {
   "cell_type": "code",
   "execution_count": 143,
   "metadata": {},
   "outputs": [
    {
     "name": "stdout",
     "output_type": "stream",
     "text": [
      "<class 'pandas.core.frame.DataFrame'>\n",
      "DatetimeIndex: 8146 entries, 2020-01-01 06:00:00 to 2023-09-19 22:00:00\n",
      "Data columns (total 10 columns):\n",
      " #   Column           Non-Null Count  Dtype  \n",
      "---  ------           --------------  -----  \n",
      " 0   Open             8146 non-null   float64\n",
      " 1   High             8146 non-null   float64\n",
      " 2   Low              8146 non-null   float64\n",
      " 3   Close            8146 non-null   float64\n",
      " 4   Volume           8146 non-null   float64\n",
      " 5   Quote_asset_vol  8146 non-null   float64\n",
      " 6   Number_trades    8146 non-null   int64  \n",
      " 7   Taker_buy_base   8146 non-null   float64\n",
      " 8   Taker_buy_quote  8146 non-null   float64\n",
      " 9   Close_dir_1      8146 non-null   int64  \n",
      "dtypes: float64(8), int64(2)\n",
      "memory usage: 700.0 KB\n"
     ]
    }
   ],
   "source": [
    "# Revisamos que todas las columnas sean numericas\n",
    "X.info()"
   ]
  },
  {
   "cell_type": "code",
   "execution_count": 142,
   "metadata": {},
   "outputs": [],
   "source": [
    "X.Close_dir_1 = X.Close_dir_1.map({'UP':1,'DOWN':0})"
   ]
  },
  {
   "cell_type": "code",
   "execution_count": 114,
   "metadata": {},
   "outputs": [
    {
     "data": {
      "text/plain": [
       "(Index(['Open', 'High', 'Low', 'Close', 'Volume', 'Quote_asset_vol',\n",
       "        'Number_trades', 'Taker_buy_base', 'Taker_buy_quote', 'Close_dir_1'],\n",
       "       dtype='object'),\n",
       " 'Close_pc_1')"
      ]
     },
     "execution_count": 114,
     "metadata": {},
     "output_type": "execute_result"
    }
   ],
   "source": [
    "X.columns, y.name"
   ]
  },
  {
   "cell_type": "code",
   "execution_count": 146,
   "metadata": {},
   "outputs": [
    {
     "name": "stdout",
     "output_type": "stream",
     "text": [
      "True\n"
     ]
    },
    {
     "data": {
      "text/plain": [
       "((6516, 10), (1630, 10))"
      ]
     },
     "execution_count": 146,
     "metadata": {},
     "output_type": "execute_result"
    }
   ],
   "source": [
    "n = X.shape[0]\n",
    "train_size = .8\n",
    "\n",
    "x_train, x_test = X.iloc[:int(n*train_size)].copy(), X.iloc[int(n*train_size):].copy()\n",
    "yy_train, yy_test = y.iloc[:int(n*train_size)].copy(), y.iloc[int(n*train_size):].copy()\n",
    "print(x_train.shape[0]+ x_test.shape[0]==df.shape[0])\n",
    "x_train.shape, x_test.shape"
   ]
  },
  {
   "cell_type": "code",
   "execution_count": null,
   "metadata": {},
   "outputs": [],
   "source": []
  },
  {
   "attachments": {},
   "cell_type": "markdown",
   "metadata": {},
   "source": [
    "## Ingenieria de caracteristicas"
   ]
  },
  {
   "attachments": {},
   "cell_type": "markdown",
   "metadata": {},
   "source": [
    "### Volatilidad\n",
    "Medimos la volatilidad con el coeficiente de variacion que hay en los rendimientos"
   ]
  },
  {
   "cell_type": "code",
   "execution_count": null,
   "metadata": {},
   "outputs": [],
   "source": [
    "import tqdm\n",
    "from fn_prep import get_volatilidad"
   ]
  },
  {
   "cell_type": "code",
   "execution_count": null,
   "metadata": {},
   "outputs": [],
   "source": [
    "df = df_respaldo.copy()\n",
    "df.columns"
   ]
  },
  {
   "cell_type": "code",
   "execution_count": null,
   "metadata": {},
   "outputs": [],
   "source": [
    "columns_use = [\"Close\",\"Open\",\"High\",\"Low\"]\n",
    "list_statistics = get_volatilidad(df,columns_use)\n",
    "list_statistics"
   ]
  },
  {
   "cell_type": "code",
   "execution_count": null,
   "metadata": {},
   "outputs": [],
   "source": [
    "# Obtener la clave con el valor máximo\n",
    "clave_maxima = max(list_statistics, key=lambda k: list_statistics[k])\n",
    "list_statistics,clave_maxima"
   ]
  },
  {
   "cell_type": "code",
   "execution_count": null,
   "metadata": {},
   "outputs": [],
   "source": [
    "import time \n",
    "simbolos = ['BNBBTC', 'BNBETH', 'BNBUSDT', 'BNBTUSD', 'BNBUSDC', 'BNBBUSD',\n",
    "       'BNBRUB', 'BNBTRY', 'BNBEUR', 'BNBGBP', 'BNBBIDR', 'BNBDAI',\n",
    "       'BNBBRL', 'BNBUAH', 'BNBFDUSD']\n",
    "intervalos = [\"1d\",\"12h\",\"8h\",\"6h\",\"4h\",\"2h\",\"1h\"]\n",
    "cols_cv = [\"Close\",\"Open\",\"High\",\"Low\"]\n",
    "\n",
    "dict_final = {}\n",
    "for symbol in tqdm.tqdm(simbolos):\n",
    "    for interval in intervalos:\n",
    "        # NOmbre de la tabla\n",
    "        table_name = symbol+'_'+interval\n",
    "        \n",
    "        # cargamos la tabla\n",
    "        try:\n",
    "            df_aux = pd.read_sql_query(f'''\n",
    "                        SELECT *\n",
    "                        FROM {table_name}\n",
    "                        ORDER BY Open_Time \n",
    "                        ''', con)\n",
    "            df_aux.Name = table_name\n",
    "        except:\n",
    "            print('Fallo al leer ',table_name)\n",
    "            \n",
    "        # Generamos la volatilidad\n",
    "        dict_final[table_name] = get_volatilidad(df_aux,cols_cv)\n",
    "        time.sleep(1)"
   ]
  },
  {
   "cell_type": "code",
   "execution_count": null,
   "metadata": {},
   "outputs": [],
   "source": [
    "df_vol = pd.DataFrame(dict_final).T\n",
    "df_vol['Volatilidad_max']  = df_vol.apply(lambda x: max(x[df_vol.columns].values), axis=1)\n",
    "df_vol['Col_max'] = df_vol.apply(lambda x: max(x[df_vol.columns].values), axis=1).index\n"
   ]
  },
  {
   "cell_type": "code",
   "execution_count": null,
   "metadata": {},
   "outputs": [],
   "source": [
    "df_vol.loc[[valor for valor in df_vol.index if \"_1d\" in valor]].sort_values(\"Volatilidad_max\",ascending=False)"
   ]
  },
  {
   "cell_type": "code",
   "execution_count": null,
   "metadata": {},
   "outputs": [],
   "source": [
    "df_vol.loc[[valor for valor in df_vol.index if \"_4h\" in valor]].sort_values(\"Volatilidad_max\",ascending=False)"
   ]
  },
  {
   "cell_type": "code",
   "execution_count": null,
   "metadata": {},
   "outputs": [],
   "source": [
    "df_vol.loc[[valor for valor in df_vol.index if \"_4h\" in valor]].sort_values(\"Volatilidad_max\",ascending=False).plot(kind=\"bar\",y=[\"Volatilidad_max\"],)"
   ]
  },
  {
   "cell_type": "code",
   "execution_count": null,
   "metadata": {},
   "outputs": [],
   "source": [
    "n_days_ago = 6\n",
    "last_day = df_aux['Open_Time'].iloc[-1]\n",
    "ago = last_day - timedelta(days=n_days_ago)\n",
    "ago"
   ]
  },
  {
   "cell_type": "code",
   "execution_count": null,
   "metadata": {},
   "outputs": [],
   "source": [
    "df_cp_aux = change_percentual(df_aux[df_aux[\"Open_Time\"]>= ago],\"Close\",2,get_direction=False)\n",
    "df_cp_aux[[\"Close_pc_1\", \"Close_pc_2\"]].mean()"
   ]
  },
  {
   "cell_type": "code",
   "execution_count": null,
   "metadata": {},
   "outputs": [],
   "source": []
  },
  {
   "cell_type": "code",
   "execution_count": null,
   "metadata": {},
   "outputs": [],
   "source": [
    "\n",
    "df_aux.Open_Time.dt.day_name()"
   ]
  },
  {
   "attachments": {},
   "cell_type": "markdown",
   "metadata": {},
   "source": [
    "## Modelos de clasificacion"
   ]
  },
  {
   "cell_type": "code",
   "execution_count": null,
   "metadata": {},
   "outputs": [],
   "source": [
    "from datetime import timedelta\n",
    "from sklearn.model_selection import TimeSeriesSplit\n",
    "ts = TimeSeriesSplit(test_size=200)"
   ]
  },
  {
   "cell_type": "code",
   "execution_count": null,
   "metadata": {},
   "outputs": [],
   "source": [
    "import numpy as np\n",
    "import pandas as pd\n",
    "import seaborn as sns\n",
    "import matplotlib.pyplot as plt\n",
    "from sklearn.tree import DecisionTreeClassifier\n",
    "from sklearn.model_selection import GridSearchCV\n",
    "from sklearn.metrics import confusion_matrix, accuracy_score\n",
    "\n",
    "df_parameters = pd.DataFrame()\n",
    "\n",
    "def show_matriz_confusion(matriz_confusion):\n",
    "    # Crear una visualización de la matriz de confusión\n",
    "    plt.figure(figsize=(8, 6))\n",
    "    sns.heatmap(matriz_confusion, annot=True, fmt=\"d\", cmap=\"Blues\",\n",
    "                xticklabels=[\"Clase 0\", \"Clase 1\"],\n",
    "                yticklabels=[\"Clase 0\", \"Clase 1\"])\n",
    "    plt.title(\"Matriz de Confusión\")\n",
    "    plt.xlabel(\"Predicciones\")\n",
    "    plt.ylabel(\"Valores reales\")\n",
    "    plt.show()\n",
    "\n",
    "\n",
    "\n",
    "\n",
    "\n",
    "def grid_search_random_forest(X, y,rf_model, param_grid, cv=5, verbose=1, scoring='accuracy'):\n",
    "    # Crear el modelo RandomForest\n",
    "    #rf_model = RandomForestClassifier(random_state=42)\n",
    "    \n",
    "    # Realizar Grid Search\n",
    "    grid_search = GridSearchCV(estimator=rf_model, param_grid=param_grid,\n",
    "                               scoring=scoring,\n",
    "                               cv=cv, n_jobs=-1, verbose=verbose)\n",
    "    \n",
    "    # Ajustar el modelo\n",
    "    grid_search.fit(X, y)\n",
    "    \n",
    "    return grid_search\n",
    "\n",
    "def buscar_best(X,y,model,param_grid,cv=5,verbose=1,scoring='accuracy'):\n",
    "    \n",
    "    \n",
    "    # Realizar la búsqueda en cuadrícula\n",
    "    grid_search = grid_search_random_forest(X, y, model, param_grid,cv,verbose,scoring)\n",
    "    \n",
    "    # Imprimir los mejores parámetros y el mejor puntaje\n",
    "    print(\"Mejores parámetros:\", grid_search.best_params_)\n",
    "    print(\"Mejor puntaje:\", grid_search.best_score_)\n",
    "    return grid_search"
   ]
  },
  {
   "cell_type": "code",
   "execution_count": 199,
   "metadata": {},
   "outputs": [
    {
     "ename": "NameError",
     "evalue": "name 'RandomForestClassifier' is not defined",
     "output_type": "error",
     "traceback": [
      "\u001b[0;31m---------------------------------------------------------------------------\u001b[0m",
      "\u001b[0;31mNameError\u001b[0m                                 Traceback (most recent call last)",
      "\u001b[1;32m/home/hector/Documentos/Escuelas/Autodidacta/Trading/analisis_historico.ipynb Celda 47\u001b[0m in \u001b[0;36m<cell line: 22>\u001b[0;34m()\u001b[0m\n\u001b[1;32m     <a href='vscode-notebook-cell:/home/hector/Documentos/Escuelas/Autodidacta/Trading/analisis_historico.ipynb#X46sZmlsZQ%3D%3D?line=24'>25</a>\u001b[0m \u001b[39mfor\u001b[39;00m leaf \u001b[39min\u001b[39;00m [\u001b[39m1\u001b[39m, \u001b[39m2\u001b[39m, \u001b[39m4\u001b[39m,\u001b[39m10\u001b[39m]:\n\u001b[1;32m     <a href='vscode-notebook-cell:/home/hector/Documentos/Escuelas/Autodidacta/Trading/analisis_historico.ipynb#X46sZmlsZQ%3D%3D?line=25'>26</a>\u001b[0m     \u001b[39mfor\u001b[39;00m feature \u001b[39min\u001b[39;00m [\u001b[39m'\u001b[39m\u001b[39mlog2\u001b[39m\u001b[39m'\u001b[39m, \u001b[39m'\u001b[39m\u001b[39msqrt\u001b[39m\u001b[39m'\u001b[39m]:\n\u001b[0;32m---> <a href='vscode-notebook-cell:/home/hector/Documentos/Escuelas/Autodidacta/Trading/analisis_historico.ipynb#X46sZmlsZQ%3D%3D?line=26'>27</a>\u001b[0m         model \u001b[39m=\u001b[39m RandomForestClassifier(n_estimators\u001b[39m=\u001b[39mestimator,\n\u001b[1;32m     <a href='vscode-notebook-cell:/home/hector/Documentos/Escuelas/Autodidacta/Trading/analisis_historico.ipynb#X46sZmlsZQ%3D%3D?line=27'>28</a>\u001b[0m                                        max_depth\u001b[39m=\u001b[39mdepth1,\n\u001b[1;32m     <a href='vscode-notebook-cell:/home/hector/Documentos/Escuelas/Autodidacta/Trading/analisis_historico.ipynb#X46sZmlsZQ%3D%3D?line=28'>29</a>\u001b[0m                                        min_samples_split\u001b[39m=\u001b[39msplit,\n\u001b[1;32m     <a href='vscode-notebook-cell:/home/hector/Documentos/Escuelas/Autodidacta/Trading/analisis_historico.ipynb#X46sZmlsZQ%3D%3D?line=29'>30</a>\u001b[0m                                        min_samples_leaf\u001b[39m=\u001b[39mleaf,\n\u001b[1;32m     <a href='vscode-notebook-cell:/home/hector/Documentos/Escuelas/Autodidacta/Trading/analisis_historico.ipynb#X46sZmlsZQ%3D%3D?line=30'>31</a>\u001b[0m                                        max_features\u001b[39m=\u001b[39mfeature)\n\u001b[1;32m     <a href='vscode-notebook-cell:/home/hector/Documentos/Escuelas/Autodidacta/Trading/analisis_historico.ipynb#X46sZmlsZQ%3D%3D?line=31'>32</a>\u001b[0m         \u001b[39mfor\u001b[39;00m index_train, index_test \u001b[39min\u001b[39;00m ts\u001b[39m.\u001b[39msplit(X_test\u001b[39m.\u001b[39miloc[:\u001b[39m-\u001b[39m\u001b[39m1\u001b[39m,:]):\n\u001b[1;32m     <a href='vscode-notebook-cell:/home/hector/Documentos/Escuelas/Autodidacta/Trading/analisis_historico.ipynb#X46sZmlsZQ%3D%3D?line=32'>33</a>\u001b[0m             X_train, y_train \u001b[39m=\u001b[39m X\u001b[39m.\u001b[39miloc[index_train], y\u001b[39m.\u001b[39miloc[index_train]\n",
      "\u001b[0;31mNameError\u001b[0m: name 'RandomForestClassifier' is not defined"
     ]
    }
   ],
   "source": [
    "# Modelo RandomForestClassifier\n",
    "# Muy pesado, no util para [UP, DOWN]\n",
    "n_estimators = [50,100, 200, 300], # Cantidad de arboles\n",
    "max_depth = [ 10, 20,30,50],\n",
    "min_samples_split = [2, 5, 10], # Cantidad de muestras para dividir un nodo\n",
    "min_samples_leaf = [1, 2, 4,10],   # Cantidad de muestras para dividir una hoja\n",
    "max_features =  ['auto', 'sqrt']\n",
    "\n",
    "error_mse_list = []\n",
    "accuracy_list = [0]\n",
    "model_chido = None\n",
    "\n",
    "besth_depth = []\n",
    "best_estimator = []\n",
    "best_split = []\n",
    "best_leaf = []\n",
    "best_feature = []\n",
    "best_acuracy = []\n",
    "best_score = []\n",
    "\n",
    "\n",
    "for estimator in [50,100, 200, 300]:\n",
    "    for depth1 in [ 10, 20,30,50]:\n",
    "        for split in [2, 5, 10]:\n",
    "            for leaf in [1, 2, 4,10]:\n",
    "                for feature in ['log2', 'sqrt']:\n",
    "                    model = RandomForestClassifier(n_estimators=estimator,\n",
    "                                                   max_depth=depth1,\n",
    "                                                   min_samples_split=split,\n",
    "                                                   min_samples_leaf=leaf,\n",
    "                                                   max_features=feature)\n",
    "                    for index_train, index_test in ts.split(X_test.iloc[:-1,:]):\n",
    "                        X_train, y_train = X.iloc[index_train], y.iloc[index_train]\n",
    "                        X_test, y_test = X.iloc[index_test], y.iloc[index_test]\n",
    "                        \n",
    "                        model.fit(X_train, y_train)\n",
    "                        \n",
    "                        y_pred = model.predict(X_test)\n",
    "                        \n",
    "                        #error_mse = mean_squared_error(y_test, y_pred)\n",
    "                        #error_mse_list.append(error_mse)\n",
    "                        #print(f'El MSE es: {error_mse}')\n",
    "                        \n",
    "                        acuracy = accuracy_score(y_test, y_pred)\n",
    "                        \n",
    "                        #print(f'El acuracy es: {acuracy}')\n",
    "                        #print(acuracy > max(accuracy_list))\n",
    "                        \n",
    "                        if acuracy > max(accuracy_list):\n",
    "                            \n",
    "                            score = model.score(X_train, y_train)\n",
    "                            print(f'El acuracy es: {acuracy}')\n",
    "                            print(f'Score del modelo: {score}')\n",
    "                            model_chido = model\n",
    "                            besth_depth.append(depth1)\n",
    "                            best_estimator.append(estimator)\n",
    "                            best_split.append(split)\n",
    "                            best_leaf.append(leaf)\n",
    "                            best_feature.append(feature)\n",
    "                            best_acuracy.append(acuracy)\n",
    "                            best_score.append(score)\n",
    "                            \n",
    "                            # Calcular la matriz de confusión\n",
    "                            clases = model.classes_\n",
    "                            matriz_confusion = confusion_matrix(y, y_pred,labels=clases)\n",
    "                            show_matriz_confusion(matriz_confusion)\n",
    "                            \n",
    "                        accuracy_list.append(acuracy)\n",
    "                        \n",
    "                        best_estimator = np.array(best_estimator)*0\n",
    "accuracy_list.remove(0)\n",
    "df_aux = pd.DataFrame({'Depth':besth_depth,\n",
    "                        'Estimator':best_estimator,\n",
    "                        'Split': best_split,\n",
    "                        'Leaf':best_leaf,\n",
    "                        'Feature':best_feature,\n",
    "                        'Accuracy':best_acuracy})\n",
    "df_parameters = pd.concat([df_parameters,df_aux])\n",
    "\n",
    "print('RESULTADOS'.center(100,'-'))\n",
    "print('Se obtuvo en un pormedio de ',np.mean(accuracy_list),' en el accuracy')\n",
    "print('Cuya desvicion estandar fue de: ',np.std(accuracy_list))\n",
    "# (mean, n) = (0.5021733472149922, 1921)"
   ]
  },
  {
   "cell_type": "code",
   "execution_count": null,
   "metadata": {},
   "outputs": [],
   "source": [
    "# Modelo DecisionTreeClassifier\n",
    "\n",
    "\n",
    "def train_DecisionTreeClassifier(X,y,ts,df_parameters=pd.DataFrame(),show_hist=True):\n",
    "    import numpy as np\n",
    "    accuracy_list = [0]\n",
    "    model_chido = None\n",
    "    besth_depth = []\n",
    "    best_split = []\n",
    "    best_leaf = []\n",
    "    best_feature = []\n",
    "    best_acuracy = []\n",
    "    best_score = []\n",
    "    dict_best_parameters = {}\n",
    "    df_split = X.copy()\n",
    "\n",
    "\n",
    "\n",
    "    for depth1 in [ 10, 20,30,50,80]:\n",
    "        for split in [2, 5, 10]:\n",
    "            for leaf in [1, 3, 7,10]:\n",
    "                for feature in ['log2', 'sqrt']:\n",
    "                    # Invocamos al modelo\n",
    "                    model = DecisionTreeClassifier(\n",
    "                                                    max_depth=depth1,\n",
    "                                                    min_samples_split=split,\n",
    "                                                    min_samples_leaf=leaf,\n",
    "                                                    max_features=feature)\n",
    "                    \n",
    "                    # Entrenamos con particion de TimeSeriesSplit\n",
    "                    for index_train, index_test in ts.split(df_split):\n",
    "                        X_train, y_train = X.iloc[index_train], y.iloc[index_train]\n",
    "                        X_test, y_test = X.iloc[index_test], y.iloc[index_test]\n",
    "                        \n",
    "                        model.fit(X_train, y_train)\n",
    "                        \n",
    "                        y_pred = model.predict(X_test)\n",
    "                        \n",
    "                        #error_mse = mean_squared_error(y_test, y_pred)\n",
    "                        #error_mse_list.append(error_mse)\n",
    "                        #print(f'El MSE es: {error_mse}')\n",
    "                        \n",
    "                        acuracy = accuracy_score(y_test, y_pred)\n",
    "                        \n",
    "                        #print(f'El acuracy es: {acuracy}')\n",
    "                        #print(acuracy > max(accuracy_list))\n",
    "                        \n",
    "                        if acuracy > max(accuracy_list):\n",
    "                            score = model.score(X_train, y_train)\n",
    "                            print(f'El acuracy es: {acuracy}')\n",
    "                            print(f'Score del modelo: {score}')\n",
    "                            \n",
    "                            # Cremos diccionario\n",
    "                            dict_best_parameters[\"max_depth\"] = depth1\n",
    "                            dict_best_parameters[\"min_samples_split\"] = split\n",
    "                            dict_best_parameters[\"min_samples_leaf\"] = split\n",
    "                            dict_best_parameters[\"max_features\"] = split\n",
    "                            \n",
    "                            model_chido = model\n",
    "                            besth_depth.append(depth1)\n",
    "                            best_split.append(split)\n",
    "                            best_leaf.append(leaf)\n",
    "                            best_feature.append(feature)\n",
    "                            best_acuracy.append(acuracy)\n",
    "                            best_score.append(score)\n",
    "                            \n",
    "                            # Calcular la matriz de confusión\n",
    "                            clases = model.classes_\n",
    "                            matriz_confusion = confusion_matrix(y_test, y_pred,labels=clases)\n",
    "                            show_matriz_confusion(matriz_confusion)\n",
    "                            \n",
    "                            \n",
    "                        accuracy_list.append(acuracy)\n",
    "                        if acuracy ==1: break\n",
    "\n",
    "    accuracy_list.remove(0)\n",
    "    df_aux = pd.DataFrame({'Depth':besth_depth,\n",
    "                            'Split': best_split,\n",
    "                            'Leaf':best_leaf,\n",
    "                            'Feature':best_feature,\n",
    "                            'Accuracy':best_acuracy})\n",
    "    df_parameters = pd.concat([df_parameters,df_aux])\n",
    "\n",
    "    print('RESULTADOS'.center(100,'-'))\n",
    "    print('Se obtuvo en un promedio de ',np.mean(accuracy_list),' en el accuracy')\n",
    "    print('Cuya desvicion estandar fue de: ',np.std(accuracy_list))\n",
    "\n",
    "    if show_hist:\n",
    "        import numpy as np \n",
    "        import matplotlib.pyplot as plt\n",
    "\n",
    "        print(f'Se hicieron {len(accuracy_list)} pruebas \\nel accuracy medio fue: {np.mean(accuracy_list)}')\n",
    "\n",
    "\n",
    "        plt.hist(accuracy_list,bins=10,edgecolor='black')\n",
    "        plt.title(\"Histograma de accuracy\")\n",
    "        plt.show()\n",
    "    return model_chido, df_parameters, dict_best_parameters\n"
   ]
  },
  {
   "cell_type": "code",
   "execution_count": null,
   "metadata": {},
   "outputs": [],
   "source": [
    "df_parameters=pd.DataFrame()"
   ]
  },
  {
   "cell_type": "code",
   "execution_count": null,
   "metadata": {},
   "outputs": [],
   "source": [
    "show_hist = True\n",
    "model_chido, df_parameters, dict_best_parameters = train_DecisionTreeClassifier(X,y,ts,df_parameters,show_hist)\n"
   ]
  },
  {
   "cell_type": "code",
   "execution_count": null,
   "metadata": {},
   "outputs": [],
   "source": [
    "df_parameters"
   ]
  },
  {
   "cell_type": "code",
   "execution_count": null,
   "metadata": {},
   "outputs": [],
   "source": [
    "dict_best_parameters"
   ]
  },
  {
   "cell_type": "code",
   "execution_count": null,
   "metadata": {},
   "outputs": [],
   "source": [
    "model_test = DecisionTreeClassifier(**dict_best_parameters)\n",
    "model_test.fit(x_train,yy_train)"
   ]
  },
  {
   "cell_type": "code",
   "execution_count": null,
   "metadata": {},
   "outputs": [],
   "source": [
    "accuracy_score(yy_test,model_chido.predict(x_test))"
   ]
  },
  {
   "cell_type": "code",
   "execution_count": null,
   "metadata": {},
   "outputs": [],
   "source": [
    "# Usando optimizador GridSearchCV\n",
    "\n",
    "# Definir el rango de valores para cada parámetro\n",
    "param_grid = {\n",
    "   # 'n_estimators': [50,100, 200, 300], # Cantidad de arboles\n",
    "    'max_depth': [ 10, 20,30,50],\n",
    "    'min_samples_split': [2, 5, 10], # Cantidad de muestras para dividir un nodo\n",
    "    'min_samples_leaf': [1, 2, 4,10],   # Cantidad de muestras para dividir una hoja\n",
    "    'max_features': ['auto', 'sqrt', 'log2'],\n",
    "    'criterion': ['gini', 'entropy', 'log_loss']\n",
    "}\n",
    "scoring = 'accuracy'\n",
    "\n",
    "model = DecisionTreeClassifier(random_state=42)\n",
    "\n",
    "gs = buscar_best(X_train,y_train,model,param_grid,cv=ts,verbose=1,scoring=scoring)\n",
    "\n",
    "# Evaluar el modelo final en los datos de prueba\n",
    "model_chido = gs.best_estimator_\n",
    "accuracy = model_chido.score(X_test, y_test)\n",
    "print(\"Accuracy en los datos de prueba:\", accuracy)"
   ]
  },
  {
   "cell_type": "code",
   "execution_count": null,
   "metadata": {},
   "outputs": [],
   "source": [
    "# Ultimo modelo entrenado\n",
    "y_pred = model_chido.predict(X_test)\n",
    "acuracy = accuracy_score(y_test, y_pred)\n",
    "print(f'El acuracy es: {acuracy}')"
   ]
  },
  {
   "cell_type": "code",
   "execution_count": null,
   "metadata": {},
   "outputs": [],
   "source": [
    "\n",
    "model_chido.fit(X,y)"
   ]
  },
  {
   "cell_type": "code",
   "execution_count": null,
   "metadata": {},
   "outputs": [],
   "source": [
    "df.tail()"
   ]
  },
  {
   "cell_type": "code",
   "execution_count": null,
   "metadata": {},
   "outputs": [],
   "source": [
    "# Guardar_modelo\n",
    "import pickle\n",
    "name_model = \"DecisionTreeClassifier_\"+table_name+\"_\"+datetime.now().strftime(\"%d-%m-%Y\")\n",
    "with open(f'Models/{name_model}.pkl', 'wb') as f:\n",
    "    pickle.dump(model_chido, f)"
   ]
  },
  {
   "attachments": {},
   "cell_type": "markdown",
   "metadata": {},
   "source": [
    "## Modelos de regresion\n",
    "\n",
    "Aqui te dejo una lista de los scoring que se usan en la regresion\n",
    "Regression\n",
    "\n",
    "- ‘explained_variance’: metrics.explained_variance_score\n",
    "\n",
    "- ‘max_error’: metrics.max_error\n",
    "\n",
    "- ‘neg_mean_absolute_error’: metrics.mean_absolute_error\n",
    "\n",
    "- ‘neg_mean_squared_error’: metrics.mean_squared_error\n",
    "\n",
    "- ‘neg_root_mean_squared_error’: metrics.mean_squared_error\n",
    "\n",
    "- ‘neg_mean_squared_log_error’: metrics.mean_squared_log_error\n",
    "\n",
    "- ‘neg_median_absolute_error’: metrics.median_absolute_error\n",
    "\n",
    "- ‘r2’: metrics.r2_score\n",
    "\n",
    "- ‘neg_mean_poisson_deviance’: metrics.mean_poisson_deviance\n",
    "\n",
    "- ‘neg_mean_gamma_deviance’: metrics.mean_gamma_deviance\n",
    "\n",
    "- ‘neg_mean_absolute_percentage_error’: metrics.mean_absolute_percentage_error\n",
    "\n",
    "- ‘d2_absolute_error_score’: metrics.d2_absolute_error_score\n",
    "\n",
    "- ‘d2_pinball_score’: metrics.d2_pinball_score\n",
    "\n",
    "- ‘d2_tweedie_score’: metrics.d2_tweedie_score\n"
   ]
  },
  {
   "cell_type": "code",
   "execution_count": 201,
   "metadata": {},
   "outputs": [],
   "source": [
    "from sklearn.model_selection import TimeSeriesSplit\n",
    "from sklearn.model_selection import GridSearchCV\n",
    "import numpy as np"
   ]
  },
  {
   "attachments": {},
   "cell_type": "markdown",
   "metadata": {},
   "source": [
    "### Bayesian Regression¶\n",
    "* Las ventajas de la regresión bayesiana son:\n",
    "\n",
    "Se adapta a los datos disponibles.\n",
    "\n",
    "Se puede utilizar para incluir parámetros de regularización en el procedimiento de estimación.\n",
    "\n",
    "* Las desventajas de la regresión bayesiana incluyen:\n",
    "\n",
    "La inferencia del modelo puede llevar mucho tiempo."
   ]
  },
  {
   "cell_type": "code",
   "execution_count": 200,
   "metadata": {},
   "outputs": [],
   "source": [
    "from sklearn.linear_model import BayesianRidge\n",
    "\n",
    "\n",
    "def entrenar_bayesian_ridge(x_train, y_train, hiperparametros,ts):\n",
    "    \"\"\"\n",
    "    Entrena un modelo BayesianRidge utilizando búsqueda en cuadrícula (grid search) con diferentes hiperparámetros.\n",
    "\n",
    "    Parameters:\n",
    "    - x_train: Datos de entrenamiento (numpy array o similar).\n",
    "    - y_train: Etiquetas de entrenamiento (numpy array o similar).\n",
    "    - hiperparametros: Diccionario de hiperparámetros a probar.\n",
    "\n",
    "    Returns:\n",
    "    - Mejor modelo BayesianRidge encontrado.\n",
    "    \"\"\"\n",
    "\n",
    "    # Crear el modelo BayesianRidge\n",
    "    modelo = BayesianRidge()\n",
    "\n",
    "    # Crear el objeto GridSearchCV para búsqueda en cuadrícula\n",
    "    grid_search = GridSearchCV(modelo, hiperparametros, cv=ts, scoring=('neg_mean_squared_error'))\n",
    "\n",
    "    # Entrenar el modelo con diferentes hiperparámetros\n",
    "    grid_search.fit(x_train, y_train)\n",
    "\n",
    "    # Devolver el mejor modelo encontrado\n",
    "    mejor_modelo = grid_search.best_estimator_\n",
    "\n",
    "    return mejor_modelo\n",
    "\n",
    "# Ejemplo de uso:\n",
    "def train_BayesianRidge(x_train,y_train,ts):\n",
    "    # Datos de entrenamiento de ejemplo\n",
    "\n",
    "    # Hiperparámetros a probar (ejemplo)\n",
    "    hiperparametros = {\n",
    "        'alpha_1':  [1e-6, 1e-5, 1e-4,1e-3,1e-2,1e-1,1e-0],\n",
    "        'alpha_2':  [1e-6, 1e-5, 1e-4,1e-3,1e-2,1e-1,1e-0],\n",
    "        'lambda_1': [1e-6, 1e-5, 1e-4,1e-3,1e-2,1e-1,1e-0],\n",
    "        'lambda_2': [1e-6, 1e-5, 1e-4,1e-3,1e-2,1e-1,1e-0],\n",
    "        'tol': [0.001,0.01,0.1,1]\n",
    "    }\n",
    "\n",
    "    # Entrenar el modelo BayesianRidge con búsqueda en cuadrícula\n",
    "    mejor_modelo = entrenar_bayesian_ridge(x_train, y_train, hiperparametros,ts)\n",
    "\n",
    "    # Imprimir los hiperparámetros del mejor modelo encontrado\n",
    "    print(\"Mejores hiperparámetros:\")\n",
    "    print(mejor_modelo.get_params())\n",
    "    print('Score', mejor_modelo.scores_)\n",
    "    return mejor_modelo, mejor_modelo.get_params()\n"
   ]
  },
  {
   "cell_type": "code",
   "execution_count": 164,
   "metadata": {},
   "outputs": [
    {
     "data": {
      "text/plain": [
       "0.38406808714597873"
      ]
     },
     "execution_count": 164,
     "metadata": {},
     "output_type": "execute_result"
    }
   ],
   "source": [
    "model.score(x_train,yy_train)"
   ]
  },
  {
   "cell_type": "code",
   "execution_count": 163,
   "metadata": {},
   "outputs": [
    {
     "name": "stdout",
     "output_type": "stream",
     "text": [
      "Mejores hiperparámetros:\n",
      "{'alpha_1': 1.0, 'alpha_2': 1e-06, 'alpha_init': None, 'compute_score': False, 'copy_X': True, 'fit_intercept': True, 'lambda_1': 1e-06, 'lambda_2': 1.0, 'lambda_init': None, 'max_iter': None, 'n_iter': 'deprecated', 'tol': 0.001, 'verbose': False}\n",
      "Score []\n"
     ]
    }
   ],
   "source": [
    "ts = TimeSeriesSplit(test_size=200)\n",
    "model,params = train_BayesianRidge(x_train,yy_train,ts)"
   ]
  },
  {
   "cell_type": "code",
   "execution_count": 165,
   "metadata": {},
   "outputs": [
    {
     "data": {
      "text/html": [
       "<style>#sk-container-id-3 {color: black;}#sk-container-id-3 pre{padding: 0;}#sk-container-id-3 div.sk-toggleable {background-color: white;}#sk-container-id-3 label.sk-toggleable__label {cursor: pointer;display: block;width: 100%;margin-bottom: 0;padding: 0.3em;box-sizing: border-box;text-align: center;}#sk-container-id-3 label.sk-toggleable__label-arrow:before {content: \"▸\";float: left;margin-right: 0.25em;color: #696969;}#sk-container-id-3 label.sk-toggleable__label-arrow:hover:before {color: black;}#sk-container-id-3 div.sk-estimator:hover label.sk-toggleable__label-arrow:before {color: black;}#sk-container-id-3 div.sk-toggleable__content {max-height: 0;max-width: 0;overflow: hidden;text-align: left;background-color: #f0f8ff;}#sk-container-id-3 div.sk-toggleable__content pre {margin: 0.2em;color: black;border-radius: 0.25em;background-color: #f0f8ff;}#sk-container-id-3 input.sk-toggleable__control:checked~div.sk-toggleable__content {max-height: 200px;max-width: 100%;overflow: auto;}#sk-container-id-3 input.sk-toggleable__control:checked~label.sk-toggleable__label-arrow:before {content: \"▾\";}#sk-container-id-3 div.sk-estimator input.sk-toggleable__control:checked~label.sk-toggleable__label {background-color: #d4ebff;}#sk-container-id-3 div.sk-label input.sk-toggleable__control:checked~label.sk-toggleable__label {background-color: #d4ebff;}#sk-container-id-3 input.sk-hidden--visually {border: 0;clip: rect(1px 1px 1px 1px);clip: rect(1px, 1px, 1px, 1px);height: 1px;margin: -1px;overflow: hidden;padding: 0;position: absolute;width: 1px;}#sk-container-id-3 div.sk-estimator {font-family: monospace;background-color: #f0f8ff;border: 1px dotted black;border-radius: 0.25em;box-sizing: border-box;margin-bottom: 0.5em;}#sk-container-id-3 div.sk-estimator:hover {background-color: #d4ebff;}#sk-container-id-3 div.sk-parallel-item::after {content: \"\";width: 100%;border-bottom: 1px solid gray;flex-grow: 1;}#sk-container-id-3 div.sk-label:hover label.sk-toggleable__label {background-color: #d4ebff;}#sk-container-id-3 div.sk-serial::before {content: \"\";position: absolute;border-left: 1px solid gray;box-sizing: border-box;top: 0;bottom: 0;left: 50%;z-index: 0;}#sk-container-id-3 div.sk-serial {display: flex;flex-direction: column;align-items: center;background-color: white;padding-right: 0.2em;padding-left: 0.2em;position: relative;}#sk-container-id-3 div.sk-item {position: relative;z-index: 1;}#sk-container-id-3 div.sk-parallel {display: flex;align-items: stretch;justify-content: center;background-color: white;position: relative;}#sk-container-id-3 div.sk-item::before, #sk-container-id-3 div.sk-parallel-item::before {content: \"\";position: absolute;border-left: 1px solid gray;box-sizing: border-box;top: 0;bottom: 0;left: 50%;z-index: -1;}#sk-container-id-3 div.sk-parallel-item {display: flex;flex-direction: column;z-index: 1;position: relative;background-color: white;}#sk-container-id-3 div.sk-parallel-item:first-child::after {align-self: flex-end;width: 50%;}#sk-container-id-3 div.sk-parallel-item:last-child::after {align-self: flex-start;width: 50%;}#sk-container-id-3 div.sk-parallel-item:only-child::after {width: 0;}#sk-container-id-3 div.sk-dashed-wrapped {border: 1px dashed gray;margin: 0 0.4em 0.5em 0.4em;box-sizing: border-box;padding-bottom: 0.4em;background-color: white;}#sk-container-id-3 div.sk-label label {font-family: monospace;font-weight: bold;display: inline-block;line-height: 1.2em;}#sk-container-id-3 div.sk-label-container {text-align: center;}#sk-container-id-3 div.sk-container {/* jupyter's `normalize.less` sets `[hidden] { display: none; }` but bootstrap.min.css set `[hidden] { display: none !important; }` so we also need the `!important` here to be able to override the default hidden behavior on the sphinx rendered scikit-learn.org. See: https://github.com/scikit-learn/scikit-learn/issues/21755 */display: inline-block !important;position: relative;}#sk-container-id-3 div.sk-text-repr-fallback {display: none;}</style><div id=\"sk-container-id-3\" class=\"sk-top-container\"><div class=\"sk-text-repr-fallback\"><pre>BayesianRidge(alpha_1=1.0, lambda_2=1.0)</pre><b>In a Jupyter environment, please rerun this cell to show the HTML representation or trust the notebook. <br />On GitHub, the HTML representation is unable to render, please try loading this page with nbviewer.org.</b></div><div class=\"sk-container\" hidden><div class=\"sk-item\"><div class=\"sk-estimator sk-toggleable\"><input class=\"sk-toggleable__control sk-hidden--visually\" id=\"sk-estimator-id-3\" type=\"checkbox\" checked><label for=\"sk-estimator-id-3\" class=\"sk-toggleable__label sk-toggleable__label-arrow\">BayesianRidge</label><div class=\"sk-toggleable__content\"><pre>BayesianRidge(alpha_1=1.0, lambda_2=1.0)</pre></div></div></div></div></div>"
      ],
      "text/plain": [
       "BayesianRidge(alpha_1=1.0, lambda_2=1.0)"
      ]
     },
     "execution_count": 165,
     "metadata": {},
     "output_type": "execute_result"
    }
   ],
   "source": [
    "modelo = BayesianRidge(**params)\n",
    "modelo.fit(x_train,yy_train)"
   ]
  },
  {
   "cell_type": "code",
   "execution_count": 166,
   "metadata": {},
   "outputs": [
    {
     "data": {
      "text/plain": [
       "0.38406808714597873"
      ]
     },
     "execution_count": 166,
     "metadata": {},
     "output_type": "execute_result"
    }
   ],
   "source": [
    "modelo.score(x_train,yy_train)"
   ]
  },
  {
   "attachments": {},
   "cell_type": "markdown",
   "metadata": {},
   "source": [
    "Conclusion 20/09/23 es muy tardado y poco eficiente\n",
    "el maxim score obtenido es de 0.38406808714597873 tardando 12 min cuyos parametros fueron:\n",
    "\n",
    "{'alpha_1': 1.0, 'alpha_2': 1e-06, 'alpha_init': None, 'compute_score': False, 'copy_X': True, 'fit_intercept': True, 'lambda_1': 1e-06, 'lambda_2': 1.0, 'lambda_init': None, 'max_iter': None, 'n_iter': 'deprecated', 'tol': 0.001, 'verbose': False}"
   ]
  },
  {
   "attachments": {},
   "cell_type": "markdown",
   "metadata": {},
   "source": [
    "### Arbol de regresion"
   ]
  },
  {
   "cell_type": "code",
   "execution_count": 210,
   "metadata": {},
   "outputs": [],
   "source": [
    "from sklearn.tree import DecisionTreeRegressor\n",
    "from sklearn.model_selection import GridSearchCV\n",
    "import numpy as np\n",
    "import matplotlib.pyplot as plt\n",
    "\n",
    "def entrenar_decision_tree(x_train, y_train, hiperparametros,ts):\n",
    "    \"\"\"\n",
    "    Entrena un modelo DecisionTreeRegressor utilizando búsqueda en cuadrícula (grid search) con diferentes hiperparámetros.\n",
    "\n",
    "    Parameters:\n",
    "    - x_train: Datos de entrenamiento (numpy array o similar).\n",
    "    - y_train: Etiquetas de entrenamiento (numpy array o similar).\n",
    "    - hiperparametros: Diccionario de hiperparámetros a probar.\n",
    "\n",
    "    Returns:\n",
    "    - Mejor modelo DecisionTreeRegressor encontrado.\n",
    "    \"\"\"\n",
    "\n",
    "    # Crear el modelo DecisionTreeRegressor\n",
    "    modelo = DecisionTreeRegressor()\n",
    "\n",
    "    # Crear el objeto GridSearchCV para búsqueda en cuadrícula\n",
    "    grid_search = GridSearchCV(modelo, hiperparametros, cv=ts, scoring='neg_mean_squared_error')\n",
    "\n",
    "    # Entrenar el modelo con diferentes hiperparámetros\n",
    "    grid_search.fit(x_train, y_train)\n",
    "\n",
    "    # Devolver el mejor modelo encontrado\n",
    "    mejor_modelo = grid_search.best_estimator_\n",
    "\n",
    "    # Obtener los resultados de la búsqueda en cuadrícula\n",
    "    resultados = grid_search.cv_results_\n",
    "   \n",
    "\n",
    "    # Graficar los puntajes en función de los hiperparámetros\n",
    "    #graficar_resultados(resultados, hiperparametros)\n",
    "\n",
    "    return mejor_modelo\n",
    "\n",
    "\n",
    "# Ejemplo de uso:\n",
    "def train_DecisionTreeRegresor(x_train,y_train,ts):\n",
    "    # Datos de entrenamiento de ejemplo\n",
    "    #x_train = np.array([[1, 2], [2, 3], [3, 4], [4, 5]])\n",
    "    #y_train = np.array([1, 2, 3, 4])\n",
    "\n",
    "    # Hiperparámetros a probar (ejemplo)\n",
    "    hiperparametros = {\n",
    "        'max_depth': [None,3, 5, 10, 15,30],\n",
    "        'min_samples_split': [2, 5, 10],\n",
    "        'min_samples_leaf': [1, 2, 4],\n",
    "        \"criterion\":[\"squared_error\", \"friedman_mse\", \"absolute_error\", \"poisson\"],\n",
    "        \"splitter\": [\"best\", \"random\"],\n",
    "        \"max_features\":[\"auto\", \"sqrt\", \"log2\"],\n",
    "        \"max_leaf_nodes\":[2,5,10],\n",
    "        \"min_weight_fraction_leaf\":[0,0.01,0.1,0.3]\n",
    "    }\n",
    "\n",
    "    # Entrenar el modelo DecisionTreeRegressor con búsqueda en cuadrícula y visualizar los gráficos\n",
    "    mejor_modelo = entrenar_decision_tree(x_train, y_train, hiperparametros,ts)\n",
    "\n",
    "    # Imprimir los hiperparámetros del mejor modelo encontrado\n",
    "    print(\"Mejores hiperparámetros:\")\n",
    "    print(mejor_modelo.get_params())\n",
    "    return mejor_modelo, mejor_modelo.get_params()\n"
   ]
  },
  {
   "cell_type": "code",
   "execution_count": 211,
   "metadata": {},
   "outputs": [
    {
     "name": "stdout",
     "output_type": "stream",
     "text": [
      "Mejores hiperparámetros:\n",
      "{'ccp_alpha': 0.0, 'criterion': 'absolute_error', 'max_depth': 10, 'max_features': 'sqrt', 'max_leaf_nodes': 10, 'min_impurity_decrease': 0.0, 'min_samples_leaf': 1, 'min_samples_split': 10, 'min_weight_fraction_leaf': 0.01, 'random_state': None, 'splitter': 'best'}\n"
     ]
    }
   ],
   "source": [
    "ts = TimeSeriesSplit(test_size=100)\n",
    "model, params = train_DecisionTreeRegresor(x_train,yy_train,ts)"
   ]
  },
  {
   "cell_type": "code",
   "execution_count": 212,
   "metadata": {},
   "outputs": [
    {
     "data": {
      "text/plain": [
       "0.421552050872366"
      ]
     },
     "execution_count": 212,
     "metadata": {},
     "output_type": "execute_result"
    }
   ],
   "source": [
    "model.score(x_train,yy_train)"
   ]
  },
  {
   "attachments": {},
   "cell_type": "markdown",
   "metadata": {},
   "source": [
    "Conclusion\n",
    "\n",
    "score: 042 parametros: {'ccp_alpha': 0.0, 'criterion': 'squared_error', 'max_depth': 30, 'max_features': 'sqrt', 'max_leaf_nodes': 10, 'min_impurity_decrease': 0.0, 'min_samples_leaf': 4, 'min_samples_split': 2, 'min_weight_fraction_leaf': 0.0, 'random_state': None, 'splitter': 'random'}\n",
    "\n",
    "score: 0.39 time: 9m parametros: {'ccp_alpha': 0.0, 'criterion': 'absolute_error', 'max_depth': 3, 'max_features': 'sqrt', 'max_leaf_nodes': None, 'min_impurity_decrease': 0.0, 'min_samples_leaf': 2, 'min_samples_split': 10, 'min_weight_fraction_leaf': 0.0, 'random_state': None, 'splitter': 'best'}\n",
    "\n",
    "score: 0.46, time:13.2, parametros: {'ccp_alpha': 0.0, 'criterion': 'squared_error', 'max_depth': 3, 'max_features': 'sqrt', 'max_leaf_nodes': None, 'min_impurity_decrease': 0.0, 'min_samples_leaf': 2, 'min_samples_split': 5, 'min_weight_fraction_leaf': 0.0, 'random_state': None, 'splitter': 'best'}\n",
    "\n",
    "score: 0.50, time 7m, parametros: {'ccp_alpha': 0.0, 'criterion': 'absolute_error', 'max_depth': 5, 'max_features': None, 'max_leaf_nodes': None, 'min_impurity_decrease': 0.0, 'min_samples_leaf': 4, 'min_samples_split': 10, 'min_weight_fraction_leaf': 0.0, 'random_state': None, 'splitter': 'best'}\n",
    "\n",
    "score: 0.44, time: 11m, parametros: {'ccp_alpha': 0.0, 'criterion': 'absolute_error', 'max_depth': 3, 'max_features': None, 'max_leaf_nodes': None, 'min_impurity_decrease': 0.0, 'min_samples_leaf': 1, 'min_samples_split': 2, 'min_weight_fraction_leaf': 0.0, 'random_state': None, 'splitter': 'best'}\n",
    "\n",
    "score: 0.42, time: 81m, parametros: {'ccp_alpha': 0.0, 'criterion': 'absolute_error', 'max_depth': 10, 'max_features': 'sqrt', 'max_leaf_nodes': 10, 'min_impurity_decrease': 0.0, 'min_samples_leaf': 1, 'min_samples_split': 10, 'min_weight_fraction_leaf': 0.01, 'random_state': None, 'splitter': 'best'}"
   ]
  },
  {
   "attachments": {},
   "cell_type": "markdown",
   "metadata": {},
   "source": [
    "## Backtesting"
   ]
  },
  {
   "attachments": {},
   "cell_type": "markdown",
   "metadata": {},
   "source": [
    "### Sobre clasificacion"
   ]
  },
  {
   "cell_type": "code",
   "execution_count": null,
   "metadata": {},
   "outputs": [],
   "source": [
    "# Leer el modelo\n",
    "import pickle\n",
    "from sklearn.metrics import accuracy_score\n",
    "with open('Models/DecisionTreeClassifier.pkl', 'rb') as f:\n",
    "    model_chido = pickle.load(f)\n",
    "\n",
    "print('Acuracy del modelo sobre set de testeo: ',accuracy_score(yy_test, model_dt.predict(x_test)))"
   ]
  },
  {
   "cell_type": "code",
   "execution_count": null,
   "metadata": {},
   "outputs": [],
   "source": [
    "df.Name"
   ]
  },
  {
   "cell_type": "code",
   "execution_count": null,
   "metadata": {},
   "outputs": [],
   "source": [
    "print(accuracy)"
   ]
  },
  {
   "cell_type": "code",
   "execution_count": null,
   "metadata": {},
   "outputs": [],
   "source": [
    "# Bactesting\n",
    "from backtesting import Strategy, Backtest\n",
    "\n",
    "class ClassificationUP(Strategy):\n",
    "    def init(self):\n",
    "        # Instanciamos el modelo\n",
    "        self.model = model_dt  #model_chido, best_model\n",
    "        # Indicadora sobre si ya hemos comprado\n",
    "        self.already_bought = False\n",
    "\n",
    "    def next(self):\n",
    "        # Variable global de Strategy data.df\n",
    "        #print(self.data.df.columns)\n",
    "        explanatory_today = self.data.df.iloc[-1:, :]\n",
    "        forecast_tomorrow = self.model.predict(explanatory_today)[0]\n",
    "\n",
    "        # conditions to sell or buy\n",
    "\n",
    "        ## Buy\n",
    "        if forecast_tomorrow == 'UP' and self.already_bought == False:\n",
    "            self.buy()\n",
    "            self.already_bought = True\n",
    "\n",
    "        ## Sell\n",
    "        elif forecast_tomorrow == 'DOWN' and self.already_bought == True:\n",
    "            self.sell()\n",
    "            self.already_bought = False\n",
    "\n",
    "        ## Nothing\n",
    "        else: pass\n",
    "        \n",
    "        \n",
    "bt = Backtest(data=X.iloc[:-1], strategy=ClassificationUP,\n",
    "              cash=20000, commission=.002, exclusive_orders=True)\n",
    "results = bt.run()\n",
    "results.to_frame(name='Values').loc[:'Avg. Trade Duration']"
   ]
  },
  {
   "cell_type": "code",
   "execution_count": null,
   "metadata": {},
   "outputs": [],
   "source": [
    "X_test.loc[ind]"
   ]
  },
  {
   "cell_type": "code",
   "execution_count": null,
   "metadata": {},
   "outputs": [],
   "source": [
    "0.1/100"
   ]
  },
  {
   "attachments": {},
   "cell_type": "markdown",
   "metadata": {},
   "source": [
    "Para saber mas acerca sobre la comision en binance [aqui](https://www.binance.com/es/fee/trading)"
   ]
  },
  {
   "cell_type": "code",
   "execution_count": null,
   "metadata": {},
   "outputs": [],
   "source": [
    "model_chido = model_test"
   ]
  },
  {
   "cell_type": "code",
   "execution_count": null,
   "metadata": {},
   "outputs": [],
   "source": [
    "monto = 100\n",
    "comision = 0.001\n",
    "\n",
    "\n",
    "# Variables don't move.\n",
    "open_short = False\n",
    "open_long  = False\n",
    "count = 0\n",
    "\n",
    "for ind in x_test.index:\n",
    "    \n",
    "    if count ==0:\n",
    "        new_monto = monto\n",
    "    count += 1\n",
    "    \n",
    "    # PRediccion\n",
    "    tomorrow_case = model_chido.predict(df.loc[ind,cols_x].values.reshape(1, -1))\n",
    "    \n",
    "    ## Caso 1: Abrir long\n",
    "    if tomorrow_case=='UP' and open_long==False and open_short==False:\n",
    "        df.loc[ind, 'Operacion'] = 'Open_Long'\n",
    "        price_operation = df.loc[ind,'Close']\n",
    "        open_long = True\n",
    "        new_monto = new_monto*(1-comision)\n",
    "    \n",
    "    ## Caso 2: Abrir short\n",
    "    elif tomorrow_case=='DOWN' and open_long==False and open_short==False:\n",
    "        df.loc[ind, 'Operacion'] = 'Open_Short'\n",
    "        price_operation = df.loc[ind,'Close']\n",
    "        open_short = True\n",
    "        new_monto = new_monto*(1-comision)\n",
    "    \n",
    "    ## Caso 3: Cerrar Long\n",
    "    elif tomorrow_case=='DOWN' and open_long==True and open_short==False:\n",
    "        df.loc[ind, 'Operacion'] = 'Close_long'\n",
    "        ganancia_per = (df.loc[ind,'Close'] - price_operation)/ price_operation\n",
    "        df.loc[ind,'Ganancia_per'] = ganancia_per *100\n",
    "        new_monto = new_monto * (1+ganancia_per)\n",
    "         \n",
    "        open_long = False\n",
    "    \n",
    "    ## Caso 4: Cerrar Short\n",
    "    elif tomorrow_case=='UP' and open_long==False and open_short==True:\n",
    "        df.loc[ind, 'Operacion'] = 'Close_Short'\n",
    "        ganancia_per = ( price_operation - df.loc[ind,'Close'] )/ price_operation\n",
    "        df.loc[ind,'Ganancia_per'] = ganancia_per * 100\n",
    "        new_monto = new_monto * (1+ganancia_per)\n",
    "        \n",
    "        open_short = False\n",
    "\n",
    "df.loc[df['Operacion']=='Open_Short', 'Ganancia'] = None\n",
    "print('Monto actualizado: ', new_monto)\n"
   ]
  },
  {
   "cell_type": "code",
   "execution_count": null,
   "metadata": {},
   "outputs": [],
   "source": [
    "col_y"
   ]
  },
  {
   "cell_type": "code",
   "execution_count": null,
   "metadata": {},
   "outputs": [],
   "source": [
    "total_trades = df['Operacion'].value_counts()[df['Operacion'].value_counts().index.str.contains('Close')].sum()\n",
    "print(\"******************Total de trades = \",total_trades,\" ***************\")\n",
    "df['Operacion'].value_counts()"
   ]
  },
  {
   "cell_type": "code",
   "execution_count": null,
   "metadata": {},
   "outputs": [],
   "source": [
    "df['Prediccion'] = model_chido.predict(df[cols_x])\n",
    "df[['Close','Close_dir_2',\"Prediccion\",'Operacion','Ganancia_per']].iloc[-x_test.shape[0]:].to_csv('Data/Prueba_back.csv')"
   ]
  },
  {
   "cell_type": "code",
   "execution_count": null,
   "metadata": {},
   "outputs": [],
   "source": [
    "cols_x"
   ]
  },
  {
   "attachments": {},
   "cell_type": "markdown",
   "metadata": {},
   "source": [
    "### Conclusiones \n",
    "\n",
    "***01-09-2023*** </br>\n",
    "El modelo arbol de decision resulta ser mu bueno para estimar el movimiento del periodo siguiente. </br>\n",
    "Se usaron las columnas: \n",
    "\n",
    "['Open',\n",
    " 'High',\n",
    " 'Low',\n",
    " 'Close',\n",
    " 'Volume',\n",
    " 'Quote_asset_vol',\n",
    " 'Number_trades',\n",
    " 'Taker_buy_base',\n",
    " 'Taker_buy_quote',\n",
    " 'Close_pc']\n",
    "\n",
    " precision del 100%\n"
   ]
  },
  {
   "cell_type": "code",
   "execution_count": null,
   "metadata": {},
   "outputs": [],
   "source": []
  },
  {
   "attachments": {},
   "cell_type": "markdown",
   "metadata": {},
   "source": [
    "# otro"
   ]
  },
  {
   "cell_type": "code",
   "execution_count": 10,
   "metadata": {},
   "outputs": [],
   "source": [
    "# Encripta el archivo credenciales.txt con la clave generada\n",
    "encriptar_archivo('Data/credenciales.txt', clave)\n"
   ]
  },
  {
   "cell_type": "code",
   "execution_count": 8,
   "metadata": {},
   "outputs": [],
   "source": [
    "# Escribe la información desencriptada en otro archivo\n",
    "escribir_desencriptado('Data/vacio.txt', 'Data/IP.txt', clave_file1)"
   ]
  }
 ],
 "metadata": {
  "kernelspec": {
   "display_name": "hlp",
   "language": "python",
   "name": "python3"
  },
  "language_info": {
   "codemirror_mode": {
    "name": "ipython",
    "version": 3
   },
   "file_extension": ".py",
   "mimetype": "text/x-python",
   "name": "python",
   "nbconvert_exporter": "python",
   "pygments_lexer": "ipython3",
   "version": "3.9.12"
  },
  "orig_nbformat": 4
 },
 "nbformat": 4,
 "nbformat_minor": 2
}
