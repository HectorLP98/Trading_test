{
 "cells": [
  {
   "cell_type": "code",
   "execution_count": 1,
   "metadata": {},
   "outputs": [],
   "source": [
    "name = 'Hector'"
   ]
  },
  {
   "cell_type": "code",
   "execution_count": 17,
   "metadata": {},
   "outputs": [],
   "source": [
    "def printname_reverse(name):\n",
    "    newname = ''\n",
    "    for j in reversed(name):\n",
    "        newname += j\n",
    "        \n",
    "    print(newname)"
   ]
  },
  {
   "cell_type": "code",
   "execution_count": 7,
   "metadata": {},
   "outputs": [],
   "source": [
    "\n"
   ]
  },
  {
   "cell_type": "code",
   "execution_count": 1,
   "metadata": {},
   "outputs": [],
   "source": [
    "from yahoo_fin.stock_info import tickers_nasdaq, tickers_other, tickers_sp500\n",
    "import yfinance as yf\n",
    "\n",
    "# Obtener los símbolos del NASDAQ\n",
    "nasdaq_symbols = tickers_nasdaq()\n",
    "\n",
    "# Obtener los símbolos de otros intercambios\n",
    "other_symbols = tickers_other()\n",
    "\n",
    "# Obtener los símbolos del S&P 500\n",
    "sp500_symbols = tickers_sp500()\n",
    "\n",
    "\n"
   ]
  },
  {
   "cell_type": "code",
   "execution_count": null,
   "metadata": {},
   "outputs": [],
   "source": [
    "pip install streamlit yahoo-fin"
   ]
  },
  {
   "cell_type": "code",
   "execution_count": 4,
   "metadata": {},
   "outputs": [
    {
     "data": {
      "text/plain": [
       "'AAPL'"
      ]
     },
     "execution_count": 4,
     "metadata": {},
     "output_type": "execute_result"
    }
   ],
   "source": [
    "# Obtenemos el simbolo\n",
    "from intarface.simbols_tk import *\n",
    "simbol = get_simbol()\n",
    "simbol"
   ]
  },
  {
   "cell_type": "code",
   "execution_count": 5,
   "metadata": {},
   "outputs": [],
   "source": [
    "ticker = yf.Ticker(simbol)"
   ]
  },
  {
   "cell_type": "markdown",
   "metadata": {},
   "source": [
    "period: data period to download (either use period parameter or use start and end) Valid periods are:\n",
    "\n",
    "“1d”, “5d”, “1mo”, “3mo”, “6mo”, “1y”, “2y”, “5y”, “10y”, “ytd”, “max”\n",
    "\n",
    "\n",
    "interval: data interval (1m data is only for available for last 7 days, and data interval <1d for the last 60 days) Valid intervals are:\n",
    "\n",
    "“1m”, “2m”, “5m”, “15m”, “30m”, “60m”, “90m”, “1h”, “1d”, “5d”, “1wk”, “1mo”, “3mo”\n",
    "\n",
    "\n",
    "start: If not using period – in the format (yyyy-mm-dd) or datetime.\n",
    "\n",
    "end: If not using period – in the format (yyyy-mm-dd) or datetime."
   ]
  },
  {
   "cell_type": "code",
   "execution_count": 6,
   "metadata": {},
   "outputs": [
    {
     "data": {
      "text/html": [
       "<div>\n",
       "<style scoped>\n",
       "    .dataframe tbody tr th:only-of-type {\n",
       "        vertical-align: middle;\n",
       "    }\n",
       "\n",
       "    .dataframe tbody tr th {\n",
       "        vertical-align: top;\n",
       "    }\n",
       "\n",
       "    .dataframe thead th {\n",
       "        text-align: right;\n",
       "    }\n",
       "</style>\n",
       "<table border=\"1\" class=\"dataframe\">\n",
       "  <thead>\n",
       "    <tr style=\"text-align: right;\">\n",
       "      <th></th>\n",
       "      <th>Open</th>\n",
       "      <th>High</th>\n",
       "      <th>Low</th>\n",
       "      <th>Close</th>\n",
       "      <th>Volume</th>\n",
       "      <th>Dividends</th>\n",
       "      <th>Stock Splits</th>\n",
       "    </tr>\n",
       "    <tr>\n",
       "      <th>Date</th>\n",
       "      <th></th>\n",
       "      <th></th>\n",
       "      <th></th>\n",
       "      <th></th>\n",
       "      <th></th>\n",
       "      <th></th>\n",
       "      <th></th>\n",
       "    </tr>\n",
       "  </thead>\n",
       "  <tbody>\n",
       "    <tr>\n",
       "      <th>2018-01-02 00:00:00-05:00</th>\n",
       "      <td>40.175173</td>\n",
       "      <td>40.680432</td>\n",
       "      <td>39.962679</td>\n",
       "      <td>40.670986</td>\n",
       "      <td>102223600</td>\n",
       "      <td>0.0</td>\n",
       "      <td>0.0</td>\n",
       "    </tr>\n",
       "    <tr>\n",
       "      <th>2018-01-03 00:00:00-05:00</th>\n",
       "      <td>40.734722</td>\n",
       "      <td>41.211650</td>\n",
       "      <td>40.600146</td>\n",
       "      <td>40.663891</td>\n",
       "      <td>118071600</td>\n",
       "      <td>0.0</td>\n",
       "      <td>0.0</td>\n",
       "    </tr>\n",
       "    <tr>\n",
       "      <th>2018-01-04 00:00:00-05:00</th>\n",
       "      <td>40.737080</td>\n",
       "      <td>40.956657</td>\n",
       "      <td>40.628475</td>\n",
       "      <td>40.852772</td>\n",
       "      <td>89738400</td>\n",
       "      <td>0.0</td>\n",
       "      <td>0.0</td>\n",
       "    </tr>\n",
       "    <tr>\n",
       "      <th>2018-01-05 00:00:00-05:00</th>\n",
       "      <td>40.949586</td>\n",
       "      <td>41.405262</td>\n",
       "      <td>40.857507</td>\n",
       "      <td>41.317905</td>\n",
       "      <td>94640000</td>\n",
       "      <td>0.0</td>\n",
       "      <td>0.0</td>\n",
       "    </tr>\n",
       "    <tr>\n",
       "      <th>2018-01-08 00:00:00-05:00</th>\n",
       "      <td>41.164433</td>\n",
       "      <td>41.461920</td>\n",
       "      <td>41.065266</td>\n",
       "      <td>41.164433</td>\n",
       "      <td>82271200</td>\n",
       "      <td>0.0</td>\n",
       "      <td>0.0</td>\n",
       "    </tr>\n",
       "    <tr>\n",
       "      <th>...</th>\n",
       "      <td>...</td>\n",
       "      <td>...</td>\n",
       "      <td>...</td>\n",
       "      <td>...</td>\n",
       "      <td>...</td>\n",
       "      <td>...</td>\n",
       "      <td>...</td>\n",
       "    </tr>\n",
       "    <tr>\n",
       "      <th>2024-03-07 00:00:00-05:00</th>\n",
       "      <td>169.149994</td>\n",
       "      <td>170.729996</td>\n",
       "      <td>168.490005</td>\n",
       "      <td>169.000000</td>\n",
       "      <td>71765100</td>\n",
       "      <td>0.0</td>\n",
       "      <td>0.0</td>\n",
       "    </tr>\n",
       "    <tr>\n",
       "      <th>2024-03-08 00:00:00-05:00</th>\n",
       "      <td>169.000000</td>\n",
       "      <td>173.699997</td>\n",
       "      <td>168.940002</td>\n",
       "      <td>170.729996</td>\n",
       "      <td>76114600</td>\n",
       "      <td>0.0</td>\n",
       "      <td>0.0</td>\n",
       "    </tr>\n",
       "    <tr>\n",
       "      <th>2024-03-11 00:00:00-04:00</th>\n",
       "      <td>172.940002</td>\n",
       "      <td>174.380005</td>\n",
       "      <td>172.050003</td>\n",
       "      <td>172.750000</td>\n",
       "      <td>60139500</td>\n",
       "      <td>0.0</td>\n",
       "      <td>0.0</td>\n",
       "    </tr>\n",
       "    <tr>\n",
       "      <th>2024-03-12 00:00:00-04:00</th>\n",
       "      <td>173.149994</td>\n",
       "      <td>174.029999</td>\n",
       "      <td>171.009995</td>\n",
       "      <td>173.229996</td>\n",
       "      <td>59825400</td>\n",
       "      <td>0.0</td>\n",
       "      <td>0.0</td>\n",
       "    </tr>\n",
       "    <tr>\n",
       "      <th>2024-03-13 00:00:00-04:00</th>\n",
       "      <td>172.770004</td>\n",
       "      <td>173.190002</td>\n",
       "      <td>170.759995</td>\n",
       "      <td>171.130005</td>\n",
       "      <td>52437800</td>\n",
       "      <td>0.0</td>\n",
       "      <td>0.0</td>\n",
       "    </tr>\n",
       "  </tbody>\n",
       "</table>\n",
       "<p>1559 rows × 7 columns</p>\n",
       "</div>"
      ],
      "text/plain": [
       "                                 Open        High         Low       Close  \\\n",
       "Date                                                                        \n",
       "2018-01-02 00:00:00-05:00   40.175173   40.680432   39.962679   40.670986   \n",
       "2018-01-03 00:00:00-05:00   40.734722   41.211650   40.600146   40.663891   \n",
       "2018-01-04 00:00:00-05:00   40.737080   40.956657   40.628475   40.852772   \n",
       "2018-01-05 00:00:00-05:00   40.949586   41.405262   40.857507   41.317905   \n",
       "2018-01-08 00:00:00-05:00   41.164433   41.461920   41.065266   41.164433   \n",
       "...                               ...         ...         ...         ...   \n",
       "2024-03-07 00:00:00-05:00  169.149994  170.729996  168.490005  169.000000   \n",
       "2024-03-08 00:00:00-05:00  169.000000  173.699997  168.940002  170.729996   \n",
       "2024-03-11 00:00:00-04:00  172.940002  174.380005  172.050003  172.750000   \n",
       "2024-03-12 00:00:00-04:00  173.149994  174.029999  171.009995  173.229996   \n",
       "2024-03-13 00:00:00-04:00  172.770004  173.190002  170.759995  171.130005   \n",
       "\n",
       "                              Volume  Dividends  Stock Splits  \n",
       "Date                                                           \n",
       "2018-01-02 00:00:00-05:00  102223600        0.0           0.0  \n",
       "2018-01-03 00:00:00-05:00  118071600        0.0           0.0  \n",
       "2018-01-04 00:00:00-05:00   89738400        0.0           0.0  \n",
       "2018-01-05 00:00:00-05:00   94640000        0.0           0.0  \n",
       "2018-01-08 00:00:00-05:00   82271200        0.0           0.0  \n",
       "...                              ...        ...           ...  \n",
       "2024-03-07 00:00:00-05:00   71765100        0.0           0.0  \n",
       "2024-03-08 00:00:00-05:00   76114600        0.0           0.0  \n",
       "2024-03-11 00:00:00-04:00   60139500        0.0           0.0  \n",
       "2024-03-12 00:00:00-04:00   59825400        0.0           0.0  \n",
       "2024-03-13 00:00:00-04:00   52437800        0.0           0.0  \n",
       "\n",
       "[1559 rows x 7 columns]"
      ]
     },
     "execution_count": 6,
     "metadata": {},
     "output_type": "execute_result"
    }
   ],
   "source": [
    "df = ticker.history(start=\"2018-01-01\", interval=\"1d\")\n",
    "df"
   ]
  },
  {
   "cell_type": "code",
   "execution_count": 7,
   "metadata": {},
   "outputs": [],
   "source": [
    "df.to_csv(f\"Data/{simbol}_1h.txt\", index=False, encoding=\"utf8\")"
   ]
  },
  {
   "cell_type": "code",
   "execution_count": 73,
   "metadata": {},
   "outputs": [
    {
     "data": {
      "text/plain": [
       "Open     34.504356\n",
       "High     34.921343\n",
       "Low      34.029856\n",
       "Close    34.075390\n",
       "dtype: float64"
      ]
     },
     "execution_count": 73,
     "metadata": {},
     "output_type": "execute_result"
    }
   ],
   "source": [
    "df[[\"Open\",\"High\",\"Low\",\"Close\"]].min()"
   ]
  },
  {
   "cell_type": "code",
   "execution_count": 99,
   "metadata": {},
   "outputs": [
    {
     "data": {
      "text/plain": [
       "lazy-loading dict with keys = ['currency', 'dayHigh', 'dayLow', 'exchange', 'fiftyDayAverage', 'lastPrice', 'lastVolume', 'marketCap', 'open', 'previousClose', 'quoteType', 'regularMarketPreviousClose', 'shares', 'tenDayAverageVolume', 'threeMonthAverageVolume', 'timezone', 'twoHundredDayAverage', 'yearChange', 'yearHigh', 'yearLow']"
      ]
     },
     "execution_count": 99,
     "metadata": {},
     "output_type": "execute_result"
    }
   ],
   "source": [
    "ticker.basic_info"
   ]
  },
  {
   "cell_type": "code",
   "execution_count": 101,
   "metadata": {},
   "outputs": [
    {
     "data": {
      "text/plain": [
       "173.49000549316406"
      ]
     },
     "execution_count": 101,
     "metadata": {},
     "output_type": "execute_result"
    }
   ],
   "source": [
    "ticker.basic_info[\"dayHigh\"]"
   ]
  },
  {
   "cell_type": "code",
   "execution_count": 59,
   "metadata": {},
   "outputs": [
    {
     "data": {
      "text/plain": [
       "['currency',\n",
       " 'dayHigh',\n",
       " 'dayLow',\n",
       " 'exchange',\n",
       " 'fiftyDayAverage',\n",
       " 'lastPrice',\n",
       " 'lastVolume',\n",
       " 'marketCap',\n",
       " 'open',\n",
       " 'previousClose',\n",
       " 'quoteType',\n",
       " 'regularMarketPreviousClose',\n",
       " 'shares',\n",
       " 'tenDayAverageVolume',\n",
       " 'threeMonthAverageVolume',\n",
       " 'timezone',\n",
       " 'twoHundredDayAverage',\n",
       " 'yearChange',\n",
       " 'yearHigh',\n",
       " 'yearLow']"
      ]
     },
     "execution_count": 59,
     "metadata": {},
     "output_type": "execute_result"
    }
   ],
   "source": [
    "['currency', 'dayHigh', 'dayLow', 'exchange', 'fiftyDayAverage', 'lastPrice', 'lastVolume', 'marketCap', 'open', 'previousClose', 'quoteType', 'regularMarketPreviousClose', 'shares', 'tenDayAverageVolume', 'threeMonthAverageVolume', 'timezone', 'twoHundredDayAverage', 'yearChange', 'yearHigh', 'yearLow']"
   ]
  },
  {
   "cell_type": "markdown",
   "metadata": {},
   "source": [
    "La fórmula para calcular la capitalización de mercado es:\n",
    "\n",
    "Market Cap = Precio de la Accion x Numero de Acciones en Circulacion"
   ]
  },
  {
   "cell_type": "code",
   "execution_count": 81,
   "metadata": {},
   "outputs": [
    {
     "name": "stdout",
     "output_type": "stream",
     "text": [
      "Ultimo precio:  173.3800048828125\n",
      "Mercado de Capitalizacion 2,677,316,614,177.5\n",
      "Total de acciones 15,441,899,520.0\n",
      "Precio mas alto del año 199.6199951171875\n",
      "Precio mas bajo del año 147.6999969482422\n",
      "Zona horaria  America/New_York\n"
     ]
    }
   ],
   "source": [
    "# Ultimo precio\n",
    "lastPrice = ticker.get_fast_info()[\"lastPrice\"]\n",
    "# Market Cap = Precio de la Accion x Numero de Acciones en Circulacion\n",
    "marketCap = ticker.get_fast_info()[\"marketCap\"]\n",
    "num_acciones = marketCap / lastPrice\n",
    "#precio mas bajo del año\n",
    "yearHigh = ticker.get_fast_info()[\"yearHigh\"]\n",
    "# precio mas alto del año\n",
    "yearLow = ticker.get_fast_info()[\"yearLow\"]\n",
    "# zona horaria\n",
    "timezone = ticker.get_fast_info()[\"timezone\"]\n",
    "\n",
    "print(\"Ultimo precio: \", \"{:,}\".format(lastPrice))\n",
    "print(\"Mercado de Capitalizacion\", \"{:,}\".format(marketCap))\n",
    "print(\"Total de acciones\", \"{:,}\".format(num_acciones))\n",
    "print(\"Precio mas alto del año {:,}\".format(yearHigh))\n",
    "print(\"Precio mas bajo del año {:,}\".format(yearLow))\n",
    "print(\"Zona horaria \", timezone)"
   ]
  },
  {
   "cell_type": "code",
   "execution_count": 96,
   "metadata": {},
   "outputs": [
    {
     "data": {
      "text/html": [
       "<div>\n",
       "<style scoped>\n",
       "    .dataframe tbody tr th:only-of-type {\n",
       "        vertical-align: middle;\n",
       "    }\n",
       "\n",
       "    .dataframe tbody tr th {\n",
       "        vertical-align: top;\n",
       "    }\n",
       "\n",
       "    .dataframe thead th {\n",
       "        text-align: right;\n",
       "    }\n",
       "</style>\n",
       "<table border=\"1\" class=\"dataframe\">\n",
       "  <thead>\n",
       "    <tr style=\"text-align: right;\">\n",
       "      <th></th>\n",
       "      <th>title</th>\n",
       "      <th>publisher</th>\n",
       "      <th>link</th>\n",
       "      <th>type</th>\n",
       "      <th>relatedTickers</th>\n",
       "    </tr>\n",
       "  </thead>\n",
       "  <tbody>\n",
       "    <tr>\n",
       "      <th>0</th>\n",
       "      <td>What's It Going To Take To Get Apple Stock Out...</td>\n",
       "      <td>Investor's Business Daily</td>\n",
       "      <td>https://finance.yahoo.com/m/c1ee0d37-21b5-3376...</td>\n",
       "      <td>STORY</td>\n",
       "      <td>[AAPL]</td>\n",
       "    </tr>\n",
       "    <tr>\n",
       "      <th>1</th>\n",
       "      <td>Magnificent Seven Stocks To Buy And Watch: Nvi...</td>\n",
       "      <td>Investor's Business Daily</td>\n",
       "      <td>https://finance.yahoo.com/m/4205eaa9-f620-3a0b...</td>\n",
       "      <td>STORY</td>\n",
       "      <td>[NVDA, AAPL, TSLA, META, MSFT]</td>\n",
       "    </tr>\n",
       "    <tr>\n",
       "      <th>2</th>\n",
       "      <td>How Apple can exit a slump: Analyst</td>\n",
       "      <td>Yahoo Finance Video</td>\n",
       "      <td>https://finance.yahoo.com/video/apple-exit-slu...</td>\n",
       "      <td>VIDEO</td>\n",
       "      <td>[AAPL]</td>\n",
       "    </tr>\n",
       "    <tr>\n",
       "      <th>3</th>\n",
       "      <td>Apple Stock’s Selloff Is Overdone, Wall Street...</td>\n",
       "      <td>Barrons.com</td>\n",
       "      <td>https://finance.yahoo.com/m/e5241c57-a4ab-3323...</td>\n",
       "      <td>STORY</td>\n",
       "      <td>[AAPL]</td>\n",
       "    </tr>\n",
       "    <tr>\n",
       "      <th>4</th>\n",
       "      <td>Apple's stock is in the red for 2024: What the...</td>\n",
       "      <td>Yahoo Finance Video</td>\n",
       "      <td>https://finance.yahoo.com/video/apples-stock-r...</td>\n",
       "      <td>VIDEO</td>\n",
       "      <td>[AAPL]</td>\n",
       "    </tr>\n",
       "  </tbody>\n",
       "</table>\n",
       "</div>"
      ],
      "text/plain": [
       "                                               title  \\\n",
       "0  What's It Going To Take To Get Apple Stock Out...   \n",
       "1  Magnificent Seven Stocks To Buy And Watch: Nvi...   \n",
       "2                How Apple can exit a slump: Analyst   \n",
       "3  Apple Stock’s Selloff Is Overdone, Wall Street...   \n",
       "4  Apple's stock is in the red for 2024: What the...   \n",
       "\n",
       "                   publisher  \\\n",
       "0  Investor's Business Daily   \n",
       "1  Investor's Business Daily   \n",
       "2        Yahoo Finance Video   \n",
       "3                Barrons.com   \n",
       "4        Yahoo Finance Video   \n",
       "\n",
       "                                                link   type  \\\n",
       "0  https://finance.yahoo.com/m/c1ee0d37-21b5-3376...  STORY   \n",
       "1  https://finance.yahoo.com/m/4205eaa9-f620-3a0b...  STORY   \n",
       "2  https://finance.yahoo.com/video/apple-exit-slu...  VIDEO   \n",
       "3  https://finance.yahoo.com/m/e5241c57-a4ab-3323...  STORY   \n",
       "4  https://finance.yahoo.com/video/apples-stock-r...  VIDEO   \n",
       "\n",
       "                   relatedTickers  \n",
       "0                          [AAPL]  \n",
       "1  [NVDA, AAPL, TSLA, META, MSFT]  \n",
       "2                          [AAPL]  \n",
       "3                          [AAPL]  \n",
       "4                          [AAPL]  "
      ]
     },
     "execution_count": 96,
     "metadata": {},
     "output_type": "execute_result"
    }
   ],
   "source": [
    "df_news = pd.DataFrame(ticker.news)\n",
    "df_news = df_news[[\"title\",\"publisher\",\"link\",\"type\",\"relatedTickers\"]]\n",
    "df_news.head()"
   ]
  },
  {
   "cell_type": "code",
   "execution_count": null,
   "metadata": {},
   "outputs": [],
   "source": []
  }
 ],
 "metadata": {
  "kernelspec": {
   "display_name": "hlp",
   "language": "python",
   "name": "python3"
  },
  "language_info": {
   "codemirror_mode": {
    "name": "ipython",
    "version": 3
   },
   "file_extension": ".py",
   "mimetype": "text/x-python",
   "name": "python",
   "nbconvert_exporter": "python",
   "pygments_lexer": "ipython3",
   "version": "3.9.12"
  },
  "orig_nbformat": 4
 },
 "nbformat": 4,
 "nbformat_minor": 2
}
