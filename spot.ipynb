{
 "cells": [
  {
   "cell_type": "code",
   "execution_count": 1,
   "metadata": {},
   "outputs": [],
   "source": [
    "from fechas import *\n",
    "import pandas as pd\n",
    "from Datasets import   generate_dataset, up_to_db\n",
    "from binance.spot import Spot\n",
    "from conexion import abrir_conexion_MYSQL,open_conexion_get"
   ]
  },
  {
   "cell_type": "code",
   "execution_count": 4,
   "metadata": {},
   "outputs": [
    {
     "data": {
      "text/plain": [
       "(2287, 21)"
      ]
     },
     "execution_count": 4,
     "metadata": {},
     "output_type": "execute_result"
    }
   ],
   "source": [
    "df_simbolos = pd.read_csv('Data/Symbols_Spot.csv')\n",
    "df_simbolos.shape"
   ]
  },
  {
   "cell_type": "code",
   "execution_count": 6,
   "metadata": {},
   "outputs": [],
   "source": [
    "apy_key, secret_key, passw = get_credentials()\n",
    "passw = 'a27p28z'\n",
    "db = \"BNB\"\n",
    "cliente = Spot(key=apy_key,secret=secret_key)\n",
    "con_get = open_conexion_get('root',passw,database=db)\n",
    "con_set = abrir_conexion_MYSQL('root',passw,database=db)"
   ]
  },
  {
   "cell_type": "code",
   "execution_count": 5,
   "metadata": {},
   "outputs": [
    {
     "data": {
      "text/plain": [
       "array(['BNBBTC', 'BNBETH', 'BNBUSDT', 'BNBTUSD', 'BNBUSDC', 'BNBBUSD',\n",
       "       'BNBRUB', 'BNBTRY', 'BNBEUR', 'BNBGBP', 'BNBBIDR', 'BNBDAI',\n",
       "       'BNBBRL', 'BNBUAH', 'BNBFDUSD'], dtype=object)"
      ]
     },
     "execution_count": 5,
     "metadata": {},
     "output_type": "execute_result"
    }
   ],
   "source": [
    "simbolos = df_simbolos[(df_simbolos['baseAsset']=='BNB') & (df_simbolos['status']=='TRADING')]['symbol'].values\n",
    "simbolos"
   ]
  },
  {
   "cell_type": "code",
   "execution_count": 13,
   "metadata": {},
   "outputs": [
    {
     "name": "stderr",
     "output_type": "stream",
     "text": [
      "  0%|          | 0/15 [00:00<?, ?it/s]"
     ]
    },
    {
     "name": "stdout",
     "output_type": "stream",
     "text": [
      "Se cargo la tabla: BNBBTC_1d\n",
      "Se cargo la tabla: BNBBTC_4h\n",
      "Se cargo la tabla: BNBBTC_1h\n"
     ]
    },
    {
     "name": "stderr",
     "output_type": "stream",
     "text": [
      "  7%|▋         | 1/15 [01:53<26:34, 113.88s/it]"
     ]
    },
    {
     "name": "stdout",
     "output_type": "stream",
     "text": [
      "Se cargo la tabla: BNBETH_1d\n",
      "Se cargo la tabla: BNBETH_4h\n",
      "Se cargo la tabla: BNBETH_1h\n"
     ]
    },
    {
     "name": "stderr",
     "output_type": "stream",
     "text": [
      " 13%|█▎        | 2/15 [03:52<25:16, 116.69s/it]"
     ]
    },
    {
     "name": "stdout",
     "output_type": "stream",
     "text": [
      "Se cargo la tabla: BNBUSDT_1d\n",
      "Se cargo la tabla: BNBUSDT_4h\n",
      "Se cargo la tabla: BNBUSDT_1h\n"
     ]
    },
    {
     "name": "stderr",
     "output_type": "stream",
     "text": [
      " 20%|██        | 3/15 [05:41<22:35, 113.00s/it]"
     ]
    },
    {
     "name": "stdout",
     "output_type": "stream",
     "text": [
      "Se cargo la tabla: BNBTUSD_1d\n",
      "Se cargo la tabla: BNBTUSD_4h\n",
      "Se cargo la tabla: BNBTUSD_1h\n"
     ]
    },
    {
     "name": "stderr",
     "output_type": "stream",
     "text": [
      " 27%|██▋       | 4/15 [07:04<18:35, 101.45s/it]"
     ]
    },
    {
     "name": "stdout",
     "output_type": "stream",
     "text": [
      "Se cargo la tabla: BNBUSDC_1d\n",
      "Se cargo la tabla: BNBUSDC_4h\n",
      "Se cargo la tabla: BNBUSDC_1h\n"
     ]
    },
    {
     "name": "stderr",
     "output_type": "stream",
     "text": [
      " 33%|███▎      | 5/15 [08:33<16:09, 96.92s/it] "
     ]
    },
    {
     "name": "stdout",
     "output_type": "stream",
     "text": [
      "Se cargo la tabla: BNBBUSD_1d\n",
      "Se cargo la tabla: BNBBUSD_4h\n",
      "Se cargo la tabla: BNBBUSD_1h\n"
     ]
    },
    {
     "name": "stderr",
     "output_type": "stream",
     "text": [
      " 40%|████      | 6/15 [09:57<13:53, 92.56s/it]"
     ]
    },
    {
     "name": "stdout",
     "output_type": "stream",
     "text": [
      "Se cargo la tabla: BNBRUB_1d\n",
      "Se cargo la tabla: BNBRUB_4h\n",
      "Se cargo la tabla: BNBRUB_1h\n"
     ]
    },
    {
     "name": "stderr",
     "output_type": "stream",
     "text": [
      " 47%|████▋     | 7/15 [11:23<12:02, 90.34s/it]"
     ]
    },
    {
     "name": "stdout",
     "output_type": "stream",
     "text": [
      "Se cargo la tabla: BNBTRY_1d\n",
      "Se cargo la tabla: BNBTRY_4h\n",
      "Se cargo la tabla: BNBTRY_1h\n"
     ]
    },
    {
     "name": "stderr",
     "output_type": "stream",
     "text": [
      " 53%|█████▎    | 8/15 [12:49<10:21, 88.76s/it]"
     ]
    },
    {
     "name": "stdout",
     "output_type": "stream",
     "text": [
      "Se cargo la tabla: BNBEUR_1d\n",
      "Se cargo la tabla: BNBEUR_4h\n",
      "Se cargo la tabla: BNBEUR_1h\n"
     ]
    },
    {
     "name": "stderr",
     "output_type": "stream",
     "text": [
      " 60%|██████    | 9/15 [14:15<08:49, 88.19s/it]"
     ]
    },
    {
     "name": "stdout",
     "output_type": "stream",
     "text": [
      "Se cargo la tabla: BNBGBP_1d\n",
      "Se cargo la tabla: BNBGBP_4h\n",
      "Se cargo la tabla: BNBGBP_1h\n"
     ]
    },
    {
     "name": "stderr",
     "output_type": "stream",
     "text": [
      " 67%|██████▋   | 10/15 [15:33<07:04, 84.94s/it]"
     ]
    },
    {
     "name": "stdout",
     "output_type": "stream",
     "text": [
      "Se cargo la tabla: BNBBIDR_1d\n",
      "Se cargo la tabla: BNBBIDR_4h\n",
      "Se cargo la tabla: BNBBIDR_1h\n"
     ]
    },
    {
     "name": "stderr",
     "output_type": "stream",
     "text": [
      " 73%|███████▎  | 11/15 [16:50<05:30, 82.54s/it]"
     ]
    },
    {
     "name": "stdout",
     "output_type": "stream",
     "text": [
      "Se cargo la tabla: BNBDAI_1d\n",
      "Se cargo la tabla: BNBDAI_4h\n",
      "Se cargo la tabla: BNBDAI_1h\n"
     ]
    },
    {
     "name": "stderr",
     "output_type": "stream",
     "text": [
      " 80%|████████  | 12/15 [17:58<03:54, 78.09s/it]"
     ]
    },
    {
     "name": "stdout",
     "output_type": "stream",
     "text": [
      "Se cargo la tabla: BNBBRL_1d\n",
      "Se cargo la tabla: BNBBRL_4h\n",
      "Se cargo la tabla: BNBBRL_1h\n"
     ]
    },
    {
     "name": "stderr",
     "output_type": "stream",
     "text": [
      " 87%|████████▋ | 13/15 [19:05<02:29, 74.69s/it]"
     ]
    },
    {
     "name": "stdout",
     "output_type": "stream",
     "text": [
      "Se cargo la tabla: BNBUAH_1d\n",
      "Se cargo la tabla: BNBUAH_4h\n",
      "Se cargo la tabla: BNBUAH_1h\n"
     ]
    },
    {
     "name": "stderr",
     "output_type": "stream",
     "text": [
      " 93%|█████████▎| 14/15 [20:16<01:13, 73.43s/it]"
     ]
    },
    {
     "name": "stdout",
     "output_type": "stream",
     "text": [
      "Se cargo la tabla: BNBFDUSD_1d\n",
      "Se cargo la tabla: BNBFDUSD_4h\n",
      "Se cargo la tabla: BNBFDUSD_1h\n"
     ]
    },
    {
     "name": "stderr",
     "output_type": "stream",
     "text": [
      "100%|██████████| 15/15 [20:32<00:00, 82.15s/it]\n"
     ]
    }
   ],
   "source": [
    "# Cargar datos desde cierta fecha a SQL\n",
    "\n",
    "intervalos = [\"1d\",\"4h\",\"1h\"] #[\"1d\",\"12h\",\"8h\",\"6h\",\"4h\",\"2h\",\"1h\"]\n",
    "#simbolos = ['BTCUSDT','TRXUSDT',\"BNBUSDT\",\"XRPUSDT\",\"ETHUSDT\"]\n",
    "if_exist = \"replace\" #['fail', 'replace', 'append']\n",
    "type_upload = 'manual' # ['auto','manual']\n",
    "date_start = '2020-01-01 00:00:00' # En caso de que type_update==manual especificar \n",
    "format_date_start = '%Y-%m-%d %H:%M:%S' # Poner conforme al date_start, en caso de ser auto, no mover\n",
    "\n",
    "up_to_db(cliente, simbolos[:], intervalos, \n",
    "            date_start,fecha_format=format_date_start,\n",
    "            type_upload=type_upload,\n",
    "            con_get=con_get,con_set=con_set,if_exist=if_exist)"
   ]
  },
  {
   "cell_type": "code",
   "execution_count": 9,
   "metadata": {},
   "outputs": [
    {
     "data": {
      "text/plain": [
       "(2321, 12)"
      ]
     },
     "execution_count": 9,
     "metadata": {},
     "output_type": "execute_result"
    }
   ],
   "source": [
    "# Generar un dataframe\n",
    "symbol = \"BNBRUB\"\n",
    "interval = \"4h\" # [\"1d\",\"12h\",\"8h\",\"6h\",\"4h\",\"2h\",\"1h\"]\n",
    "type_upload = 'manual' # ['auto','manual']\n",
    "date_start = '2022-08-29 00:00:00' # En caso de que type_update==manual especificar \n",
    "format_date_start = '%Y-%m-%d %H:%M:%S' # Poner conforme al date_start, en caso de ser auto, no mover\n",
    "\n",
    "\n",
    "table_name = symbol+\"_\"+interval\n",
    "\n",
    "df_aux = generate_dataset(cliente, symbol, interval,\n",
    "                     date_start,fecha_format=format_date_start,\n",
    "                    type_upload=type_upload,\n",
    "                    con=None,table_name=None)\n",
    "df_aux.shape"
   ]
  },
  {
   "cell_type": "code",
   "execution_count": 11,
   "metadata": {},
   "outputs": [
    {
     "data": {
      "text/plain": [
       "2321"
      ]
     },
     "execution_count": 11,
     "metadata": {},
     "output_type": "execute_result"
    }
   ],
   "source": [
    "df_aux.to_sql(\"prueba\",con_set,if_exists=\"replace\")"
   ]
  },
  {
   "cell_type": "code",
   "execution_count": null,
   "metadata": {},
   "outputs": [],
   "source": [
    "# Consulta para obtener una lista de bases de datos\n",
    "query = \"SHOW Tables;\"\n",
    "\n",
    "# Ejecutar la consulta\n",
    "cursor.execute(query)\n",
    "\n",
    "# Obtener los resultados y mostrarlos\n",
    "databases = cursor.fetchall()\n",
    "print(\"Bases de datos disponibles:\")\n",
    "for db in databases:\n",
    "    print(db[0])  # El resultado se encuentra en la posición 0 de cada tupla\n"
   ]
  },
  {
   "cell_type": "code",
   "execution_count": null,
   "metadata": {},
   "outputs": [],
   "source": []
  }
 ],
 "metadata": {
  "kernelspec": {
   "display_name": "hlp",
   "language": "python",
   "name": "python3"
  },
  "language_info": {
   "codemirror_mode": {
    "name": "ipython",
    "version": 3
   },
   "file_extension": ".py",
   "mimetype": "text/x-python",
   "name": "python",
   "nbconvert_exporter": "python",
   "pygments_lexer": "ipython3",
   "version": "3.9.12"
  },
  "orig_nbformat": 4
 },
 "nbformat": 4,
 "nbformat_minor": 2
}
