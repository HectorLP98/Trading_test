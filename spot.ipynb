{
 "cells": [
  {
   "cell_type": "code",
   "execution_count": null,
   "metadata": {},
   "outputs": [],
   "source": [
    "def automata_palo(gameState, n):\n",
    "    # Inicio el estado con el automata palo\n",
    "    gameState[n, n-2] = 1\n",
    "    gameState[n, n-1] = 1\n",
    "    gameState[n, n] = 1\n",
    "    \n",
    "def movil(gameState, n):\n",
    "    gameState[n, n] = 1\n",
    "    gameState[n+1, n+1] = 1\n",
    "    gameState[n+1, n+2] = 1\n",
    "    gameState[n, n+2] = 1\n",
    "    gameState[n-1, n+2] = 1\n",
    "    \n",
    "def movil_reverse(gameState, n):\n",
    "    gameState[n, n] = 1\n",
    "    gameState[n-1, n-1] = 1\n",
    "    gameState[n-1, n-2] = 1\n",
    "    gameState[n, n-2] = 1\n",
    "    gameState[n+1, n-2] = 1\n",
    "\n",
    "def cubo(gameState, n):\n",
    "    gameState[n, n] = 1\n",
    "    gameState[n+1,n+1] = 1\n",
    "    gameState[n, n+1] = 1\n",
    "    gameState[n+1, n] = 1\n",
    "    \n",
    "def four_palos(gameState, n):#5\n",
    "    gameState[n-1, n-1] = 1\n",
    "    gameState[n-1, n-2] = 1\n",
    "    gameState[n+1, n-1] = 1\n",
    "    gameState[n+2, n-2] = 1\n",
    "    gameState[n, n-3] = 1\n",
    "    gameState[n, n+1] = 1\n",
    "    \n",
    "def ovalo(gameState, n):#5\n",
    "    gameState[n+1, n+1] = 1\n",
    "    gameState[n+2, n] = 1\n",
    "    gameState[n+2, n-1] = 1\n",
    "    gameState[n+1, n-2] = 1\n",
    "    gameState[n, n-1] = 1\n",
    "    gameState[n, n] = 1\n",
    "    \n",
    "# Iniciamos el display\n",
    "pygame.init()\n",
    "\n",
    "# Medidas de la pantalla\n",
    "width, height = 600, 600\n",
    "screen = pygame.display.set_mode((height,width))\n",
    "\n",
    "# Color de pantalla\n",
    "bg = 25,25,25\n",
    "screen.fill(bg)\n",
    "\n",
    "# Cantidad de celdas en eje x,y\n",
    "nxC, nyC = 50, 50\n",
    "# Dimension de las celdas\n",
    "dimCW = width  / nxC\n",
    "dimCH = height / nyC\n",
    "\n",
    "# Estado de las celdas. 1 si esta viva, 0 si esta muerta\n",
    "gameState = np.zeros((nxC, nyC))\n",
    "\n",
    "#movil(gameState,25)\n",
    "#movil_reverse(gameState, 29)\n",
    "#automata_palo(gameState, 35)   # 41\n",
    "#cubo(gameState, 20)            # 18\n",
    "four_palos(gameState, 25)           # 22\n",
    "ovalo(gameState, 41)\n",
    "# Control de execucion del juego\n",
    "pauseExec = False\n"
   ]
  },
  {
   "cell_type": "code",
   "execution_count": 1,
   "metadata": {},
   "outputs": [],
   "source": [
    "from fechas import *\n",
    "import pandas as pd\n",
    "from Datasets import   generate_dataset, up_to_db\n",
    "from binance.spot import Spot\n",
    "from conexion import *"
   ]
  },
  {
   "cell_type": "code",
   "execution_count": 2,
   "metadata": {},
   "outputs": [
    {
     "data": {
      "text/plain": [
       "(2287, 21)"
      ]
     },
     "execution_count": 2,
     "metadata": {},
     "output_type": "execute_result"
    }
   ],
   "source": [
    "df_simbolos = pd.read_csv('Data/Symbols_Spot.csv')\n",
    "df_simbolos.shape"
   ]
  },
  {
   "cell_type": "code",
   "execution_count": 3,
   "metadata": {},
   "outputs": [],
   "source": [
    "# Lee la clave hash para desencriptar\n",
    "with open('/home/hector/Documentos/Escuelas/Autodidacta/Trading/Data/clave.key', 'r') as clave_file:\n",
    "    clave = clave_file.read()\n",
    "# Lee las contraseñas del archivo encriptado y muestra el resultado deseado\n",
    "contraseñas = desencriptar_archivo('Data/credenciales.txt', clave)"
   ]
  },
  {
   "cell_type": "code",
   "execution_count": 4,
   "metadata": {},
   "outputs": [],
   "source": [
    "db = \"BNB\"\n",
    "cliente = Spot(key=contraseñas[\"APY_KEY_B\"],secret=contraseñas[\"SECRET_KEY_B\"])\n",
    "con_get = open_conexion_get('HectorLP5',contraseñas['MYSQL_PASSW'],database='BNB')\n",
    "con_set = abrir_conexion_MYSQL('HectorLP5',contraseñas['MYSQL_PASSW'],database=db)"
   ]
  },
  {
   "cell_type": "code",
   "execution_count": 5,
   "metadata": {},
   "outputs": [
    {
     "data": {
      "text/plain": [
       "'BNBETH'"
      ]
     },
     "execution_count": 5,
     "metadata": {},
     "output_type": "execute_result"
    }
   ],
   "source": [
    "simbolos = df_simbolos[(df_simbolos['baseAsset']=='BNB') & (df_simbolos['status']=='TRADING')]['symbol'].values\n",
    "simbolos[1]"
   ]
  },
  {
   "cell_type": "code",
   "execution_count": 10,
   "metadata": {},
   "outputs": [
    {
     "data": {
      "text/plain": [
       "array(['BNBBTC', 'BNBETH', 'BNBUSDT', 'BNBTUSD', 'BNBUSDC', 'BNBBUSD',\n",
       "       'BNBRUB', 'BNBTRY', 'BNBEUR', 'BNBGBP', 'BNBBIDR', 'BNBDAI',\n",
       "       'BNBBRL', 'BNBUAH', 'BNBFDUSD'], dtype=object)"
      ]
     },
     "execution_count": 10,
     "metadata": {},
     "output_type": "execute_result"
    }
   ],
   "source": [
    "simbolos"
   ]
  },
  {
   "cell_type": "code",
   "execution_count": 8,
   "metadata": {},
   "outputs": [
    {
     "name": "stderr",
     "output_type": "stream",
     "text": [
      "  0%|          | 0/2 [00:00<?, ?it/s]"
     ]
    },
    {
     "name": "stdout",
     "output_type": "stream",
     "text": [
      "Se cargo la tabla: BNBUSDT_1d\n",
      "Se cargo la tabla: BNBUSDT_4h\n",
      "Se cargo la tabla: BNBUSDT_1h\n"
     ]
    },
    {
     "name": "stderr",
     "output_type": "stream",
     "text": [
      " 50%|█████     | 1/2 [02:08<02:08, 128.06s/it]"
     ]
    },
    {
     "name": "stdout",
     "output_type": "stream",
     "text": [
      "Se cargo la tabla: BNBTUSD_1d\n",
      "Se cargo la tabla: BNBTUSD_4h\n",
      "Se cargo la tabla: BNBTUSD_1h\n"
     ]
    },
    {
     "name": "stderr",
     "output_type": "stream",
     "text": [
      "100%|██████████| 2/2 [03:54<00:00, 117.40s/it]\n"
     ]
    }
   ],
   "source": [
    "# Cargar datos desde cierta fecha a SQL\n",
    "\n",
    "intervalos = [\"1d\",\"4h\",\"1h\"] #[\"1d\",\"12h\",\"8h\",\"6h\",\"4h\",\"2h\",\"1h\"]\n",
    "#simbolos = ['BTCUSDT','TRXUSDT',\"BNBUSDT\",\"XRPUSDT\",\"ETHUSDT\"]\n",
    "if_exist = \"replace\" #['fail', 'replace', 'append']\n",
    "type_upload = 'manual' # ['auto','manual']\n",
    "date_start = '2020-01-01 00:00:00' # En caso de que type_update==manual especificar \n",
    "format_date_start = '%Y-%m-%d %H:%M:%S' # Poner conforme al date_start, en caso de ser auto, no mover\n",
    "# Hacer 2 manual\n",
    "up_to_db(cliente, simbolos[2:4], intervalos[:], \n",
    "            date_start,fecha_format=format_date_start,\n",
    "            type_upload=type_upload,\n",
    "            con_get=con_get,con_set=con_set,if_exist=if_exist)"
   ]
  },
  {
   "cell_type": "code",
   "execution_count": 6,
   "metadata": {},
   "outputs": [],
   "source": [
    "symbol = \"BNBETH\"\n",
    "interval = \"4h\" # [\"1d\",\"12h\",\"8h\",\"6h\",\"4h\",\"2h\",\"1h\"]\n",
    "table_name = symbol+\"_\"+interval"
   ]
  },
  {
   "cell_type": "code",
   "execution_count": 7,
   "metadata": {},
   "outputs": [
    {
     "name": "stdout",
     "output_type": "stream",
     "text": [
      "(2362, 12)\n"
     ]
    },
    {
     "data": {
      "text/html": [
       "<div>\n",
       "<style scoped>\n",
       "    .dataframe tbody tr th:only-of-type {\n",
       "        vertical-align: middle;\n",
       "    }\n",
       "\n",
       "    .dataframe tbody tr th {\n",
       "        vertical-align: top;\n",
       "    }\n",
       "\n",
       "    .dataframe thead th {\n",
       "        text-align: right;\n",
       "    }\n",
       "</style>\n",
       "<table border=\"1\" class=\"dataframe\">\n",
       "  <thead>\n",
       "    <tr style=\"text-align: right;\">\n",
       "      <th></th>\n",
       "      <th>Open_Time</th>\n",
       "      <th>Open</th>\n",
       "      <th>High</th>\n",
       "      <th>Low</th>\n",
       "      <th>Close</th>\n",
       "      <th>Volumne</th>\n",
       "      <th>Close_Time</th>\n",
       "      <th>Quote_asset_vol</th>\n",
       "      <th>Number_trades</th>\n",
       "      <th>Taker_buy_base</th>\n",
       "      <th>Taker_buy_quote</th>\n",
       "      <th>Ignore</th>\n",
       "    </tr>\n",
       "  </thead>\n",
       "  <tbody>\n",
       "    <tr>\n",
       "      <th>2359</th>\n",
       "      <td>2023-09-26 06:00:00</td>\n",
       "      <td>26273.82</td>\n",
       "      <td>26306.39</td>\n",
       "      <td>26088.34</td>\n",
       "      <td>26126.66</td>\n",
       "      <td>4953.27044</td>\n",
       "      <td>2023-09-26 09:59:59.999</td>\n",
       "      <td>1.297190e+08</td>\n",
       "      <td>163297</td>\n",
       "      <td>2434.15969</td>\n",
       "      <td>6.375204e+07</td>\n",
       "      <td>0</td>\n",
       "    </tr>\n",
       "    <tr>\n",
       "      <th>2360</th>\n",
       "      <td>2023-09-26 10:00:00</td>\n",
       "      <td>26126.66</td>\n",
       "      <td>26295.99</td>\n",
       "      <td>26115.00</td>\n",
       "      <td>26247.70</td>\n",
       "      <td>3410.21082</td>\n",
       "      <td>2023-09-26 13:59:59.999</td>\n",
       "      <td>8.938701e+07</td>\n",
       "      <td>127964</td>\n",
       "      <td>1574.64082</td>\n",
       "      <td>4.127608e+07</td>\n",
       "      <td>0</td>\n",
       "    </tr>\n",
       "    <tr>\n",
       "      <th>2361</th>\n",
       "      <td>2023-09-26 14:00:00</td>\n",
       "      <td>26247.70</td>\n",
       "      <td>26288.68</td>\n",
       "      <td>26100.00</td>\n",
       "      <td>26224.77</td>\n",
       "      <td>2436.54003</td>\n",
       "      <td>2023-09-26 17:59:59.999</td>\n",
       "      <td>6.382755e+07</td>\n",
       "      <td>109721</td>\n",
       "      <td>1106.61219</td>\n",
       "      <td>2.898920e+07</td>\n",
       "      <td>0</td>\n",
       "    </tr>\n",
       "  </tbody>\n",
       "</table>\n",
       "</div>"
      ],
      "text/plain": [
       "               Open_Time      Open      High       Low     Close     Volumne  \\\n",
       "2359 2023-09-26 06:00:00  26273.82  26306.39  26088.34  26126.66  4953.27044   \n",
       "2360 2023-09-26 10:00:00  26126.66  26295.99  26115.00  26247.70  3410.21082   \n",
       "2361 2023-09-26 14:00:00  26247.70  26288.68  26100.00  26224.77  2436.54003   \n",
       "\n",
       "                  Close_Time  Quote_asset_vol  Number_trades  Taker_buy_base  \\\n",
       "2359 2023-09-26 09:59:59.999     1.297190e+08         163297      2434.15969   \n",
       "2360 2023-09-26 13:59:59.999     8.938701e+07         127964      1574.64082   \n",
       "2361 2023-09-26 17:59:59.999     6.382755e+07         109721      1106.61219   \n",
       "\n",
       "      Taker_buy_quote Ignore  \n",
       "2359     6.375204e+07      0  \n",
       "2360     4.127608e+07      0  \n",
       "2361     2.898920e+07      0  "
      ]
     },
     "execution_count": 7,
     "metadata": {},
     "output_type": "execute_result"
    }
   ],
   "source": [
    "# Generar un dataframe\n",
    "\n",
    "type_upload = 'manual' # ['auto','manual']\n",
    "date_start = '2022-08-29 00:00:00' # En caso de que type_update==manual especificar \n",
    "format_date_start = '%Y-%m-%d %H:%M:%S' # Poner conforme al date_start, en caso de ser auto, no mover\n",
    "\n",
    "\n",
    "\n",
    "\n",
    "df_aux = generate_dataset(cliente, symbol, interval,\n",
    "                     date_start,fecha_format=format_date_start,\n",
    "                    type_upload=type_upload,\n",
    "                    con=None,table_name=None)\n",
    "print(df_aux.shape)\n",
    "df_aux.tail(3)"
   ]
  },
  {
   "cell_type": "code",
   "execution_count": 16,
   "metadata": {},
   "outputs": [
    {
     "data": {
      "text/plain": [
       "'BNBETH_4h'"
      ]
     },
     "execution_count": 16,
     "metadata": {},
     "output_type": "execute_result"
    }
   ],
   "source": [
    "table_name"
   ]
  },
  {
   "cell_type": "code",
   "execution_count": 7,
   "metadata": {},
   "outputs": [
    {
     "name": "stdout",
     "output_type": "stream",
     "text": [
      "(8188, 11)\n"
     ]
    },
    {
     "data": {
      "text/html": [
       "<div>\n",
       "<style scoped>\n",
       "    .dataframe tbody tr th:only-of-type {\n",
       "        vertical-align: middle;\n",
       "    }\n",
       "\n",
       "    .dataframe tbody tr th {\n",
       "        vertical-align: top;\n",
       "    }\n",
       "\n",
       "    .dataframe thead th {\n",
       "        text-align: right;\n",
       "    }\n",
       "</style>\n",
       "<table border=\"1\" class=\"dataframe\">\n",
       "  <thead>\n",
       "    <tr style=\"text-align: right;\">\n",
       "      <th></th>\n",
       "      <th>Open_Time</th>\n",
       "      <th>Open</th>\n",
       "      <th>High</th>\n",
       "      <th>Low</th>\n",
       "      <th>Close</th>\n",
       "      <th>Volumne</th>\n",
       "      <th>Close_Time</th>\n",
       "      <th>Quote_asset_vol</th>\n",
       "      <th>Number_trades</th>\n",
       "      <th>Taker_buy_base</th>\n",
       "      <th>Taker_buy_quote</th>\n",
       "    </tr>\n",
       "  </thead>\n",
       "  <tbody>\n",
       "    <tr>\n",
       "      <th>8185</th>\n",
       "      <td>2023-09-26 10:00:00</td>\n",
       "      <td>0.1333</td>\n",
       "      <td>0.1338</td>\n",
       "      <td>0.1332</td>\n",
       "      <td>0.1333</td>\n",
       "      <td>706.054</td>\n",
       "      <td>2023-09-26 14:00:00</td>\n",
       "      <td>94.224534</td>\n",
       "      <td>886</td>\n",
       "      <td>394.075</td>\n",
       "      <td>52.595000</td>\n",
       "    </tr>\n",
       "    <tr>\n",
       "      <th>8186</th>\n",
       "      <td>2023-09-26 14:00:00</td>\n",
       "      <td>0.1334</td>\n",
       "      <td>0.1336</td>\n",
       "      <td>0.1330</td>\n",
       "      <td>0.1333</td>\n",
       "      <td>583.004</td>\n",
       "      <td>2023-09-26 18:00:00</td>\n",
       "      <td>77.682224</td>\n",
       "      <td>709</td>\n",
       "      <td>347.541</td>\n",
       "      <td>46.313216</td>\n",
       "    </tr>\n",
       "    <tr>\n",
       "      <th>8187</th>\n",
       "      <td>2023-09-26 18:00:00</td>\n",
       "      <td>0.1333</td>\n",
       "      <td>0.1333</td>\n",
       "      <td>0.1333</td>\n",
       "      <td>0.1333</td>\n",
       "      <td>0.000</td>\n",
       "      <td>2023-09-26 22:00:00</td>\n",
       "      <td>0.000000</td>\n",
       "      <td>0</td>\n",
       "      <td>0.000</td>\n",
       "      <td>0.000000</td>\n",
       "    </tr>\n",
       "  </tbody>\n",
       "</table>\n",
       "</div>"
      ],
      "text/plain": [
       "               Open_Time    Open    High     Low   Close  Volumne  \\\n",
       "8185 2023-09-26 10:00:00  0.1333  0.1338  0.1332  0.1333  706.054   \n",
       "8186 2023-09-26 14:00:00  0.1334  0.1336  0.1330  0.1333  583.004   \n",
       "8187 2023-09-26 18:00:00  0.1333  0.1333  0.1333  0.1333    0.000   \n",
       "\n",
       "              Close_Time  Quote_asset_vol  Number_trades  Taker_buy_base  \\\n",
       "8185 2023-09-26 14:00:00        94.224534            886         394.075   \n",
       "8186 2023-09-26 18:00:00        77.682224            709         347.541   \n",
       "8187 2023-09-26 22:00:00         0.000000              0           0.000   \n",
       "\n",
       "      Taker_buy_quote  \n",
       "8185        52.595000  \n",
       "8186        46.313216  \n",
       "8187         0.000000  "
      ]
     },
     "execution_count": 7,
     "metadata": {},
     "output_type": "execute_result"
    }
   ],
   "source": [
    "# cargar un dataframe de la base MySQL\n",
    "last_df = pd.read_sql_query(f'''\n",
    "                    SELECT *\n",
    "                    FROM {table_name}\n",
    "                                       \n",
    "                    ''', con_get)\n",
    "print(last_df.shape)\n",
    "last_df.tail(3)"
   ]
  },
  {
   "cell_type": "code",
   "execution_count": 15,
   "metadata": {},
   "outputs": [
    {
     "name": "stdout",
     "output_type": "stream",
     "text": [
      "(8146, 11)\n"
     ]
    },
    {
     "data": {
      "text/html": [
       "<div>\n",
       "<style scoped>\n",
       "    .dataframe tbody tr th:only-of-type {\n",
       "        vertical-align: middle;\n",
       "    }\n",
       "\n",
       "    .dataframe tbody tr th {\n",
       "        vertical-align: top;\n",
       "    }\n",
       "\n",
       "    .dataframe thead th {\n",
       "        text-align: right;\n",
       "    }\n",
       "</style>\n",
       "<table border=\"1\" class=\"dataframe\">\n",
       "  <thead>\n",
       "    <tr style=\"text-align: right;\">\n",
       "      <th></th>\n",
       "      <th>Open_Time</th>\n",
       "      <th>Open</th>\n",
       "      <th>High</th>\n",
       "      <th>Low</th>\n",
       "      <th>Close</th>\n",
       "      <th>Volumne</th>\n",
       "      <th>Close_Time</th>\n",
       "      <th>Quote_asset_vol</th>\n",
       "      <th>Number_trades</th>\n",
       "      <th>Taker_buy_base</th>\n",
       "      <th>Taker_buy_quote</th>\n",
       "    </tr>\n",
       "  </thead>\n",
       "  <tbody>\n",
       "    <tr>\n",
       "      <th>8143</th>\n",
       "      <td>2023-09-19 10:00:00</td>\n",
       "      <td>0.1318</td>\n",
       "      <td>0.1322</td>\n",
       "      <td>0.1316</td>\n",
       "      <td>0.1320</td>\n",
       "      <td>504.964</td>\n",
       "      <td>2023-09-19 14:00:00</td>\n",
       "      <td>66.577313</td>\n",
       "      <td>777</td>\n",
       "      <td>245.660</td>\n",
       "      <td>32.401157</td>\n",
       "    </tr>\n",
       "    <tr>\n",
       "      <th>8144</th>\n",
       "      <td>2023-09-19 14:00:00</td>\n",
       "      <td>0.1320</td>\n",
       "      <td>0.1324</td>\n",
       "      <td>0.1319</td>\n",
       "      <td>0.1322</td>\n",
       "      <td>435.861</td>\n",
       "      <td>2023-09-19 18:00:00</td>\n",
       "      <td>57.603659</td>\n",
       "      <td>715</td>\n",
       "      <td>219.278</td>\n",
       "      <td>28.986107</td>\n",
       "    </tr>\n",
       "    <tr>\n",
       "      <th>8145</th>\n",
       "      <td>2023-09-19 18:00:00</td>\n",
       "      <td>0.1321</td>\n",
       "      <td>0.1322</td>\n",
       "      <td>0.1319</td>\n",
       "      <td>0.1319</td>\n",
       "      <td>93.848</td>\n",
       "      <td>2023-09-19 22:00:00</td>\n",
       "      <td>12.395601</td>\n",
       "      <td>146</td>\n",
       "      <td>64.752</td>\n",
       "      <td>8.554184</td>\n",
       "    </tr>\n",
       "  </tbody>\n",
       "</table>\n",
       "</div>"
      ],
      "text/plain": [
       "               Open_Time    Open    High     Low   Close  Volumne  \\\n",
       "8143 2023-09-19 10:00:00  0.1318  0.1322  0.1316  0.1320  504.964   \n",
       "8144 2023-09-19 14:00:00  0.1320  0.1324  0.1319  0.1322  435.861   \n",
       "8145 2023-09-19 18:00:00  0.1321  0.1322  0.1319  0.1319   93.848   \n",
       "\n",
       "              Close_Time  Quote_asset_vol  Number_trades  Taker_buy_base  \\\n",
       "8143 2023-09-19 14:00:00        66.577313            777         245.660   \n",
       "8144 2023-09-19 18:00:00        57.603659            715         219.278   \n",
       "8145 2023-09-19 22:00:00        12.395601            146          64.752   \n",
       "\n",
       "      Taker_buy_quote  \n",
       "8143        32.401157  \n",
       "8144        28.986107  \n",
       "8145         8.554184  "
      ]
     },
     "execution_count": 15,
     "metadata": {},
     "output_type": "execute_result"
    }
   ],
   "source": [
    "# cargar un dataframe de la base MySQL\n",
    "last_df = pd.read_sql_query(f'''\n",
    "                    SELECT *\n",
    "                    FROM {table_name}\n",
    "                                       \n",
    "                    ''', con_get)\n",
    "print(last_df.shape)\n",
    "last_df.tail(3)"
   ]
  },
  {
   "cell_type": "code",
   "execution_count": 9,
   "metadata": {},
   "outputs": [
    {
     "data": {
      "text/plain": [
       "2362"
      ]
     },
     "execution_count": 9,
     "metadata": {},
     "output_type": "execute_result"
    }
   ],
   "source": [
    "df_aux.to_sql(\"prueba\",con_set,if_exists=\"append\")"
   ]
  },
  {
   "cell_type": "code",
   "execution_count": null,
   "metadata": {},
   "outputs": [],
   "source": [
    "# Consulta para obtener una lista de bases de datos\n",
    "query = \"SHOW Tables;\"\n",
    "\n",
    "# Ejecutar la consulta\n",
    "cursor.execute(query)\n",
    "\n",
    "# Obtener los resultados y mostrarlos\n",
    "databases = cursor.fetchall()\n",
    "print(\"Bases de datos disponibles:\")\n",
    "for db in databases:\n",
    "    print(db[0])  # El resultado se encuentra en la posición 0 de cada tupla\n"
   ]
  },
  {
   "cell_type": "code",
   "execution_count": 12,
   "metadata": {},
   "outputs": [],
   "source": [
    "last_df = pd.read_sql_query(f'''\n",
    "            SELECT Close_Time\n",
    "            FROM {table_name}\n",
    "            LIMIT 1\n",
    "            ''', con_get)\n",
    "date_str = last_df.Close_Time.values[0]\n",
    "#date_str = date_str.split(\".\")[0]\n",
    "#last_date = datetime.strptime(date_str, format_date_start)"
   ]
  },
  {
   "cell_type": "code",
   "execution_count": 15,
   "metadata": {},
   "outputs": [
    {
     "data": {
      "text/plain": [
       "'2020-01-01 06:00:00'"
      ]
     },
     "execution_count": 15,
     "metadata": {},
     "output_type": "execute_result"
    }
   ],
   "source": [
    "last_date = last_df.Close_Time.dt.strftime(format_date_start).values[0]\n",
    "last_date"
   ]
  },
  {
   "cell_type": "code",
   "execution_count": null,
   "metadata": {},
   "outputs": [],
   "source": []
  }
 ],
 "metadata": {
  "kernelspec": {
   "display_name": "hlp",
   "language": "python",
   "name": "python3"
  },
  "language_info": {
   "codemirror_mode": {
    "name": "ipython",
    "version": 3
   },
   "file_extension": ".py",
   "mimetype": "text/x-python",
   "name": "python",
   "nbconvert_exporter": "python",
   "pygments_lexer": "ipython3",
   "version": "3.9.12"
  },
  "orig_nbformat": 4
 },
 "nbformat": 4,
 "nbformat_minor": 2
}
